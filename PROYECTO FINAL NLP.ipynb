{
 "cells": [
  {
   "cell_type": "markdown",
   "metadata": {},
   "source": [
    "<img src='https://encrypted-tbn0.gstatic.com/images?q=tbn%3AANd9GcQ-VfNtOyJbsaxu43Kztf_cv1mgBG6ZIQZEVw&usqp=CAU'>\n",
    "\n",
    "# Procesamiento de Lenguage Natural\n",
    "\n",
    "## PROYECTO FINAL ANÁLISIS DE SENTIMIENTOS FNA"
   ]
  },
  {
   "cell_type": "markdown",
   "metadata": {},
   "source": [
    "### PROBLEMA\n",
    "En la actualidad el área de comunicaciones realiza la clasificación de cada uno de los comentarios de forma manual\n",
    "a través de un excel, lo cual conlleva a demoras en la entrega de informes y seguimiento de indicadores.\n",
    "\n",
    "### OBJETIVO\n",
    "Analizar los sentimientos de los tweets relacionados con la entidad Fondo Nacional del Ahorro.\n",
    "\n",
    "\n",
    "### EXTRACCIÓN DE LA DATA\n",
    "Mediante API de de twitter\n",
    "\n",
    "\n",
    "### Limpieza\n",
    "\n",
    "1. Quitar caracteres especiales\n",
    "2. Quitamos stopwords\n",
    "\n"
   ]
  },
  {
   "cell_type": "code",
   "execution_count": 27,
   "metadata": {},
   "outputs": [
    {
     "name": "stdout",
     "output_type": "stream",
     "text": [
      "Requirement already satisfied: TextBlob in c:\\users\\andre\\anaconda3\\lib\\site-packages (0.15.3)\n",
      "Requirement already satisfied: nltk>=3.1 in c:\\users\\andre\\anaconda3\\lib\\site-packages (from TextBlob) (3.5)\n",
      "Requirement already satisfied: regex in c:\\users\\andre\\anaconda3\\lib\\site-packages (from nltk>=3.1->TextBlob) (2020.10.15)\n",
      "Requirement already satisfied: tqdm in c:\\users\\andre\\anaconda3\\lib\\site-packages (from nltk>=3.1->TextBlob) (4.50.2)\n",
      "Requirement already satisfied: joblib in c:\\users\\andre\\anaconda3\\lib\\site-packages (from nltk>=3.1->TextBlob) (0.17.0)\n",
      "Requirement already satisfied: click in c:\\users\\andre\\anaconda3\\lib\\site-packages (from nltk>=3.1->TextBlob) (7.1.2)\n",
      "Requirement already satisfied: vaderSentiment in c:\\users\\andre\\anaconda3\\lib\\site-packages (3.3.2)\n",
      "Requirement already satisfied: requests in c:\\users\\andre\\anaconda3\\lib\\site-packages (from vaderSentiment) (2.24.0)\n",
      "Requirement already satisfied: chardet<4,>=3.0.2 in c:\\users\\andre\\anaconda3\\lib\\site-packages (from requests->vaderSentiment) (3.0.4)\n",
      "Requirement already satisfied: certifi>=2017.4.17 in c:\\users\\andre\\anaconda3\\lib\\site-packages (from requests->vaderSentiment) (2020.6.20)\n",
      "Requirement already satisfied: urllib3!=1.25.0,!=1.25.1,<1.26,>=1.21.1 in c:\\users\\andre\\anaconda3\\lib\\site-packages (from requests->vaderSentiment) (1.25.11)\n",
      "Requirement already satisfied: idna<3,>=2.5 in c:\\users\\andre\\anaconda3\\lib\\site-packages (from requests->vaderSentiment) (2.10)\n",
      "Requirement already satisfied: googletrans in c:\\users\\andre\\anaconda3\\lib\\site-packages (3.0.0)\n",
      "Requirement already satisfied: httpx==0.13.3 in c:\\users\\andre\\anaconda3\\lib\\site-packages (from googletrans) (0.13.3)\n",
      "Requirement already satisfied: sniffio in c:\\users\\andre\\anaconda3\\lib\\site-packages (from httpx==0.13.3->googletrans) (1.2.0)\n",
      "Requirement already satisfied: hstspreload in c:\\users\\andre\\anaconda3\\lib\\site-packages (from httpx==0.13.3->googletrans) (2020.12.22)\n",
      "Requirement already satisfied: rfc3986<2,>=1.3 in c:\\users\\andre\\anaconda3\\lib\\site-packages (from httpx==0.13.3->googletrans) (1.5.0)\n",
      "Requirement already satisfied: httpcore==0.9.* in c:\\users\\andre\\anaconda3\\lib\\site-packages (from httpx==0.13.3->googletrans) (0.9.1)\n",
      "Requirement already satisfied: chardet==3.* in c:\\users\\andre\\anaconda3\\lib\\site-packages (from httpx==0.13.3->googletrans) (3.0.4)\n",
      "Requirement already satisfied: idna==2.* in c:\\users\\andre\\anaconda3\\lib\\site-packages (from httpx==0.13.3->googletrans) (2.10)\n",
      "Requirement already satisfied: certifi in c:\\users\\andre\\anaconda3\\lib\\site-packages (from httpx==0.13.3->googletrans) (2020.6.20)\n",
      "Requirement already satisfied: h2==3.* in c:\\users\\andre\\anaconda3\\lib\\site-packages (from httpcore==0.9.*->httpx==0.13.3->googletrans) (3.2.0)\n",
      "Requirement already satisfied: h11<0.10,>=0.8 in c:\\users\\andre\\anaconda3\\lib\\site-packages (from httpcore==0.9.*->httpx==0.13.3->googletrans) (0.9.0)\n",
      "Requirement already satisfied: hyperframe<6,>=5.2.0 in c:\\users\\andre\\anaconda3\\lib\\site-packages (from h2==3.*->httpcore==0.9.*->httpx==0.13.3->googletrans) (5.2.0)\n",
      "Requirement already satisfied: hpack<4,>=3.0 in c:\\users\\andre\\anaconda3\\lib\\site-packages (from h2==3.*->httpcore==0.9.*->httpx==0.13.3->googletrans) (3.0.0)\n",
      "Requirement already satisfied: flair in c:\\users\\andre\\anaconda3\\lib\\site-packages (0.8.0.post1)\n",
      "Requirement already satisfied: torch<=1.7.1,>=1.5.0 in c:\\users\\andre\\anaconda3\\lib\\site-packages (from flair) (1.7.1)\n",
      "Requirement already satisfied: scikit-learn>=0.21.3 in c:\\users\\andre\\anaconda3\\lib\\site-packages (from flair) (0.23.2)\n",
      "Requirement already satisfied: gensim<=3.8.3,>=3.4.0 in c:\\users\\andre\\anaconda3\\lib\\site-packages (from flair) (3.8.3)\n",
      "Requirement already satisfied: sentencepiece==0.1.95 in c:\\users\\andre\\anaconda3\\lib\\site-packages (from flair) (0.1.95)\n",
      "Requirement already satisfied: gdown==3.12.2 in c:\\users\\andre\\anaconda3\\lib\\site-packages (from flair) (3.12.2)\n",
      "Requirement already satisfied: langdetect in c:\\users\\andre\\anaconda3\\lib\\site-packages (from flair) (1.0.8)\n",
      "Requirement already satisfied: python-dateutil>=2.6.1 in c:\\users\\andre\\anaconda3\\lib\\site-packages (from flair) (2.8.1)\n",
      "Requirement already satisfied: sqlitedict>=1.6.0 in c:\\users\\andre\\anaconda3\\lib\\site-packages (from flair) (1.7.0)\n",
      "Requirement already satisfied: konoha<5.0.0,>=4.0.0 in c:\\users\\andre\\anaconda3\\lib\\site-packages (from flair) (4.6.5)\n",
      "Requirement already satisfied: lxml in c:\\users\\andre\\anaconda3\\lib\\site-packages (from flair) (4.6.1)\n",
      "Requirement already satisfied: matplotlib>=2.2.3 in c:\\users\\andre\\anaconda3\\lib\\site-packages (from flair) (3.3.2)\n",
      "Requirement already satisfied: deprecated>=1.2.4 in c:\\users\\andre\\anaconda3\\lib\\site-packages (from flair) (1.2.12)\n",
      "Requirement already satisfied: hyperopt>=0.1.1 in c:\\users\\andre\\anaconda3\\lib\\site-packages (from flair) (0.2.5)\n",
      "Requirement already satisfied: huggingface-hub in c:\\users\\andre\\anaconda3\\lib\\site-packages (from flair) (0.0.10)\n",
      "Requirement already satisfied: regex in c:\\users\\andre\\anaconda3\\lib\\site-packages (from flair) (2020.10.15)\n",
      "Requirement already satisfied: mpld3==0.3 in c:\\users\\andre\\anaconda3\\lib\\site-packages (from flair) (0.3)\n",
      "Requirement already satisfied: numpy<1.20.0 in c:\\users\\andre\\anaconda3\\lib\\site-packages (from flair) (1.19.5)\n",
      "Requirement already satisfied: ftfy in c:\\users\\andre\\anaconda3\\lib\\site-packages (from flair) (6.0.3)\n",
      "Requirement already satisfied: transformers>=4.0.0 in c:\\users\\andre\\anaconda3\\lib\\site-packages (from flair) (4.6.1)\n",
      "Requirement already satisfied: tqdm>=4.26.0 in c:\\users\\andre\\anaconda3\\lib\\site-packages (from flair) (4.50.2)\n",
      "Requirement already satisfied: bpemb>=0.3.2 in c:\\users\\andre\\anaconda3\\lib\\site-packages (from flair) (0.3.3)\n",
      "Requirement already satisfied: tabulate in c:\\users\\andre\\anaconda3\\lib\\site-packages (from flair) (0.8.9)\n",
      "Requirement already satisfied: segtok>=1.5.7 in c:\\users\\andre\\anaconda3\\lib\\site-packages (from flair) (1.5.10)\n",
      "Requirement already satisfied: janome in c:\\users\\andre\\anaconda3\\lib\\site-packages (from flair) (0.4.1)\n",
      "Requirement already satisfied: typing-extensions in c:\\users\\andre\\anaconda3\\lib\\site-packages (from torch<=1.7.1,>=1.5.0->flair) (3.7.4.3)\n",
      "Requirement already satisfied: threadpoolctl>=2.0.0 in c:\\users\\andre\\anaconda3\\lib\\site-packages (from scikit-learn>=0.21.3->flair) (2.1.0)\n",
      "Requirement already satisfied: scipy>=0.19.1 in c:\\users\\andre\\anaconda3\\lib\\site-packages (from scikit-learn>=0.21.3->flair) (1.5.2)\n",
      "Requirement already satisfied: joblib>=0.11 in c:\\users\\andre\\anaconda3\\lib\\site-packages (from scikit-learn>=0.21.3->flair) (0.17.0)\n",
      "Requirement already satisfied: Cython==0.29.14 in c:\\users\\andre\\anaconda3\\lib\\site-packages (from gensim<=3.8.3,>=3.4.0->flair) (0.29.14)\n",
      "Requirement already satisfied: smart-open>=1.8.1 in c:\\users\\andre\\anaconda3\\lib\\site-packages (from gensim<=3.8.3,>=3.4.0->flair) (3.0.0)\n",
      "Requirement already satisfied: six>=1.5.0 in c:\\users\\andre\\anaconda3\\lib\\site-packages (from gensim<=3.8.3,>=3.4.0->flair) (1.15.0)\n",
      "Requirement already satisfied: filelock in c:\\users\\andre\\anaconda3\\lib\\site-packages (from gdown==3.12.2->flair) (3.0.12)\n",
      "Requirement already satisfied: requests[socks] in c:\\users\\andre\\anaconda3\\lib\\site-packages (from gdown==3.12.2->flair) (2.24.0)\n",
      "Requirement already satisfied: overrides<4.0.0,>=3.0.0 in c:\\users\\andre\\anaconda3\\lib\\site-packages (from konoha<5.0.0,>=4.0.0->flair) (3.1.0)\n",
      "Requirement already satisfied: importlib-metadata<4.0.0,>=3.7.0 in c:\\users\\andre\\anaconda3\\lib\\site-packages (from konoha<5.0.0,>=4.0.0->flair) (3.10.1)\n",
      "Requirement already satisfied: pillow>=6.2.0 in c:\\users\\andre\\anaconda3\\lib\\site-packages (from matplotlib>=2.2.3->flair) (8.0.1)\n",
      "Requirement already satisfied: certifi>=2020.06.20 in c:\\users\\andre\\anaconda3\\lib\\site-packages (from matplotlib>=2.2.3->flair) (2020.6.20)\n",
      "Requirement already satisfied: kiwisolver>=1.0.1 in c:\\users\\andre\\anaconda3\\lib\\site-packages (from matplotlib>=2.2.3->flair) (1.3.0)\n",
      "Requirement already satisfied: cycler>=0.10 in c:\\users\\andre\\anaconda3\\lib\\site-packages (from matplotlib>=2.2.3->flair) (0.10.0)\n",
      "Requirement already satisfied: pyparsing!=2.0.4,!=2.1.2,!=2.1.6,>=2.0.3 in c:\\users\\andre\\anaconda3\\lib\\site-packages (from matplotlib>=2.2.3->flair) (2.4.7)\n",
      "Requirement already satisfied: wrapt<2,>=1.10 in c:\\users\\andre\\anaconda3\\lib\\site-packages (from deprecated>=1.2.4->flair) (1.11.2)\n",
      "Requirement already satisfied: future in c:\\users\\andre\\anaconda3\\lib\\site-packages (from hyperopt>=0.1.1->flair) (0.18.2)\n",
      "Requirement already satisfied: cloudpickle in c:\\users\\andre\\anaconda3\\lib\\site-packages (from hyperopt>=0.1.1->flair) (1.6.0)\n",
      "Requirement already satisfied: networkx>=2.2 in c:\\users\\andre\\anaconda3\\lib\\site-packages (from hyperopt>=0.1.1->flair) (2.5)\n",
      "Requirement already satisfied: wcwidth in c:\\users\\andre\\anaconda3\\lib\\site-packages (from ftfy->flair) (0.2.5)\n",
      "Requirement already satisfied: tokenizers<0.11,>=0.10.1 in c:\\users\\andre\\anaconda3\\lib\\site-packages (from transformers>=4.0.0->flair) (0.10.3)\n",
      "Requirement already satisfied: packaging in c:\\users\\andre\\anaconda3\\lib\\site-packages (from transformers>=4.0.0->flair) (20.4)\n",
      "Requirement already satisfied: sacremoses in c:\\users\\andre\\anaconda3\\lib\\site-packages (from transformers>=4.0.0->flair) (0.0.45)\n",
      "Requirement already satisfied: urllib3!=1.25.0,!=1.25.1,<1.26,>=1.21.1 in c:\\users\\andre\\anaconda3\\lib\\site-packages (from requests[socks]->gdown==3.12.2->flair) (1.25.11)\n",
      "Requirement already satisfied: idna<3,>=2.5 in c:\\users\\andre\\anaconda3\\lib\\site-packages (from requests[socks]->gdown==3.12.2->flair) (2.10)\n",
      "Requirement already satisfied: chardet<4,>=3.0.2 in c:\\users\\andre\\anaconda3\\lib\\site-packages (from requests[socks]->gdown==3.12.2->flair) (3.0.4)\n",
      "Requirement already satisfied: PySocks!=1.5.7,>=1.5.6; extra == \"socks\" in c:\\users\\andre\\anaconda3\\lib\\site-packages (from requests[socks]->gdown==3.12.2->flair) (1.7.1)\n",
      "Requirement already satisfied: zipp>=0.5 in c:\\users\\andre\\anaconda3\\lib\\site-packages (from importlib-metadata<4.0.0,>=3.7.0->konoha<5.0.0,>=4.0.0->flair) (3.4.0)\n",
      "Requirement already satisfied: decorator>=4.3.0 in c:\\users\\andre\\anaconda3\\lib\\site-packages (from networkx>=2.2->hyperopt>=0.1.1->flair) (4.4.2)\n",
      "Requirement already satisfied: click in c:\\users\\andre\\anaconda3\\lib\\site-packages (from sacremoses->transformers>=4.0.0->flair) (7.1.2)\n",
      "Requirement already satisfied: flair in c:\\users\\andre\\anaconda3\\lib\\site-packages (0.8.0.post1)\n",
      "Requirement already satisfied: numpy<1.20.0 in c:\\users\\andre\\anaconda3\\lib\\site-packages (from flair) (1.19.5)\n",
      "Requirement already satisfied: scikit-learn>=0.21.3 in c:\\users\\andre\\anaconda3\\lib\\site-packages (from flair) (0.23.2)\n",
      "Requirement already satisfied: gensim<=3.8.3,>=3.4.0 in c:\\users\\andre\\anaconda3\\lib\\site-packages (from flair) (3.8.3)\n",
      "Requirement already satisfied: gdown==3.12.2 in c:\\users\\andre\\anaconda3\\lib\\site-packages (from flair) (3.12.2)\n",
      "Requirement already satisfied: tabulate in c:\\users\\andre\\anaconda3\\lib\\site-packages (from flair) (0.8.9)\n",
      "Requirement already satisfied: mpld3==0.3 in c:\\users\\andre\\anaconda3\\lib\\site-packages (from flair) (0.3)\n",
      "Requirement already satisfied: ftfy in c:\\users\\andre\\anaconda3\\lib\\site-packages (from flair) (6.0.3)\n",
      "Requirement already satisfied: bpemb>=0.3.2 in c:\\users\\andre\\anaconda3\\lib\\site-packages (from flair) (0.3.3)\n",
      "Requirement already satisfied: lxml in c:\\users\\andre\\anaconda3\\lib\\site-packages (from flair) (4.6.1)\n",
      "Requirement already satisfied: sentencepiece==0.1.95 in c:\\users\\andre\\anaconda3\\lib\\site-packages (from flair) (0.1.95)\n",
      "Requirement already satisfied: huggingface-hub in c:\\users\\andre\\anaconda3\\lib\\site-packages (from flair) (0.0.10)\n",
      "Requirement already satisfied: langdetect in c:\\users\\andre\\anaconda3\\lib\\site-packages (from flair) (1.0.8)\n",
      "Requirement already satisfied: deprecated>=1.2.4 in c:\\users\\andre\\anaconda3\\lib\\site-packages (from flair) (1.2.12)\n",
      "Requirement already satisfied: segtok>=1.5.7 in c:\\users\\andre\\anaconda3\\lib\\site-packages (from flair) (1.5.10)\n",
      "Requirement already satisfied: hyperopt>=0.1.1 in c:\\users\\andre\\anaconda3\\lib\\site-packages (from flair) (0.2.5)\n",
      "Requirement already satisfied: konoha<5.0.0,>=4.0.0 in c:\\users\\andre\\anaconda3\\lib\\site-packages (from flair) (4.6.5)\n",
      "Requirement already satisfied: sqlitedict>=1.6.0 in c:\\users\\andre\\anaconda3\\lib\\site-packages (from flair) (1.7.0)\n",
      "Requirement already satisfied: janome in c:\\users\\andre\\anaconda3\\lib\\site-packages (from flair) (0.4.1)\n",
      "Requirement already satisfied: python-dateutil>=2.6.1 in c:\\users\\andre\\anaconda3\\lib\\site-packages (from flair) (2.8.1)\n",
      "Requirement already satisfied: matplotlib>=2.2.3 in c:\\users\\andre\\anaconda3\\lib\\site-packages (from flair) (3.3.2)\n",
      "Requirement already satisfied: tqdm>=4.26.0 in c:\\users\\andre\\anaconda3\\lib\\site-packages (from flair) (4.50.2)\n",
      "Requirement already satisfied: transformers>=4.0.0 in c:\\users\\andre\\anaconda3\\lib\\site-packages (from flair) (4.6.1)\n",
      "Requirement already satisfied: torch<=1.7.1,>=1.5.0 in c:\\users\\andre\\anaconda3\\lib\\site-packages (from flair) (1.7.1)\n",
      "Requirement already satisfied: regex in c:\\users\\andre\\anaconda3\\lib\\site-packages (from flair) (2020.10.15)\n",
      "Requirement already satisfied: scipy>=0.19.1 in c:\\users\\andre\\anaconda3\\lib\\site-packages (from scikit-learn>=0.21.3->flair) (1.5.2)\n",
      "Requirement already satisfied: joblib>=0.11 in c:\\users\\andre\\anaconda3\\lib\\site-packages (from scikit-learn>=0.21.3->flair) (0.17.0)\n",
      "Requirement already satisfied: threadpoolctl>=2.0.0 in c:\\users\\andre\\anaconda3\\lib\\site-packages (from scikit-learn>=0.21.3->flair) (2.1.0)\n",
      "Requirement already satisfied: six>=1.5.0 in c:\\users\\andre\\anaconda3\\lib\\site-packages (from gensim<=3.8.3,>=3.4.0->flair) (1.15.0)\n",
      "Requirement already satisfied: smart-open>=1.8.1 in c:\\users\\andre\\anaconda3\\lib\\site-packages (from gensim<=3.8.3,>=3.4.0->flair) (3.0.0)\n",
      "Requirement already satisfied: Cython==0.29.14 in c:\\users\\andre\\anaconda3\\lib\\site-packages (from gensim<=3.8.3,>=3.4.0->flair) (0.29.14)\n",
      "Requirement already satisfied: filelock in c:\\users\\andre\\anaconda3\\lib\\site-packages (from gdown==3.12.2->flair) (3.0.12)\n",
      "Requirement already satisfied: requests[socks] in c:\\users\\andre\\anaconda3\\lib\\site-packages (from gdown==3.12.2->flair) (2.24.0)\n",
      "Requirement already satisfied: wcwidth in c:\\users\\andre\\anaconda3\\lib\\site-packages (from ftfy->flair) (0.2.5)\n",
      "Requirement already satisfied: typing-extensions in c:\\users\\andre\\anaconda3\\lib\\site-packages (from huggingface-hub->flair) (3.7.4.3)\n",
      "Requirement already satisfied: wrapt<2,>=1.10 in c:\\users\\andre\\anaconda3\\lib\\site-packages (from deprecated>=1.2.4->flair) (1.11.2)\n",
      "Requirement already satisfied: future in c:\\users\\andre\\anaconda3\\lib\\site-packages (from hyperopt>=0.1.1->flair) (0.18.2)\n",
      "Requirement already satisfied: cloudpickle in c:\\users\\andre\\anaconda3\\lib\\site-packages (from hyperopt>=0.1.1->flair) (1.6.0)\n",
      "Requirement already satisfied: networkx>=2.2 in c:\\users\\andre\\anaconda3\\lib\\site-packages (from hyperopt>=0.1.1->flair) (2.5)\n",
      "Requirement already satisfied: overrides<4.0.0,>=3.0.0 in c:\\users\\andre\\anaconda3\\lib\\site-packages (from konoha<5.0.0,>=4.0.0->flair) (3.1.0)\n",
      "Requirement already satisfied: importlib-metadata<4.0.0,>=3.7.0 in c:\\users\\andre\\anaconda3\\lib\\site-packages (from konoha<5.0.0,>=4.0.0->flair) (3.10.1)\n",
      "Requirement already satisfied: certifi>=2020.06.20 in c:\\users\\andre\\anaconda3\\lib\\site-packages (from matplotlib>=2.2.3->flair) (2020.6.20)\n",
      "Requirement already satisfied: cycler>=0.10 in c:\\users\\andre\\anaconda3\\lib\\site-packages (from matplotlib>=2.2.3->flair) (0.10.0)\n",
      "Requirement already satisfied: pillow>=6.2.0 in c:\\users\\andre\\anaconda3\\lib\\site-packages (from matplotlib>=2.2.3->flair) (8.0.1)\n",
      "Requirement already satisfied: kiwisolver>=1.0.1 in c:\\users\\andre\\anaconda3\\lib\\site-packages (from matplotlib>=2.2.3->flair) (1.3.0)\n",
      "Requirement already satisfied: pyparsing!=2.0.4,!=2.1.2,!=2.1.6,>=2.0.3 in c:\\users\\andre\\anaconda3\\lib\\site-packages (from matplotlib>=2.2.3->flair) (2.4.7)\n",
      "Requirement already satisfied: tokenizers<0.11,>=0.10.1 in c:\\users\\andre\\anaconda3\\lib\\site-packages (from transformers>=4.0.0->flair) (0.10.3)\n",
      "Requirement already satisfied: sacremoses in c:\\users\\andre\\anaconda3\\lib\\site-packages (from transformers>=4.0.0->flair) (0.0.45)\n",
      "Requirement already satisfied: packaging in c:\\users\\andre\\anaconda3\\lib\\site-packages (from transformers>=4.0.0->flair) (20.4)\n",
      "Requirement already satisfied: urllib3!=1.25.0,!=1.25.1,<1.26,>=1.21.1 in c:\\users\\andre\\anaconda3\\lib\\site-packages (from requests[socks]->gdown==3.12.2->flair) (1.25.11)\n",
      "Requirement already satisfied: chardet<4,>=3.0.2 in c:\\users\\andre\\anaconda3\\lib\\site-packages (from requests[socks]->gdown==3.12.2->flair) (3.0.4)\n",
      "Requirement already satisfied: idna<3,>=2.5 in c:\\users\\andre\\anaconda3\\lib\\site-packages (from requests[socks]->gdown==3.12.2->flair) (2.10)\n",
      "Requirement already satisfied: PySocks!=1.5.7,>=1.5.6; extra == \"socks\" in c:\\users\\andre\\anaconda3\\lib\\site-packages (from requests[socks]->gdown==3.12.2->flair) (1.7.1)\n",
      "Requirement already satisfied: decorator>=4.3.0 in c:\\users\\andre\\anaconda3\\lib\\site-packages (from networkx>=2.2->hyperopt>=0.1.1->flair) (4.4.2)\n",
      "Requirement already satisfied: zipp>=0.5 in c:\\users\\andre\\anaconda3\\lib\\site-packages (from importlib-metadata<4.0.0,>=3.7.0->konoha<5.0.0,>=4.0.0->flair) (3.4.0)\n",
      "Requirement already satisfied: click in c:\\users\\andre\\anaconda3\\lib\\site-packages (from sacremoses->transformers>=4.0.0->flair) (7.1.2)\n"
     ]
    },
    {
     "name": "stderr",
     "output_type": "stream",
     "text": [
      "    ERROR: Command errored out with exit status 1:\n",
      "     command: 'C:\\Users\\andre\\Anaconda3\\python.exe' -c 'import sys, setuptools, tokenize; sys.argv[0] = '\"'\"'C:\\\\Users\\\\andre\\\\AppData\\\\Local\\\\Temp\\\\pip-install-b2htm80y\\\\textclassifier\\\\setup.py'\"'\"'; __file__='\"'\"'C:\\\\Users\\\\andre\\\\AppData\\\\Local\\\\Temp\\\\pip-install-b2htm80y\\\\textclassifier\\\\setup.py'\"'\"';f=getattr(tokenize, '\"'\"'open'\"'\"', open)(__file__);code=f.read().replace('\"'\"'\\r\\n'\"'\"', '\"'\"'\\n'\"'\"');f.close();exec(compile(code, __file__, '\"'\"'exec'\"'\"'))' egg_info --egg-base 'C:\\Users\\andre\\AppData\\Local\\Temp\\pip-pip-egg-info-1hrgqr7_'\n",
      "         cwd: C:\\Users\\andre\\AppData\\Local\\Temp\\pip-install-b2htm80y\\textclassifier\\\n",
      "    Complete output (5 lines):\n",
      "    Traceback (most recent call last):\n",
      "      File \"<string>\", line 1, in <module>\n",
      "      File \"C:\\Users\\andre\\Anaconda3\\lib\\codecs.py\", line 322, in decode\n",
      "        (result, consumed) = self._buffer_decode(data, self.errors, final)\n",
      "    UnicodeDecodeError: 'utf-8' codec can't decode byte 0xc4 in position 35: invalid continuation byte\n",
      "    ----------------------------------------\n",
      "ERROR: Command errored out with exit status 1: python setup.py egg_info Check the logs for full command output.\n"
     ]
    },
    {
     "name": "stdout",
     "output_type": "stream",
     "text": [
      "Collecting TextClassifier\n",
      "  Using cached TextClassifier-0.0.8.tar.gz (4.7 kB)\n"
     ]
    }
   ],
   "source": [
    "##pip install tweepy\n",
    "import tweepy\n",
    "import pandas as pd\n",
    "from nltk.corpus import stopwords\n",
    "stopwords = stopwords.words('spanish')\n",
    "!pip install TextBlob \n",
    "from textblob import TextBlob\n",
    "import re\n",
    "import time\n",
    "from pprint import pprint\n",
    "import json\n",
    "import numpy as np \n",
    "import matplotlib.pyplot as plt \n",
    "import seaborn as sns\n",
    "from nltk.corpus import stopwords\n",
    "stopwords = stopwords.words('spanish')\n",
    "!pip install vaderSentiment\n",
    "from vaderSentiment.vaderSentiment import SentimentIntensityAnalyzer\n",
    "!pip install googletrans\n",
    "import googletrans\n",
    "from googletrans import Translator\n",
    "!pip install flair\n",
    "from flair.models import TextClassifier\n",
    "from flair.data import Sentence\n",
    "!pip install flair\n",
    "!pip install TextClassifier\n",
    "from flair.models import TextClassifier\n",
    "from flair.data import Sentence"
   ]
  },
  {
   "cell_type": "code",
   "execution_count": 10,
   "metadata": {},
   "outputs": [
    {
     "data": {
      "text/plain": [
       "dict_keys(['api_key', 'api_secret_key', 'access_token', 'access_token_secret', 'bearer_token'])"
      ]
     },
     "execution_count": 10,
     "metadata": {},
     "output_type": "execute_result"
    }
   ],
   "source": [
    "# Leer las llaves\n",
    "keys = pd.read_csv(\"mis_llaves2.csv\", header=None)\n",
    "keys = dict(zip(keys[0],keys[1]))\n",
    "keys.keys()\n"
   ]
  },
  {
   "cell_type": "code",
   "execution_count": 11,
   "metadata": {},
   "outputs": [],
   "source": [
    "auth = tweepy.OAuthHandler(keys['api_key'], keys['api_secret_key'])\n",
    "auth.set_access_token(keys['access_token'], keys['access_token_secret'])\n",
    "api = tweepy.API(auth, wait_on_rate_limit=True)"
   ]
  },
  {
   "cell_type": "code",
   "execution_count": 12,
   "metadata": {},
   "outputs": [],
   "source": [
    "tweets = tweepy.Cursor(api.search,\n",
    "                       q=['Fondo nacional del ahorro -RT'],\n",
    "                       lang='es',\n",
    "                       geocode='4.7110,-74.0721,100km',\n",
    "                       tweet_mode='extended',\n",
    "                       include_rts=False,\n",
    "                       ).items(100)"
   ]
  },
  {
   "cell_type": "code",
   "execution_count": 13,
   "metadata": {},
   "outputs": [
    {
     "data": {
      "text/plain": [
       "<tweepy.cursor.ItemIterator at 0x1a590c966d0>"
      ]
     },
     "execution_count": 13,
     "metadata": {},
     "output_type": "execute_result"
    }
   ],
   "source": [
    "tweets"
   ]
  },
  {
   "cell_type": "code",
   "execution_count": 15,
   "metadata": {},
   "outputs": [],
   "source": [
    "t = []\n",
    "for tweet in tweets:\n",
    "    temp = []\n",
    "    temp.append(tweet.full_text)\n",
    "    temp.append(tweet.created_at)\n",
    "    temp.append(\"Bogota\")\n",
    "    temp.append(tweet.user.location)\n",
    "    temp.append(tweet.id)\n",
    "    temp.append(f\"https://twitter.com/i/web/status/{tweet.id}\")\n",
    "    t.append(temp)"
   ]
  },
  {
   "cell_type": "code",
   "execution_count": 16,
   "metadata": {},
   "outputs": [
    {
     "data": {
      "text/html": [
       "<div>\n",
       "<style scoped>\n",
       "    .dataframe tbody tr th:only-of-type {\n",
       "        vertical-align: middle;\n",
       "    }\n",
       "\n",
       "    .dataframe tbody tr th {\n",
       "        vertical-align: top;\n",
       "    }\n",
       "\n",
       "    .dataframe thead th {\n",
       "        text-align: right;\n",
       "    }\n",
       "</style>\n",
       "<table border=\"1\" class=\"dataframe\">\n",
       "  <thead>\n",
       "    <tr style=\"text-align: right;\">\n",
       "      <th></th>\n",
       "      <th>tweet</th>\n",
       "      <th>date</th>\n",
       "      <th>city</th>\n",
       "      <th>user_location</th>\n",
       "      <th>id</th>\n",
       "      <th>link</th>\n",
       "    </tr>\n",
       "  </thead>\n",
       "  <tbody>\n",
       "    <tr>\n",
       "      <th>0</th>\n",
       "      <td>@moneytorxbox @LaAmbivalentte @JoMalagon @Ivan...</td>\n",
       "      <td>2021-06-10 15:22:55</td>\n",
       "      <td>Bogota</td>\n",
       "      <td>Bogotá, D.C. - Colombia</td>\n",
       "      <td>1403009789660123139</td>\n",
       "      <td>https://twitter.com/i/web/status/1403009789660...</td>\n",
       "    </tr>\n",
       "    <tr>\n",
       "      <th>1</th>\n",
       "      <td>@LaMega Yo conocí a @CaroCarreta  hace un año ...</td>\n",
       "      <td>2021-06-10 12:14:35</td>\n",
       "      <td>Bogota</td>\n",
       "      <td>BOGOTA D.C.</td>\n",
       "      <td>1402962396570923012</td>\n",
       "      <td>https://twitter.com/i/web/status/1402962396570...</td>\n",
       "    </tr>\n",
       "    <tr>\n",
       "      <th>2</th>\n",
       "      <td>@LaAmbivalentte @JoMalagon @IvanDuque @infopre...</td>\n",
       "      <td>2021-06-09 14:25:09</td>\n",
       "      <td>Bogota</td>\n",
       "      <td>Bogotá, D.C. - Colombia</td>\n",
       "      <td>1402632863846223872</td>\n",
       "      <td>https://twitter.com/i/web/status/1402632863846...</td>\n",
       "    </tr>\n",
       "    <tr>\n",
       "      <th>3</th>\n",
       "      <td>@LaAmbivalentte @JoMalagon @carlosruizma @info...</td>\n",
       "      <td>2021-06-09 14:16:46</td>\n",
       "      <td>Bogota</td>\n",
       "      <td>Bogotá, D.C. - Colombia</td>\n",
       "      <td>1402630756242018304</td>\n",
       "      <td>https://twitter.com/i/web/status/1402630756242...</td>\n",
       "    </tr>\n",
       "    <tr>\n",
       "      <th>4</th>\n",
       "      <td>#Nacional👉El Fondo Nacional del Ahorro obtuvo ...</td>\n",
       "      <td>2021-06-08 16:00:00</td>\n",
       "      <td>Bogota</td>\n",
       "      <td>Ibagué, Colombia</td>\n",
       "      <td>1402294346578231297</td>\n",
       "      <td>https://twitter.com/i/web/status/1402294346578...</td>\n",
       "    </tr>\n",
       "    <tr>\n",
       "      <th>5</th>\n",
       "      <td>¿Ya leyeron el proyecto de ley PL 413/21? Sobr...</td>\n",
       "      <td>2021-06-07 14:57:49</td>\n",
       "      <td>Bogota</td>\n",
       "      <td>Bogotá, D.C., Colombia</td>\n",
       "      <td>1401916310775373824</td>\n",
       "      <td>https://twitter.com/i/web/status/1401916310775...</td>\n",
       "    </tr>\n",
       "    <tr>\n",
       "      <th>6</th>\n",
       "      <td>Una vez más, la calificadora de riesgos BRC St...</td>\n",
       "      <td>2021-06-05 00:16:34</td>\n",
       "      <td>Bogota</td>\n",
       "      <td>Bogotá, Colombia</td>\n",
       "      <td>1400969760695848961</td>\n",
       "      <td>https://twitter.com/i/web/status/1400969760695...</td>\n",
       "    </tr>\n",
       "    <tr>\n",
       "      <th>7</th>\n",
       "      <td>#UnPaísMásConectado | \"Estoy pagando un aparta...</td>\n",
       "      <td>2021-06-03 21:13:00</td>\n",
       "      <td>Bogota</td>\n",
       "      <td>Bogotá, Colombia</td>\n",
       "      <td>1400561176170287106</td>\n",
       "      <td>https://twitter.com/i/web/status/1400561176170...</td>\n",
       "    </tr>\n",
       "    <tr>\n",
       "      <th>8</th>\n",
       "      <td>@CLAO2420 @FNAahorro 2/2 del 90% es el Fondo N...</td>\n",
       "      <td>2021-06-03 17:20:01</td>\n",
       "      <td>Bogota</td>\n",
       "      <td>Bogotá, D.C. - Colombia</td>\n",
       "      <td>1400502545852796933</td>\n",
       "      <td>https://twitter.com/i/web/status/1400502545852...</td>\n",
       "    </tr>\n",
       "    <tr>\n",
       "      <th>9</th>\n",
       "      <td>@ogcoss @JoMalagon 2/2 es el Fondo Nacional de...</td>\n",
       "      <td>2021-06-03 16:13:13</td>\n",
       "      <td>Bogota</td>\n",
       "      <td>Bogotá, D.C. - Colombia</td>\n",
       "      <td>1400485734360944654</td>\n",
       "      <td>https://twitter.com/i/web/status/1400485734360...</td>\n",
       "    </tr>\n",
       "    <tr>\n",
       "      <th>10</th>\n",
       "      <td>@Karolin95988920 @JoMalagon 2/2 del 90% es el ...</td>\n",
       "      <td>2021-06-03 15:58:30</td>\n",
       "      <td>Bogota</td>\n",
       "      <td>Bogotá, D.C. - Colombia</td>\n",
       "      <td>1400482029578461184</td>\n",
       "      <td>https://twitter.com/i/web/status/1400482029578...</td>\n",
       "    </tr>\n",
       "    <tr>\n",
       "      <th>11</th>\n",
       "      <td>Señores @zonafranca en el fondo nacional del a...</td>\n",
       "      <td>2021-06-03 02:20:11</td>\n",
       "      <td>Bogota</td>\n",
       "      <td>La Calera, Cundinamarca</td>\n",
       "      <td>1400276095870644227</td>\n",
       "      <td>https://twitter.com/i/web/status/1400276095870...</td>\n",
       "    </tr>\n",
       "  </tbody>\n",
       "</table>\n",
       "</div>"
      ],
      "text/plain": [
       "                                                tweet                date  \\\n",
       "0   @moneytorxbox @LaAmbivalentte @JoMalagon @Ivan... 2021-06-10 15:22:55   \n",
       "1   @LaMega Yo conocí a @CaroCarreta  hace un año ... 2021-06-10 12:14:35   \n",
       "2   @LaAmbivalentte @JoMalagon @IvanDuque @infopre... 2021-06-09 14:25:09   \n",
       "3   @LaAmbivalentte @JoMalagon @carlosruizma @info... 2021-06-09 14:16:46   \n",
       "4   #Nacional👉El Fondo Nacional del Ahorro obtuvo ... 2021-06-08 16:00:00   \n",
       "5   ¿Ya leyeron el proyecto de ley PL 413/21? Sobr... 2021-06-07 14:57:49   \n",
       "6   Una vez más, la calificadora de riesgos BRC St... 2021-06-05 00:16:34   \n",
       "7   #UnPaísMásConectado | \"Estoy pagando un aparta... 2021-06-03 21:13:00   \n",
       "8   @CLAO2420 @FNAahorro 2/2 del 90% es el Fondo N... 2021-06-03 17:20:01   \n",
       "9   @ogcoss @JoMalagon 2/2 es el Fondo Nacional de... 2021-06-03 16:13:13   \n",
       "10  @Karolin95988920 @JoMalagon 2/2 del 90% es el ... 2021-06-03 15:58:30   \n",
       "11  Señores @zonafranca en el fondo nacional del a... 2021-06-03 02:20:11   \n",
       "\n",
       "      city            user_location                   id  \\\n",
       "0   Bogota  Bogotá, D.C. - Colombia  1403009789660123139   \n",
       "1   Bogota              BOGOTA D.C.  1402962396570923012   \n",
       "2   Bogota  Bogotá, D.C. - Colombia  1402632863846223872   \n",
       "3   Bogota  Bogotá, D.C. - Colombia  1402630756242018304   \n",
       "4   Bogota         Ibagué, Colombia  1402294346578231297   \n",
       "5   Bogota   Bogotá, D.C., Colombia  1401916310775373824   \n",
       "6   Bogota         Bogotá, Colombia  1400969760695848961   \n",
       "7   Bogota         Bogotá, Colombia  1400561176170287106   \n",
       "8   Bogota  Bogotá, D.C. - Colombia  1400502545852796933   \n",
       "9   Bogota  Bogotá, D.C. - Colombia  1400485734360944654   \n",
       "10  Bogota  Bogotá, D.C. - Colombia  1400482029578461184   \n",
       "11  Bogota  La Calera, Cundinamarca  1400276095870644227   \n",
       "\n",
       "                                                 link  \n",
       "0   https://twitter.com/i/web/status/1403009789660...  \n",
       "1   https://twitter.com/i/web/status/1402962396570...  \n",
       "2   https://twitter.com/i/web/status/1402632863846...  \n",
       "3   https://twitter.com/i/web/status/1402630756242...  \n",
       "4   https://twitter.com/i/web/status/1402294346578...  \n",
       "5   https://twitter.com/i/web/status/1401916310775...  \n",
       "6   https://twitter.com/i/web/status/1400969760695...  \n",
       "7   https://twitter.com/i/web/status/1400561176170...  \n",
       "8   https://twitter.com/i/web/status/1400502545852...  \n",
       "9   https://twitter.com/i/web/status/1400485734360...  \n",
       "10  https://twitter.com/i/web/status/1400482029578...  \n",
       "11  https://twitter.com/i/web/status/1400276095870...  "
      ]
     },
     "execution_count": 16,
     "metadata": {},
     "output_type": "execute_result"
    }
   ],
   "source": [
    "data = pd.DataFrame(t)\n",
    "data.columns = ['tweet', 'date', 'city', 'user_location', 'id', 'link']\n",
    "data"
   ]
  },
  {
   "cell_type": "code",
   "execution_count": 17,
   "metadata": {},
   "outputs": [
    {
     "data": {
      "text/html": [
       "<div>\n",
       "<style scoped>\n",
       "    .dataframe tbody tr th:only-of-type {\n",
       "        vertical-align: middle;\n",
       "    }\n",
       "\n",
       "    .dataframe tbody tr th {\n",
       "        vertical-align: top;\n",
       "    }\n",
       "\n",
       "    .dataframe thead th {\n",
       "        text-align: right;\n",
       "    }\n",
       "</style>\n",
       "<table border=\"1\" class=\"dataframe\">\n",
       "  <thead>\n",
       "    <tr style=\"text-align: right;\">\n",
       "      <th></th>\n",
       "      <th>tweet</th>\n",
       "      <th>date</th>\n",
       "      <th>city</th>\n",
       "    </tr>\n",
       "  </thead>\n",
       "  <tbody>\n",
       "    <tr>\n",
       "      <th>0</th>\n",
       "      <td>@moneytorxbox @LaAmbivalentte @JoMalagon @Ivan...</td>\n",
       "      <td>2021-06-10 15:22:55</td>\n",
       "      <td>Bogota</td>\n",
       "    </tr>\n",
       "    <tr>\n",
       "      <th>1</th>\n",
       "      <td>@LaMega Yo conocí a @CaroCarreta  hace un año ...</td>\n",
       "      <td>2021-06-10 12:14:35</td>\n",
       "      <td>Bogota</td>\n",
       "    </tr>\n",
       "    <tr>\n",
       "      <th>2</th>\n",
       "      <td>@LaAmbivalentte @JoMalagon @IvanDuque @infopre...</td>\n",
       "      <td>2021-06-09 14:25:09</td>\n",
       "      <td>Bogota</td>\n",
       "    </tr>\n",
       "    <tr>\n",
       "      <th>3</th>\n",
       "      <td>@LaAmbivalentte @JoMalagon @carlosruizma @info...</td>\n",
       "      <td>2021-06-09 14:16:46</td>\n",
       "      <td>Bogota</td>\n",
       "    </tr>\n",
       "    <tr>\n",
       "      <th>4</th>\n",
       "      <td>#Nacional👉El Fondo Nacional del Ahorro obtuvo ...</td>\n",
       "      <td>2021-06-08 16:00:00</td>\n",
       "      <td>Bogota</td>\n",
       "    </tr>\n",
       "  </tbody>\n",
       "</table>\n",
       "</div>"
      ],
      "text/plain": [
       "                                               tweet                date  \\\n",
       "0  @moneytorxbox @LaAmbivalentte @JoMalagon @Ivan... 2021-06-10 15:22:55   \n",
       "1  @LaMega Yo conocí a @CaroCarreta  hace un año ... 2021-06-10 12:14:35   \n",
       "2  @LaAmbivalentte @JoMalagon @IvanDuque @infopre... 2021-06-09 14:25:09   \n",
       "3  @LaAmbivalentte @JoMalagon @carlosruizma @info... 2021-06-09 14:16:46   \n",
       "4  #Nacional👉El Fondo Nacional del Ahorro obtuvo ... 2021-06-08 16:00:00   \n",
       "\n",
       "     city  \n",
       "0  Bogota  \n",
       "1  Bogota  \n",
       "2  Bogota  \n",
       "3  Bogota  \n",
       "4  Bogota  "
      ]
     },
     "execution_count": 17,
     "metadata": {},
     "output_type": "execute_result"
    }
   ],
   "source": [
    "data = data[['tweet','date','city']]\n",
    "data.head()"
   ]
  },
  {
   "cell_type": "code",
   "execution_count": 22,
   "metadata": {},
   "outputs": [],
   "source": [
    "def pre_procesado(texto):\n",
    "    texto = texto.lower()\n",
    "    texto = re.sub(r\"[\\W\\d_]+\", \" \", texto)\n",
    "    texto = [palabra for palabra in texto.split() if palabra not in stopwords]\n",
    "    return texto"
   ]
  },
  {
   "cell_type": "code",
   "execution_count": 26,
   "metadata": {},
   "outputs": [
    {
     "data": {
      "text/html": [
       "<div>\n",
       "<style scoped>\n",
       "    .dataframe tbody tr th:only-of-type {\n",
       "        vertical-align: middle;\n",
       "    }\n",
       "\n",
       "    .dataframe tbody tr th {\n",
       "        vertical-align: top;\n",
       "    }\n",
       "\n",
       "    .dataframe thead th {\n",
       "        text-align: right;\n",
       "    }\n",
       "</style>\n",
       "<table border=\"1\" class=\"dataframe\">\n",
       "  <thead>\n",
       "    <tr style=\"text-align: right;\">\n",
       "      <th></th>\n",
       "      <th>tweet</th>\n",
       "      <th>date</th>\n",
       "      <th>city</th>\n",
       "      <th>clean</th>\n",
       "      <th>links</th>\n",
       "      <th>hashtags</th>\n",
       "      <th>mentions</th>\n",
       "      <th>fecha</th>\n",
       "      <th>tweet_p</th>\n",
       "    </tr>\n",
       "  </thead>\n",
       "  <tbody>\n",
       "    <tr>\n",
       "      <th>0</th>\n",
       "      <td>@moneytorxbox @LaAmbivalentte @JoMalagon @Ivan...</td>\n",
       "      <td>2021-06-10 15:22:55</td>\n",
       "      <td>Bogota</td>\n",
       "      <td>para poder aplicar te puedes acercar a...</td>\n",
       "      <td>[https://t.co/HQZslsQpay]</td>\n",
       "      <td>[]</td>\n",
       "      <td>[@moneytorxbox, @LaAmbivalentte, @JoMalagon, @...</td>\n",
       "      <td>2021-06-10</td>\n",
       "      <td>[moneytorxbox, laambivalentte, jomalagon, ivan...</td>\n",
       "    </tr>\n",
       "    <tr>\n",
       "      <th>1</th>\n",
       "      <td>@LaMega Yo conocí a @CaroCarreta  hace un año ...</td>\n",
       "      <td>2021-06-10 12:14:35</td>\n",
       "      <td>Bogota</td>\n",
       "      <td>Yo conocí a   hace un año saliendo del fondo ...</td>\n",
       "      <td>[]</td>\n",
       "      <td>[#MiRicoMañanero]</td>\n",
       "      <td>[@LaMega, @CaroCarreta]</td>\n",
       "      <td>2021-06-10</td>\n",
       "      <td>[lamega, conocí, carocarreta, hace, año, salie...</td>\n",
       "    </tr>\n",
       "    <tr>\n",
       "      <th>2</th>\n",
       "      <td>@LaAmbivalentte @JoMalagon @IvanDuque @infopre...</td>\n",
       "      <td>2021-06-09 14:25:09</td>\n",
       "      <td>Bogota</td>\n",
       "      <td>te debes acercar a las oficinas del Fon...</td>\n",
       "      <td>[https://t.co/HQZslsQpay]</td>\n",
       "      <td>[]</td>\n",
       "      <td>[@LaAmbivalentte, @JoMalagon, @IvanDuque, @inf...</td>\n",
       "      <td>2021-06-09</td>\n",
       "      <td>[laambivalentte, jomalagon, ivanduque, infopre...</td>\n",
       "    </tr>\n",
       "    <tr>\n",
       "      <th>3</th>\n",
       "      <td>@LaAmbivalentte @JoMalagon @carlosruizma @info...</td>\n",
       "      <td>2021-06-09 14:16:46</td>\n",
       "      <td>Bogota</td>\n",
       "      <td>para poder aplicar te puedes acercar a ...</td>\n",
       "      <td>[https://t.co/HQZslsQpay]</td>\n",
       "      <td>[]</td>\n",
       "      <td>[@LaAmbivalentte, @JoMalagon, @carlosruizma, @...</td>\n",
       "      <td>2021-06-09</td>\n",
       "      <td>[laambivalentte, jomalagon, carlosruizma, info...</td>\n",
       "    </tr>\n",
       "    <tr>\n",
       "      <th>4</th>\n",
       "      <td>#Nacional👉El Fondo Nacional del Ahorro obtuvo ...</td>\n",
       "      <td>2021-06-08 16:00:00</td>\n",
       "      <td>Bogota</td>\n",
       "      <td>Fondo Nacional del Ahorro obtuvo la valoració...</td>\n",
       "      <td>[https://t.co/BoKofbOBgq, https://t.co/rdi0YxB...</td>\n",
       "      <td>[#Nacional👉El]</td>\n",
       "      <td>[@FNAahorro, @SPGRatingsLatAm, @FNApresidente]</td>\n",
       "      <td>2021-06-08</td>\n",
       "      <td>[nacional, fondo, nacional, ahorro, obtuvo, va...</td>\n",
       "    </tr>\n",
       "  </tbody>\n",
       "</table>\n",
       "</div>"
      ],
      "text/plain": [
       "                                               tweet                date  \\\n",
       "0  @moneytorxbox @LaAmbivalentte @JoMalagon @Ivan... 2021-06-10 15:22:55   \n",
       "1  @LaMega Yo conocí a @CaroCarreta  hace un año ... 2021-06-10 12:14:35   \n",
       "2  @LaAmbivalentte @JoMalagon @IvanDuque @infopre... 2021-06-09 14:25:09   \n",
       "3  @LaAmbivalentte @JoMalagon @carlosruizma @info... 2021-06-09 14:16:46   \n",
       "4  #Nacional👉El Fondo Nacional del Ahorro obtuvo ... 2021-06-08 16:00:00   \n",
       "\n",
       "     city                                              clean  \\\n",
       "0  Bogota          para poder aplicar te puedes acercar a...   \n",
       "1  Bogota   Yo conocí a   hace un año saliendo del fondo ...   \n",
       "2  Bogota         te debes acercar a las oficinas del Fon...   \n",
       "3  Bogota         para poder aplicar te puedes acercar a ...   \n",
       "4  Bogota   Fondo Nacional del Ahorro obtuvo la valoració...   \n",
       "\n",
       "                                               links           hashtags  \\\n",
       "0                          [https://t.co/HQZslsQpay]                 []   \n",
       "1                                                 []  [#MiRicoMañanero]   \n",
       "2                          [https://t.co/HQZslsQpay]                 []   \n",
       "3                          [https://t.co/HQZslsQpay]                 []   \n",
       "4  [https://t.co/BoKofbOBgq, https://t.co/rdi0YxB...     [#Nacional👉El]   \n",
       "\n",
       "                                            mentions       fecha  \\\n",
       "0  [@moneytorxbox, @LaAmbivalentte, @JoMalagon, @...  2021-06-10   \n",
       "1                            [@LaMega, @CaroCarreta]  2021-06-10   \n",
       "2  [@LaAmbivalentte, @JoMalagon, @IvanDuque, @inf...  2021-06-09   \n",
       "3  [@LaAmbivalentte, @JoMalagon, @carlosruizma, @...  2021-06-09   \n",
       "4     [@FNAahorro, @SPGRatingsLatAm, @FNApresidente]  2021-06-08   \n",
       "\n",
       "                                             tweet_p  \n",
       "0  [moneytorxbox, laambivalentte, jomalagon, ivan...  \n",
       "1  [lamega, conocí, carocarreta, hace, año, salie...  \n",
       "2  [laambivalentte, jomalagon, ivanduque, infopre...  \n",
       "3  [laambivalentte, jomalagon, carlosruizma, info...  \n",
       "4  [nacional, fondo, nacional, ahorro, obtuvo, va...  "
      ]
     },
     "execution_count": 26,
     "metadata": {},
     "output_type": "execute_result"
    }
   ],
   "source": [
    "data['tweet_p'] = data['tweet'].apply(lambda texto: pre_procesado(texto))\n",
    "\n",
    "data.head()"
   ]
  },
  {
   "cell_type": "code",
   "execution_count": 29,
   "metadata": {},
   "outputs": [
    {
     "data": {
      "text/plain": [
       "['lamega',\n",
       " 'conocí',\n",
       " 'carocarreta',\n",
       " 'hace',\n",
       " 'año',\n",
       " 'saliendo',\n",
       " 'fondo',\n",
       " 'nacional',\n",
       " 'ahorro',\n",
       " 'tomamos',\n",
       " 'cerveza',\n",
       " 'oxxo',\n",
       " 'jajaja',\n",
       " 'amo',\n",
       " 'carreta',\n",
       " 'miricomañanero']"
      ]
     },
     "execution_count": 29,
     "metadata": {},
     "output_type": "execute_result"
    }
   ],
   "source": [
    "data.tweet_p.iloc[1]"
   ]
  },
  {
   "cell_type": "code",
   "execution_count": 30,
   "metadata": {},
   "outputs": [
    {
     "data": {
      "text/plain": [
       "'@LaMega Yo conocí a @CaroCarreta  hace un año saliendo del fondo nacional del ahorro... Tomamos una cerveza en el oxxo jajaja te amo  Carreta... #MiRicoMañanero'"
      ]
     },
     "execution_count": 30,
     "metadata": {},
     "output_type": "execute_result"
    }
   ],
   "source": [
    "data.tweet.iloc[1]"
   ]
  },
  {
   "cell_type": "markdown",
   "metadata": {},
   "source": [
    "###  `[25 pts]` Punto 2: Hacer una visualización sobre esos tuits"
   ]
  },
  {
   "cell_type": "code",
   "execution_count": 31,
   "metadata": {},
   "outputs": [],
   "source": [
    "import re\n",
    " \n",
    "pattern1 = '?P<pic>pic.twitter.com/[^\\s]+'\n",
    "pattern2 = '?P<url>https?://[^\\s]+'\n",
    "def text_clean(row):\n",
    "    text = row['tweet']\n",
    "    \n",
    "    links = [tuple(j for j in i if j)[-1] for i in re.findall(f\"({pattern1})|({pattern2})\",text)]\n",
    "    for link in links:\n",
    "        text = text.replace(link,\"\")\n",
    "    hashtags = [interaction for interaction in text.split() if interaction.startswith(\"#\")]\n",
    "    \n",
    "    for hashtag in hashtags:\n",
    "        text = text.replace(hashtag,\"\")\n",
    "    mentions = [interaction for interaction in text.split() if interaction.startswith(\"@\")]\n",
    "    \n",
    "    for mention in mentions:\n",
    "        text = text.replace(mention,\"\")\n",
    "    return text, links, hashtags, mentions"
   ]
  },
  {
   "cell_type": "code",
   "execution_count": 32,
   "metadata": {},
   "outputs": [
    {
     "data": {
      "text/html": [
       "<div>\n",
       "<style scoped>\n",
       "    .dataframe tbody tr th:only-of-type {\n",
       "        vertical-align: middle;\n",
       "    }\n",
       "\n",
       "    .dataframe tbody tr th {\n",
       "        vertical-align: top;\n",
       "    }\n",
       "\n",
       "    .dataframe thead th {\n",
       "        text-align: right;\n",
       "    }\n",
       "</style>\n",
       "<table border=\"1\" class=\"dataframe\">\n",
       "  <thead>\n",
       "    <tr style=\"text-align: right;\">\n",
       "      <th></th>\n",
       "      <th>tweet</th>\n",
       "      <th>date</th>\n",
       "      <th>city</th>\n",
       "      <th>clean</th>\n",
       "      <th>links</th>\n",
       "      <th>hashtags</th>\n",
       "      <th>mentions</th>\n",
       "      <th>fecha</th>\n",
       "      <th>tweet_p</th>\n",
       "    </tr>\n",
       "  </thead>\n",
       "  <tbody>\n",
       "    <tr>\n",
       "      <th>0</th>\n",
       "      <td>@moneytorxbox @LaAmbivalentte @JoMalagon @Ivan...</td>\n",
       "      <td>2021-06-10 15:22:55</td>\n",
       "      <td>Bogota</td>\n",
       "      <td>para poder aplicar te puedes acercar a...</td>\n",
       "      <td>[https://t.co/HQZslsQpay]</td>\n",
       "      <td>[]</td>\n",
       "      <td>[@moneytorxbox, @LaAmbivalentte, @JoMalagon, @...</td>\n",
       "      <td>2021-06-10</td>\n",
       "      <td>[moneytorxbox, laambivalentte, jomalagon, ivan...</td>\n",
       "    </tr>\n",
       "    <tr>\n",
       "      <th>1</th>\n",
       "      <td>@LaMega Yo conocí a @CaroCarreta  hace un año ...</td>\n",
       "      <td>2021-06-10 12:14:35</td>\n",
       "      <td>Bogota</td>\n",
       "      <td>Yo conocí a   hace un año saliendo del fondo ...</td>\n",
       "      <td>[]</td>\n",
       "      <td>[#MiRicoMañanero]</td>\n",
       "      <td>[@LaMega, @CaroCarreta]</td>\n",
       "      <td>2021-06-10</td>\n",
       "      <td>[lamega, conocí, carocarreta, hace, año, salie...</td>\n",
       "    </tr>\n",
       "    <tr>\n",
       "      <th>2</th>\n",
       "      <td>@LaAmbivalentte @JoMalagon @IvanDuque @infopre...</td>\n",
       "      <td>2021-06-09 14:25:09</td>\n",
       "      <td>Bogota</td>\n",
       "      <td>te debes acercar a las oficinas del Fon...</td>\n",
       "      <td>[https://t.co/HQZslsQpay]</td>\n",
       "      <td>[]</td>\n",
       "      <td>[@LaAmbivalentte, @JoMalagon, @IvanDuque, @inf...</td>\n",
       "      <td>2021-06-09</td>\n",
       "      <td>[laambivalentte, jomalagon, ivanduque, infopre...</td>\n",
       "    </tr>\n",
       "    <tr>\n",
       "      <th>3</th>\n",
       "      <td>@LaAmbivalentte @JoMalagon @carlosruizma @info...</td>\n",
       "      <td>2021-06-09 14:16:46</td>\n",
       "      <td>Bogota</td>\n",
       "      <td>para poder aplicar te puedes acercar a ...</td>\n",
       "      <td>[https://t.co/HQZslsQpay]</td>\n",
       "      <td>[]</td>\n",
       "      <td>[@LaAmbivalentte, @JoMalagon, @carlosruizma, @...</td>\n",
       "      <td>2021-06-09</td>\n",
       "      <td>[laambivalentte, jomalagon, carlosruizma, info...</td>\n",
       "    </tr>\n",
       "    <tr>\n",
       "      <th>4</th>\n",
       "      <td>#Nacional👉El Fondo Nacional del Ahorro obtuvo ...</td>\n",
       "      <td>2021-06-08 16:00:00</td>\n",
       "      <td>Bogota</td>\n",
       "      <td>Fondo Nacional del Ahorro obtuvo la valoració...</td>\n",
       "      <td>[https://t.co/BoKofbOBgq, https://t.co/rdi0YxB...</td>\n",
       "      <td>[#Nacional👉El]</td>\n",
       "      <td>[@FNAahorro, @SPGRatingsLatAm, @FNApresidente]</td>\n",
       "      <td>2021-06-08</td>\n",
       "      <td>[nacional, fondo, nacional, ahorro, obtuvo, va...</td>\n",
       "    </tr>\n",
       "  </tbody>\n",
       "</table>\n",
       "</div>"
      ],
      "text/plain": [
       "                                               tweet                date  \\\n",
       "0  @moneytorxbox @LaAmbivalentte @JoMalagon @Ivan... 2021-06-10 15:22:55   \n",
       "1  @LaMega Yo conocí a @CaroCarreta  hace un año ... 2021-06-10 12:14:35   \n",
       "2  @LaAmbivalentte @JoMalagon @IvanDuque @infopre... 2021-06-09 14:25:09   \n",
       "3  @LaAmbivalentte @JoMalagon @carlosruizma @info... 2021-06-09 14:16:46   \n",
       "4  #Nacional👉El Fondo Nacional del Ahorro obtuvo ... 2021-06-08 16:00:00   \n",
       "\n",
       "     city                                              clean  \\\n",
       "0  Bogota          para poder aplicar te puedes acercar a...   \n",
       "1  Bogota   Yo conocí a   hace un año saliendo del fondo ...   \n",
       "2  Bogota         te debes acercar a las oficinas del Fon...   \n",
       "3  Bogota         para poder aplicar te puedes acercar a ...   \n",
       "4  Bogota   Fondo Nacional del Ahorro obtuvo la valoració...   \n",
       "\n",
       "                                               links           hashtags  \\\n",
       "0                          [https://t.co/HQZslsQpay]                 []   \n",
       "1                                                 []  [#MiRicoMañanero]   \n",
       "2                          [https://t.co/HQZslsQpay]                 []   \n",
       "3                          [https://t.co/HQZslsQpay]                 []   \n",
       "4  [https://t.co/BoKofbOBgq, https://t.co/rdi0YxB...     [#Nacional👉El]   \n",
       "\n",
       "                                            mentions       fecha  \\\n",
       "0  [@moneytorxbox, @LaAmbivalentte, @JoMalagon, @...  2021-06-10   \n",
       "1                            [@LaMega, @CaroCarreta]  2021-06-10   \n",
       "2  [@LaAmbivalentte, @JoMalagon, @IvanDuque, @inf...  2021-06-09   \n",
       "3  [@LaAmbivalentte, @JoMalagon, @carlosruizma, @...  2021-06-09   \n",
       "4     [@FNAahorro, @SPGRatingsLatAm, @FNApresidente]  2021-06-08   \n",
       "\n",
       "                                             tweet_p  \n",
       "0  [moneytorxbox, laambivalentte, jomalagon, ivan...  \n",
       "1  [lamega, conocí, carocarreta, hace, año, salie...  \n",
       "2  [laambivalentte, jomalagon, ivanduque, infopre...  \n",
       "3  [laambivalentte, jomalagon, carlosruizma, info...  \n",
       "4  [nacional, fondo, nacional, ahorro, obtuvo, va...  "
      ]
     },
     "execution_count": 32,
     "metadata": {},
     "output_type": "execute_result"
    }
   ],
   "source": [
    "data[['clean', 'links', 'hashtags', 'mentions']] = data.apply(text_clean, axis=1, result_type='expand')\n",
    "data.head()"
   ]
  },
  {
   "cell_type": "code",
   "execution_count": 33,
   "metadata": {},
   "outputs": [
    {
     "data": {
      "text/html": [
       "        <script type=\"text/javascript\">\n",
       "        window.PlotlyConfig = {MathJaxConfig: 'local'};\n",
       "        if (window.MathJax) {MathJax.Hub.Config({SVG: {font: \"STIX-Web\"}});}\n",
       "        if (typeof require !== 'undefined') {\n",
       "        require.undef(\"plotly\");\n",
       "        requirejs.config({\n",
       "            paths: {\n",
       "                'plotly': ['https://cdn.plot.ly/plotly-latest.min']\n",
       "            }\n",
       "        });\n",
       "        require(['plotly'], function(Plotly) {\n",
       "            window._Plotly = Plotly;\n",
       "        });\n",
       "        }\n",
       "        </script>\n",
       "        "
      ]
     },
     "metadata": {},
     "output_type": "display_data"
    }
   ],
   "source": [
    "import plotly.io as pio\n",
    "import plotly.express as px\n",
    "import plotly.graph_objs as go\n",
    "from plotly.offline import download_plotlyjs, init_notebook_mode, plot, iplot\n",
    "import matplotlib.pyplot as plt\n",
    "%matplotlib inline\n",
    "init_notebook_mode(connected=True)"
   ]
  },
  {
   "cell_type": "code",
   "execution_count": 34,
   "metadata": {},
   "outputs": [
    {
     "data": {
      "text/html": [
       "<div>\n",
       "<style scoped>\n",
       "    .dataframe tbody tr th:only-of-type {\n",
       "        vertical-align: middle;\n",
       "    }\n",
       "\n",
       "    .dataframe tbody tr th {\n",
       "        vertical-align: top;\n",
       "    }\n",
       "\n",
       "    .dataframe thead th {\n",
       "        text-align: right;\n",
       "    }\n",
       "</style>\n",
       "<table border=\"1\" class=\"dataframe\">\n",
       "  <thead>\n",
       "    <tr style=\"text-align: right;\">\n",
       "      <th></th>\n",
       "      <th>fecha</th>\n",
       "      <th>cnt</th>\n",
       "    </tr>\n",
       "  </thead>\n",
       "  <tbody>\n",
       "    <tr>\n",
       "      <th>0</th>\n",
       "      <td>2021-06-03</td>\n",
       "      <td>5</td>\n",
       "    </tr>\n",
       "    <tr>\n",
       "      <th>3</th>\n",
       "      <td>2021-06-05</td>\n",
       "      <td>1</td>\n",
       "    </tr>\n",
       "    <tr>\n",
       "      <th>5</th>\n",
       "      <td>2021-06-07</td>\n",
       "      <td>1</td>\n",
       "    </tr>\n",
       "    <tr>\n",
       "      <th>4</th>\n",
       "      <td>2021-06-08</td>\n",
       "      <td>1</td>\n",
       "    </tr>\n",
       "    <tr>\n",
       "      <th>1</th>\n",
       "      <td>2021-06-09</td>\n",
       "      <td>2</td>\n",
       "    </tr>\n",
       "    <tr>\n",
       "      <th>2</th>\n",
       "      <td>2021-06-10</td>\n",
       "      <td>2</td>\n",
       "    </tr>\n",
       "  </tbody>\n",
       "</table>\n",
       "</div>"
      ],
      "text/plain": [
       "        fecha  cnt\n",
       "0  2021-06-03    5\n",
       "3  2021-06-05    1\n",
       "5  2021-06-07    1\n",
       "4  2021-06-08    1\n",
       "1  2021-06-09    2\n",
       "2  2021-06-10    2"
      ]
     },
     "execution_count": 34,
     "metadata": {},
     "output_type": "execute_result"
    }
   ],
   "source": [
    "data['fecha'] = data.date.dt.date\n",
    "temp = pd.DataFrame(data.fecha.value_counts()).reset_index()\n",
    "temp.columns = ['fecha', 'cnt']\n",
    "temp = temp.sort_values('fecha')\n",
    "temp"
   ]
  },
  {
   "cell_type": "code",
   "execution_count": 13,
   "metadata": {},
   "outputs": [
    {
     "data": {
      "application/vnd.plotly.v1+json": {
       "config": {
        "linkText": "Export to plot.ly",
        "plotlyServerURL": "https://plot.ly",
        "showLink": false
       },
       "data": [
        {
         "hoverinfo": "text",
         "line": {
          "color": "#1DA1F2"
         },
         "mode": "lines+markers",
         "name": "Días",
         "text": [
          "Fecha: 2021-06-02<br>Tuits: 1",
          "Fecha: 2021-06-03<br>Tuits: 1",
          "Fecha: 2021-06-04<br>Tuits: 2",
          "Fecha: 2021-06-05<br>Tuits: 1"
         ],
         "type": "scatter",
         "x": [
          "2021-06-02",
          "2021-06-03",
          "2021-06-04",
          "2021-06-05"
         ],
         "y": [
          1,
          1,
          2,
          1
         ]
        }
       ],
       "layout": {
        "template": {
         "data": {
          "bar": [
           {
            "error_x": {
             "color": "#2a3f5f"
            },
            "error_y": {
             "color": "#2a3f5f"
            },
            "marker": {
             "line": {
              "color": "#E5ECF6",
              "width": 0.5
             }
            },
            "type": "bar"
           }
          ],
          "barpolar": [
           {
            "marker": {
             "line": {
              "color": "#E5ECF6",
              "width": 0.5
             }
            },
            "type": "barpolar"
           }
          ],
          "carpet": [
           {
            "aaxis": {
             "endlinecolor": "#2a3f5f",
             "gridcolor": "white",
             "linecolor": "white",
             "minorgridcolor": "white",
             "startlinecolor": "#2a3f5f"
            },
            "baxis": {
             "endlinecolor": "#2a3f5f",
             "gridcolor": "white",
             "linecolor": "white",
             "minorgridcolor": "white",
             "startlinecolor": "#2a3f5f"
            },
            "type": "carpet"
           }
          ],
          "choropleth": [
           {
            "colorbar": {
             "outlinewidth": 0,
             "ticks": ""
            },
            "type": "choropleth"
           }
          ],
          "contour": [
           {
            "colorbar": {
             "outlinewidth": 0,
             "ticks": ""
            },
            "colorscale": [
             [
              0,
              "#0d0887"
             ],
             [
              0.1111111111111111,
              "#46039f"
             ],
             [
              0.2222222222222222,
              "#7201a8"
             ],
             [
              0.3333333333333333,
              "#9c179e"
             ],
             [
              0.4444444444444444,
              "#bd3786"
             ],
             [
              0.5555555555555556,
              "#d8576b"
             ],
             [
              0.6666666666666666,
              "#ed7953"
             ],
             [
              0.7777777777777778,
              "#fb9f3a"
             ],
             [
              0.8888888888888888,
              "#fdca26"
             ],
             [
              1,
              "#f0f921"
             ]
            ],
            "type": "contour"
           }
          ],
          "contourcarpet": [
           {
            "colorbar": {
             "outlinewidth": 0,
             "ticks": ""
            },
            "type": "contourcarpet"
           }
          ],
          "heatmap": [
           {
            "colorbar": {
             "outlinewidth": 0,
             "ticks": ""
            },
            "colorscale": [
             [
              0,
              "#0d0887"
             ],
             [
              0.1111111111111111,
              "#46039f"
             ],
             [
              0.2222222222222222,
              "#7201a8"
             ],
             [
              0.3333333333333333,
              "#9c179e"
             ],
             [
              0.4444444444444444,
              "#bd3786"
             ],
             [
              0.5555555555555556,
              "#d8576b"
             ],
             [
              0.6666666666666666,
              "#ed7953"
             ],
             [
              0.7777777777777778,
              "#fb9f3a"
             ],
             [
              0.8888888888888888,
              "#fdca26"
             ],
             [
              1,
              "#f0f921"
             ]
            ],
            "type": "heatmap"
           }
          ],
          "heatmapgl": [
           {
            "colorbar": {
             "outlinewidth": 0,
             "ticks": ""
            },
            "colorscale": [
             [
              0,
              "#0d0887"
             ],
             [
              0.1111111111111111,
              "#46039f"
             ],
             [
              0.2222222222222222,
              "#7201a8"
             ],
             [
              0.3333333333333333,
              "#9c179e"
             ],
             [
              0.4444444444444444,
              "#bd3786"
             ],
             [
              0.5555555555555556,
              "#d8576b"
             ],
             [
              0.6666666666666666,
              "#ed7953"
             ],
             [
              0.7777777777777778,
              "#fb9f3a"
             ],
             [
              0.8888888888888888,
              "#fdca26"
             ],
             [
              1,
              "#f0f921"
             ]
            ],
            "type": "heatmapgl"
           }
          ],
          "histogram": [
           {
            "marker": {
             "colorbar": {
              "outlinewidth": 0,
              "ticks": ""
             }
            },
            "type": "histogram"
           }
          ],
          "histogram2d": [
           {
            "colorbar": {
             "outlinewidth": 0,
             "ticks": ""
            },
            "colorscale": [
             [
              0,
              "#0d0887"
             ],
             [
              0.1111111111111111,
              "#46039f"
             ],
             [
              0.2222222222222222,
              "#7201a8"
             ],
             [
              0.3333333333333333,
              "#9c179e"
             ],
             [
              0.4444444444444444,
              "#bd3786"
             ],
             [
              0.5555555555555556,
              "#d8576b"
             ],
             [
              0.6666666666666666,
              "#ed7953"
             ],
             [
              0.7777777777777778,
              "#fb9f3a"
             ],
             [
              0.8888888888888888,
              "#fdca26"
             ],
             [
              1,
              "#f0f921"
             ]
            ],
            "type": "histogram2d"
           }
          ],
          "histogram2dcontour": [
           {
            "colorbar": {
             "outlinewidth": 0,
             "ticks": ""
            },
            "colorscale": [
             [
              0,
              "#0d0887"
             ],
             [
              0.1111111111111111,
              "#46039f"
             ],
             [
              0.2222222222222222,
              "#7201a8"
             ],
             [
              0.3333333333333333,
              "#9c179e"
             ],
             [
              0.4444444444444444,
              "#bd3786"
             ],
             [
              0.5555555555555556,
              "#d8576b"
             ],
             [
              0.6666666666666666,
              "#ed7953"
             ],
             [
              0.7777777777777778,
              "#fb9f3a"
             ],
             [
              0.8888888888888888,
              "#fdca26"
             ],
             [
              1,
              "#f0f921"
             ]
            ],
            "type": "histogram2dcontour"
           }
          ],
          "mesh3d": [
           {
            "colorbar": {
             "outlinewidth": 0,
             "ticks": ""
            },
            "type": "mesh3d"
           }
          ],
          "parcoords": [
           {
            "line": {
             "colorbar": {
              "outlinewidth": 0,
              "ticks": ""
             }
            },
            "type": "parcoords"
           }
          ],
          "pie": [
           {
            "automargin": true,
            "type": "pie"
           }
          ],
          "scatter": [
           {
            "marker": {
             "colorbar": {
              "outlinewidth": 0,
              "ticks": ""
             }
            },
            "type": "scatter"
           }
          ],
          "scatter3d": [
           {
            "line": {
             "colorbar": {
              "outlinewidth": 0,
              "ticks": ""
             }
            },
            "marker": {
             "colorbar": {
              "outlinewidth": 0,
              "ticks": ""
             }
            },
            "type": "scatter3d"
           }
          ],
          "scattercarpet": [
           {
            "marker": {
             "colorbar": {
              "outlinewidth": 0,
              "ticks": ""
             }
            },
            "type": "scattercarpet"
           }
          ],
          "scattergeo": [
           {
            "marker": {
             "colorbar": {
              "outlinewidth": 0,
              "ticks": ""
             }
            },
            "type": "scattergeo"
           }
          ],
          "scattergl": [
           {
            "marker": {
             "colorbar": {
              "outlinewidth": 0,
              "ticks": ""
             }
            },
            "type": "scattergl"
           }
          ],
          "scattermapbox": [
           {
            "marker": {
             "colorbar": {
              "outlinewidth": 0,
              "ticks": ""
             }
            },
            "type": "scattermapbox"
           }
          ],
          "scatterpolar": [
           {
            "marker": {
             "colorbar": {
              "outlinewidth": 0,
              "ticks": ""
             }
            },
            "type": "scatterpolar"
           }
          ],
          "scatterpolargl": [
           {
            "marker": {
             "colorbar": {
              "outlinewidth": 0,
              "ticks": ""
             }
            },
            "type": "scatterpolargl"
           }
          ],
          "scatterternary": [
           {
            "marker": {
             "colorbar": {
              "outlinewidth": 0,
              "ticks": ""
             }
            },
            "type": "scatterternary"
           }
          ],
          "surface": [
           {
            "colorbar": {
             "outlinewidth": 0,
             "ticks": ""
            },
            "colorscale": [
             [
              0,
              "#0d0887"
             ],
             [
              0.1111111111111111,
              "#46039f"
             ],
             [
              0.2222222222222222,
              "#7201a8"
             ],
             [
              0.3333333333333333,
              "#9c179e"
             ],
             [
              0.4444444444444444,
              "#bd3786"
             ],
             [
              0.5555555555555556,
              "#d8576b"
             ],
             [
              0.6666666666666666,
              "#ed7953"
             ],
             [
              0.7777777777777778,
              "#fb9f3a"
             ],
             [
              0.8888888888888888,
              "#fdca26"
             ],
             [
              1,
              "#f0f921"
             ]
            ],
            "type": "surface"
           }
          ],
          "table": [
           {
            "cells": {
             "fill": {
              "color": "#EBF0F8"
             },
             "line": {
              "color": "white"
             }
            },
            "header": {
             "fill": {
              "color": "#C8D4E3"
             },
             "line": {
              "color": "white"
             }
            },
            "type": "table"
           }
          ]
         },
         "layout": {
          "annotationdefaults": {
           "arrowcolor": "#2a3f5f",
           "arrowhead": 0,
           "arrowwidth": 1
          },
          "autotypenumbers": "strict",
          "coloraxis": {
           "colorbar": {
            "outlinewidth": 0,
            "ticks": ""
           }
          },
          "colorscale": {
           "diverging": [
            [
             0,
             "#8e0152"
            ],
            [
             0.1,
             "#c51b7d"
            ],
            [
             0.2,
             "#de77ae"
            ],
            [
             0.3,
             "#f1b6da"
            ],
            [
             0.4,
             "#fde0ef"
            ],
            [
             0.5,
             "#f7f7f7"
            ],
            [
             0.6,
             "#e6f5d0"
            ],
            [
             0.7,
             "#b8e186"
            ],
            [
             0.8,
             "#7fbc41"
            ],
            [
             0.9,
             "#4d9221"
            ],
            [
             1,
             "#276419"
            ]
           ],
           "sequential": [
            [
             0,
             "#0d0887"
            ],
            [
             0.1111111111111111,
             "#46039f"
            ],
            [
             0.2222222222222222,
             "#7201a8"
            ],
            [
             0.3333333333333333,
             "#9c179e"
            ],
            [
             0.4444444444444444,
             "#bd3786"
            ],
            [
             0.5555555555555556,
             "#d8576b"
            ],
            [
             0.6666666666666666,
             "#ed7953"
            ],
            [
             0.7777777777777778,
             "#fb9f3a"
            ],
            [
             0.8888888888888888,
             "#fdca26"
            ],
            [
             1,
             "#f0f921"
            ]
           ],
           "sequentialminus": [
            [
             0,
             "#0d0887"
            ],
            [
             0.1111111111111111,
             "#46039f"
            ],
            [
             0.2222222222222222,
             "#7201a8"
            ],
            [
             0.3333333333333333,
             "#9c179e"
            ],
            [
             0.4444444444444444,
             "#bd3786"
            ],
            [
             0.5555555555555556,
             "#d8576b"
            ],
            [
             0.6666666666666666,
             "#ed7953"
            ],
            [
             0.7777777777777778,
             "#fb9f3a"
            ],
            [
             0.8888888888888888,
             "#fdca26"
            ],
            [
             1,
             "#f0f921"
            ]
           ]
          },
          "colorway": [
           "#636efa",
           "#EF553B",
           "#00cc96",
           "#ab63fa",
           "#FFA15A",
           "#19d3f3",
           "#FF6692",
           "#B6E880",
           "#FF97FF",
           "#FECB52"
          ],
          "font": {
           "color": "#2a3f5f"
          },
          "geo": {
           "bgcolor": "white",
           "lakecolor": "white",
           "landcolor": "#E5ECF6",
           "showlakes": true,
           "showland": true,
           "subunitcolor": "white"
          },
          "hoverlabel": {
           "align": "left"
          },
          "hovermode": "closest",
          "mapbox": {
           "style": "light"
          },
          "paper_bgcolor": "white",
          "plot_bgcolor": "#E5ECF6",
          "polar": {
           "angularaxis": {
            "gridcolor": "white",
            "linecolor": "white",
            "ticks": ""
           },
           "bgcolor": "#E5ECF6",
           "radialaxis": {
            "gridcolor": "white",
            "linecolor": "white",
            "ticks": ""
           }
          },
          "scene": {
           "xaxis": {
            "backgroundcolor": "#E5ECF6",
            "gridcolor": "white",
            "gridwidth": 2,
            "linecolor": "white",
            "showbackground": true,
            "ticks": "",
            "zerolinecolor": "white"
           },
           "yaxis": {
            "backgroundcolor": "#E5ECF6",
            "gridcolor": "white",
            "gridwidth": 2,
            "linecolor": "white",
            "showbackground": true,
            "ticks": "",
            "zerolinecolor": "white"
           },
           "zaxis": {
            "backgroundcolor": "#E5ECF6",
            "gridcolor": "white",
            "gridwidth": 2,
            "linecolor": "white",
            "showbackground": true,
            "ticks": "",
            "zerolinecolor": "white"
           }
          },
          "shapedefaults": {
           "line": {
            "color": "#2a3f5f"
           }
          },
          "ternary": {
           "aaxis": {
            "gridcolor": "white",
            "linecolor": "white",
            "ticks": ""
           },
           "baxis": {
            "gridcolor": "white",
            "linecolor": "white",
            "ticks": ""
           },
           "bgcolor": "#E5ECF6",
           "caxis": {
            "gridcolor": "white",
            "linecolor": "white",
            "ticks": ""
           }
          },
          "title": {
           "x": 0.05
          },
          "xaxis": {
           "automargin": true,
           "gridcolor": "white",
           "linecolor": "white",
           "ticks": "",
           "title": {
            "standoff": 15
           },
           "zerolinecolor": "white",
           "zerolinewidth": 2
          },
          "yaxis": {
           "automargin": true,
           "gridcolor": "white",
           "linecolor": "white",
           "ticks": "",
           "title": {
            "standoff": 15
           },
           "zerolinecolor": "white",
           "zerolinewidth": 2
          }
         }
        },
        "title": {
         "text": "Número de tuits por día"
        }
       }
      },
      "text/html": [
       "<div>                            <div id=\"1d68e361-648b-448d-8518-93be866045f4\" class=\"plotly-graph-div\" style=\"height:525px; width:100%;\"></div>            <script type=\"text/javascript\">                require([\"plotly\"], function(Plotly) {                    window.PLOTLYENV=window.PLOTLYENV || {};                                    if (document.getElementById(\"1d68e361-648b-448d-8518-93be866045f4\")) {                    Plotly.newPlot(                        \"1d68e361-648b-448d-8518-93be866045f4\",                        [{\"hoverinfo\": \"text\", \"line\": {\"color\": \"#1DA1F2\"}, \"mode\": \"lines+markers\", \"name\": \"D\\u00edas\", \"text\": [\"Fecha: 2021-06-02<br>Tuits: 1\", \"Fecha: 2021-06-03<br>Tuits: 1\", \"Fecha: 2021-06-04<br>Tuits: 2\", \"Fecha: 2021-06-05<br>Tuits: 1\"], \"type\": \"scatter\", \"x\": [\"2021-06-02\", \"2021-06-03\", \"2021-06-04\", \"2021-06-05\"], \"y\": [1, 1, 2, 1]}],                        {\"template\": {\"data\": {\"bar\": [{\"error_x\": {\"color\": \"#2a3f5f\"}, \"error_y\": {\"color\": \"#2a3f5f\"}, \"marker\": {\"line\": {\"color\": \"#E5ECF6\", \"width\": 0.5}}, \"type\": \"bar\"}], \"barpolar\": [{\"marker\": {\"line\": {\"color\": \"#E5ECF6\", \"width\": 0.5}}, \"type\": \"barpolar\"}], \"carpet\": [{\"aaxis\": {\"endlinecolor\": \"#2a3f5f\", \"gridcolor\": \"white\", \"linecolor\": \"white\", \"minorgridcolor\": \"white\", \"startlinecolor\": \"#2a3f5f\"}, \"baxis\": {\"endlinecolor\": \"#2a3f5f\", \"gridcolor\": \"white\", \"linecolor\": \"white\", \"minorgridcolor\": \"white\", \"startlinecolor\": \"#2a3f5f\"}, \"type\": \"carpet\"}], \"choropleth\": [{\"colorbar\": {\"outlinewidth\": 0, \"ticks\": \"\"}, \"type\": \"choropleth\"}], \"contour\": [{\"colorbar\": {\"outlinewidth\": 0, \"ticks\": \"\"}, \"colorscale\": [[0.0, \"#0d0887\"], [0.1111111111111111, \"#46039f\"], [0.2222222222222222, \"#7201a8\"], [0.3333333333333333, \"#9c179e\"], [0.4444444444444444, \"#bd3786\"], [0.5555555555555556, \"#d8576b\"], [0.6666666666666666, \"#ed7953\"], [0.7777777777777778, \"#fb9f3a\"], [0.8888888888888888, \"#fdca26\"], [1.0, \"#f0f921\"]], \"type\": \"contour\"}], \"contourcarpet\": [{\"colorbar\": {\"outlinewidth\": 0, \"ticks\": \"\"}, \"type\": \"contourcarpet\"}], \"heatmap\": [{\"colorbar\": {\"outlinewidth\": 0, \"ticks\": \"\"}, \"colorscale\": [[0.0, \"#0d0887\"], [0.1111111111111111, \"#46039f\"], [0.2222222222222222, \"#7201a8\"], [0.3333333333333333, \"#9c179e\"], [0.4444444444444444, \"#bd3786\"], [0.5555555555555556, \"#d8576b\"], [0.6666666666666666, \"#ed7953\"], [0.7777777777777778, \"#fb9f3a\"], [0.8888888888888888, \"#fdca26\"], [1.0, \"#f0f921\"]], \"type\": \"heatmap\"}], \"heatmapgl\": [{\"colorbar\": {\"outlinewidth\": 0, \"ticks\": \"\"}, \"colorscale\": [[0.0, \"#0d0887\"], [0.1111111111111111, \"#46039f\"], [0.2222222222222222, \"#7201a8\"], [0.3333333333333333, \"#9c179e\"], [0.4444444444444444, \"#bd3786\"], [0.5555555555555556, \"#d8576b\"], [0.6666666666666666, \"#ed7953\"], [0.7777777777777778, \"#fb9f3a\"], [0.8888888888888888, \"#fdca26\"], [1.0, \"#f0f921\"]], \"type\": \"heatmapgl\"}], \"histogram\": [{\"marker\": {\"colorbar\": {\"outlinewidth\": 0, \"ticks\": \"\"}}, \"type\": \"histogram\"}], \"histogram2d\": [{\"colorbar\": {\"outlinewidth\": 0, \"ticks\": \"\"}, \"colorscale\": [[0.0, \"#0d0887\"], [0.1111111111111111, \"#46039f\"], [0.2222222222222222, \"#7201a8\"], [0.3333333333333333, \"#9c179e\"], [0.4444444444444444, \"#bd3786\"], [0.5555555555555556, \"#d8576b\"], [0.6666666666666666, \"#ed7953\"], [0.7777777777777778, \"#fb9f3a\"], [0.8888888888888888, \"#fdca26\"], [1.0, \"#f0f921\"]], \"type\": \"histogram2d\"}], \"histogram2dcontour\": [{\"colorbar\": {\"outlinewidth\": 0, \"ticks\": \"\"}, \"colorscale\": [[0.0, \"#0d0887\"], [0.1111111111111111, \"#46039f\"], [0.2222222222222222, \"#7201a8\"], [0.3333333333333333, \"#9c179e\"], [0.4444444444444444, \"#bd3786\"], [0.5555555555555556, \"#d8576b\"], [0.6666666666666666, \"#ed7953\"], [0.7777777777777778, \"#fb9f3a\"], [0.8888888888888888, \"#fdca26\"], [1.0, \"#f0f921\"]], \"type\": \"histogram2dcontour\"}], \"mesh3d\": [{\"colorbar\": {\"outlinewidth\": 0, \"ticks\": \"\"}, \"type\": \"mesh3d\"}], \"parcoords\": [{\"line\": {\"colorbar\": {\"outlinewidth\": 0, \"ticks\": \"\"}}, \"type\": \"parcoords\"}], \"pie\": [{\"automargin\": true, \"type\": \"pie\"}], \"scatter\": [{\"marker\": {\"colorbar\": {\"outlinewidth\": 0, \"ticks\": \"\"}}, \"type\": \"scatter\"}], \"scatter3d\": [{\"line\": {\"colorbar\": {\"outlinewidth\": 0, \"ticks\": \"\"}}, \"marker\": {\"colorbar\": {\"outlinewidth\": 0, \"ticks\": \"\"}}, \"type\": \"scatter3d\"}], \"scattercarpet\": [{\"marker\": {\"colorbar\": {\"outlinewidth\": 0, \"ticks\": \"\"}}, \"type\": \"scattercarpet\"}], \"scattergeo\": [{\"marker\": {\"colorbar\": {\"outlinewidth\": 0, \"ticks\": \"\"}}, \"type\": \"scattergeo\"}], \"scattergl\": [{\"marker\": {\"colorbar\": {\"outlinewidth\": 0, \"ticks\": \"\"}}, \"type\": \"scattergl\"}], \"scattermapbox\": [{\"marker\": {\"colorbar\": {\"outlinewidth\": 0, \"ticks\": \"\"}}, \"type\": \"scattermapbox\"}], \"scatterpolar\": [{\"marker\": {\"colorbar\": {\"outlinewidth\": 0, \"ticks\": \"\"}}, \"type\": \"scatterpolar\"}], \"scatterpolargl\": [{\"marker\": {\"colorbar\": {\"outlinewidth\": 0, \"ticks\": \"\"}}, \"type\": \"scatterpolargl\"}], \"scatterternary\": [{\"marker\": {\"colorbar\": {\"outlinewidth\": 0, \"ticks\": \"\"}}, \"type\": \"scatterternary\"}], \"surface\": [{\"colorbar\": {\"outlinewidth\": 0, \"ticks\": \"\"}, \"colorscale\": [[0.0, \"#0d0887\"], [0.1111111111111111, \"#46039f\"], [0.2222222222222222, \"#7201a8\"], [0.3333333333333333, \"#9c179e\"], [0.4444444444444444, \"#bd3786\"], [0.5555555555555556, \"#d8576b\"], [0.6666666666666666, \"#ed7953\"], [0.7777777777777778, \"#fb9f3a\"], [0.8888888888888888, \"#fdca26\"], [1.0, \"#f0f921\"]], \"type\": \"surface\"}], \"table\": [{\"cells\": {\"fill\": {\"color\": \"#EBF0F8\"}, \"line\": {\"color\": \"white\"}}, \"header\": {\"fill\": {\"color\": \"#C8D4E3\"}, \"line\": {\"color\": \"white\"}}, \"type\": \"table\"}]}, \"layout\": {\"annotationdefaults\": {\"arrowcolor\": \"#2a3f5f\", \"arrowhead\": 0, \"arrowwidth\": 1}, \"autotypenumbers\": \"strict\", \"coloraxis\": {\"colorbar\": {\"outlinewidth\": 0, \"ticks\": \"\"}}, \"colorscale\": {\"diverging\": [[0, \"#8e0152\"], [0.1, \"#c51b7d\"], [0.2, \"#de77ae\"], [0.3, \"#f1b6da\"], [0.4, \"#fde0ef\"], [0.5, \"#f7f7f7\"], [0.6, \"#e6f5d0\"], [0.7, \"#b8e186\"], [0.8, \"#7fbc41\"], [0.9, \"#4d9221\"], [1, \"#276419\"]], \"sequential\": [[0.0, \"#0d0887\"], [0.1111111111111111, \"#46039f\"], [0.2222222222222222, \"#7201a8\"], [0.3333333333333333, \"#9c179e\"], [0.4444444444444444, \"#bd3786\"], [0.5555555555555556, \"#d8576b\"], [0.6666666666666666, \"#ed7953\"], [0.7777777777777778, \"#fb9f3a\"], [0.8888888888888888, \"#fdca26\"], [1.0, \"#f0f921\"]], \"sequentialminus\": [[0.0, \"#0d0887\"], [0.1111111111111111, \"#46039f\"], [0.2222222222222222, \"#7201a8\"], [0.3333333333333333, \"#9c179e\"], [0.4444444444444444, \"#bd3786\"], [0.5555555555555556, \"#d8576b\"], [0.6666666666666666, \"#ed7953\"], [0.7777777777777778, \"#fb9f3a\"], [0.8888888888888888, \"#fdca26\"], [1.0, \"#f0f921\"]]}, \"colorway\": [\"#636efa\", \"#EF553B\", \"#00cc96\", \"#ab63fa\", \"#FFA15A\", \"#19d3f3\", \"#FF6692\", \"#B6E880\", \"#FF97FF\", \"#FECB52\"], \"font\": {\"color\": \"#2a3f5f\"}, \"geo\": {\"bgcolor\": \"white\", \"lakecolor\": \"white\", \"landcolor\": \"#E5ECF6\", \"showlakes\": true, \"showland\": true, \"subunitcolor\": \"white\"}, \"hoverlabel\": {\"align\": \"left\"}, \"hovermode\": \"closest\", \"mapbox\": {\"style\": \"light\"}, \"paper_bgcolor\": \"white\", \"plot_bgcolor\": \"#E5ECF6\", \"polar\": {\"angularaxis\": {\"gridcolor\": \"white\", \"linecolor\": \"white\", \"ticks\": \"\"}, \"bgcolor\": \"#E5ECF6\", \"radialaxis\": {\"gridcolor\": \"white\", \"linecolor\": \"white\", \"ticks\": \"\"}}, \"scene\": {\"xaxis\": {\"backgroundcolor\": \"#E5ECF6\", \"gridcolor\": \"white\", \"gridwidth\": 2, \"linecolor\": \"white\", \"showbackground\": true, \"ticks\": \"\", \"zerolinecolor\": \"white\"}, \"yaxis\": {\"backgroundcolor\": \"#E5ECF6\", \"gridcolor\": \"white\", \"gridwidth\": 2, \"linecolor\": \"white\", \"showbackground\": true, \"ticks\": \"\", \"zerolinecolor\": \"white\"}, \"zaxis\": {\"backgroundcolor\": \"#E5ECF6\", \"gridcolor\": \"white\", \"gridwidth\": 2, \"linecolor\": \"white\", \"showbackground\": true, \"ticks\": \"\", \"zerolinecolor\": \"white\"}}, \"shapedefaults\": {\"line\": {\"color\": \"#2a3f5f\"}}, \"ternary\": {\"aaxis\": {\"gridcolor\": \"white\", \"linecolor\": \"white\", \"ticks\": \"\"}, \"baxis\": {\"gridcolor\": \"white\", \"linecolor\": \"white\", \"ticks\": \"\"}, \"bgcolor\": \"#E5ECF6\", \"caxis\": {\"gridcolor\": \"white\", \"linecolor\": \"white\", \"ticks\": \"\"}}, \"title\": {\"x\": 0.05}, \"xaxis\": {\"automargin\": true, \"gridcolor\": \"white\", \"linecolor\": \"white\", \"ticks\": \"\", \"title\": {\"standoff\": 15}, \"zerolinecolor\": \"white\", \"zerolinewidth\": 2}, \"yaxis\": {\"automargin\": true, \"gridcolor\": \"white\", \"linecolor\": \"white\", \"ticks\": \"\", \"title\": {\"standoff\": 15}, \"zerolinecolor\": \"white\", \"zerolinewidth\": 2}}}, \"title\": {\"text\": \"N\\u00famero de tuits por d\\u00eda\"}},                        {\"responsive\": true}                    ).then(function(){\n",
       "                            \n",
       "var gd = document.getElementById('1d68e361-648b-448d-8518-93be866045f4');\n",
       "var x = new MutationObserver(function (mutations, observer) {{\n",
       "        var display = window.getComputedStyle(gd).display;\n",
       "        if (!display || display === 'none') {{\n",
       "            console.log([gd, 'removed!']);\n",
       "            Plotly.purge(gd);\n",
       "            observer.disconnect();\n",
       "        }}\n",
       "}});\n",
       "\n",
       "// Listen for the removal of the full notebook cells\n",
       "var notebookContainer = gd.closest('#notebook-container');\n",
       "if (notebookContainer) {{\n",
       "    x.observe(notebookContainer, {childList: true});\n",
       "}}\n",
       "\n",
       "// Listen for the clearing of the current output cell\n",
       "var outputEl = gd.closest('.output');\n",
       "if (outputEl) {{\n",
       "    x.observe(outputEl, {childList: true});\n",
       "}}\n",
       "\n",
       "                        })                };                });            </script>        </div>"
      ]
     },
     "metadata": {},
     "output_type": "display_data"
    }
   ],
   "source": [
    "trace = go.Scatter(x=temp.fecha.values,\n",
    "                   y=temp.cnt.values,\n",
    "                   text=[f\"Fecha: {f}<br>Tuits: {c}\" for f,c in zip(temp.fecha.values,temp.cnt.values)],\n",
    "                   hoverinfo='text',\n",
    "                   mode='lines+markers',\n",
    "                   name='Días',\n",
    "                   line={'color':'#1DA1F2'})\n",
    "layout = go.Layout(title='Número de tuits por día')\n",
    "fig = go.Figure(data=[trace], layout=layout)\n",
    "iplot(fig)"
   ]
  },
  {
   "cell_type": "code",
   "execution_count": 35,
   "metadata": {},
   "outputs": [],
   "source": [
    "import numpy as np\n",
    "\n",
    "from wordcloud import WordCloud\n",
    "from wordcloud import ImageColorGenerator\n",
    "\n",
    "from nltk.corpus import stopwords\n",
    "stopwords = stopwords.words('spanish')\n",
    "\n",
    "import matplotlib.pyplot as plt\n",
    "import PIL.Image\n",
    "from IPython.display import display"
   ]
  },
  {
   "cell_type": "code",
   "execution_count": 37,
   "metadata": {},
   "outputs": [
    {
     "data": {
      "image/png": "[encoded data removed]",
      "text/plain": [
       "<Figure size 432x288 with 1 Axes>"
      ]
     },
     "metadata": {
      "needs_background": "light"
     },
     "output_type": "display_data"
    }
   ],
   "source": [
    "from wordcloud import WordCloud\n",
    "from wordcloud import ImageColorGenerator\n",
    "\n",
    "import matplotlib.pyplot as plt\n",
    "import PIL.Image\n",
    "from IPython.display import display\n",
    "\n",
    "palabras = data.tweet.str.cat(sep=\" \")\n",
    "wordcloud = WordCloud().generate(palabras)\n",
    "\n",
    "plt.imshow(wordcloud)\n",
    "plt.show()"
   ]
  },
  {
   "cell_type": "code",
   "execution_count": 39,
   "metadata": {},
   "outputs": [
    {
     "data": {
      "image/png": "[encoded data removed]",
      "text/plain": [
       "<Figure size 720x576 with 1 Axes>"
      ]
     },
     "metadata": {
      "needs_background": "light"
     },
     "output_type": "display_data"
    }
   ],
   "source": [
    "palabras = data.tweet.str.cat(sep=' ')\n",
    "\n",
    "wordcloud = WordCloud(width=800, height=400, # Ajustamos el tamaño\n",
    "                     max_font_size=150, max_words=250,\n",
    "                     background_color='white', colormap='gist_heat',\n",
    "                     stopwords=stopwords).generate(palabras) # https://matplotlib.org/3.1.0/tutorials/colors/colormaps.html\n",
    "\n",
    "plt.figure(figsize=(10,8))\n",
    "plt.imshow(wordcloud, interpolation='bilinear')\n",
    "plt.axis(\"off\") #apaga el eje para que no se visualice\n",
    "plt.tight_layout(pad=0)\n",
    "plt.show()"
   ]
  },
  {
   "cell_type": "code",
   "execution_count": 44,
   "metadata": {},
   "outputs": [],
   "source": [
    "def sentimiento(valor):\n",
    "    if valor > 0:\n",
    "        senti = 'POSITIVE'\n",
    "        #return senti\n",
    "    if valor < 0:\n",
    "        senti = 'NEGATIVE' \n",
    "        #return senti\n",
    "    if valor == 0:\n",
    "        senti = 'POSITIVE' \n",
    "    return senti"
   ]
  },
  {
   "cell_type": "code",
   "execution_count": 45,
   "metadata": {},
   "outputs": [
    {
     "data": {
      "text/html": [
       "<div>\n",
       "<style scoped>\n",
       "    .dataframe tbody tr th:only-of-type {\n",
       "        vertical-align: middle;\n",
       "    }\n",
       "\n",
       "    .dataframe tbody tr th {\n",
       "        vertical-align: top;\n",
       "    }\n",
       "\n",
       "    .dataframe thead th {\n",
       "        text-align: right;\n",
       "    }\n",
       "</style>\n",
       "<table border=\"1\" class=\"dataframe\">\n",
       "  <thead>\n",
       "    <tr style=\"text-align: right;\">\n",
       "      <th></th>\n",
       "      <th>tweet</th>\n",
       "      <th>date</th>\n",
       "      <th>city</th>\n",
       "      <th>clean</th>\n",
       "      <th>links</th>\n",
       "      <th>hashtags</th>\n",
       "      <th>mentions</th>\n",
       "      <th>fecha</th>\n",
       "      <th>tweet_p</th>\n",
       "      <th>sent_textblob</th>\n",
       "    </tr>\n",
       "  </thead>\n",
       "  <tbody>\n",
       "    <tr>\n",
       "      <th>0</th>\n",
       "      <td>@moneytorxbox @LaAmbivalentte @JoMalagon @Ivan...</td>\n",
       "      <td>2021-06-10 15:22:55</td>\n",
       "      <td>Bogota</td>\n",
       "      <td>para poder aplicar te puedes acercar a...</td>\n",
       "      <td>[https://t.co/HQZslsQpay]</td>\n",
       "      <td>[]</td>\n",
       "      <td>[@moneytorxbox, @LaAmbivalentte, @JoMalagon, @...</td>\n",
       "      <td>2021-06-10</td>\n",
       "      <td>[moneytorxbox, laambivalentte, jomalagon, ivan...</td>\n",
       "      <td>0.0</td>\n",
       "    </tr>\n",
       "    <tr>\n",
       "      <th>1</th>\n",
       "      <td>@LaMega Yo conocí a @CaroCarreta  hace un año ...</td>\n",
       "      <td>2021-06-10 12:14:35</td>\n",
       "      <td>Bogota</td>\n",
       "      <td>Yo conocí a   hace un año saliendo del fondo ...</td>\n",
       "      <td>[]</td>\n",
       "      <td>[#MiRicoMañanero]</td>\n",
       "      <td>[@LaMega, @CaroCarreta]</td>\n",
       "      <td>2021-06-10</td>\n",
       "      <td>[lamega, conocí, carocarreta, hace, año, salie...</td>\n",
       "      <td>0.0</td>\n",
       "    </tr>\n",
       "    <tr>\n",
       "      <th>2</th>\n",
       "      <td>@LaAmbivalentte @JoMalagon @IvanDuque @infopre...</td>\n",
       "      <td>2021-06-09 14:25:09</td>\n",
       "      <td>Bogota</td>\n",
       "      <td>te debes acercar a las oficinas del Fon...</td>\n",
       "      <td>[https://t.co/HQZslsQpay]</td>\n",
       "      <td>[]</td>\n",
       "      <td>[@LaAmbivalentte, @JoMalagon, @IvanDuque, @inf...</td>\n",
       "      <td>2021-06-09</td>\n",
       "      <td>[laambivalentte, jomalagon, ivanduque, infopre...</td>\n",
       "      <td>0.0</td>\n",
       "    </tr>\n",
       "    <tr>\n",
       "      <th>3</th>\n",
       "      <td>@LaAmbivalentte @JoMalagon @carlosruizma @info...</td>\n",
       "      <td>2021-06-09 14:16:46</td>\n",
       "      <td>Bogota</td>\n",
       "      <td>para poder aplicar te puedes acercar a ...</td>\n",
       "      <td>[https://t.co/HQZslsQpay]</td>\n",
       "      <td>[]</td>\n",
       "      <td>[@LaAmbivalentte, @JoMalagon, @carlosruizma, @...</td>\n",
       "      <td>2021-06-09</td>\n",
       "      <td>[laambivalentte, jomalagon, carlosruizma, info...</td>\n",
       "      <td>0.0</td>\n",
       "    </tr>\n",
       "    <tr>\n",
       "      <th>4</th>\n",
       "      <td>#Nacional👉El Fondo Nacional del Ahorro obtuvo ...</td>\n",
       "      <td>2021-06-08 16:00:00</td>\n",
       "      <td>Bogota</td>\n",
       "      <td>Fondo Nacional del Ahorro obtuvo la valoració...</td>\n",
       "      <td>[https://t.co/BoKofbOBgq, https://t.co/rdi0YxB...</td>\n",
       "      <td>[#Nacional👉El]</td>\n",
       "      <td>[@FNAahorro, @SPGRatingsLatAm, @FNApresidente]</td>\n",
       "      <td>2021-06-08</td>\n",
       "      <td>[nacional, fondo, nacional, ahorro, obtuvo, va...</td>\n",
       "      <td>-0.2</td>\n",
       "    </tr>\n",
       "  </tbody>\n",
       "</table>\n",
       "</div>"
      ],
      "text/plain": [
       "                                               tweet                date  \\\n",
       "0  @moneytorxbox @LaAmbivalentte @JoMalagon @Ivan... 2021-06-10 15:22:55   \n",
       "1  @LaMega Yo conocí a @CaroCarreta  hace un año ... 2021-06-10 12:14:35   \n",
       "2  @LaAmbivalentte @JoMalagon @IvanDuque @infopre... 2021-06-09 14:25:09   \n",
       "3  @LaAmbivalentte @JoMalagon @carlosruizma @info... 2021-06-09 14:16:46   \n",
       "4  #Nacional👉El Fondo Nacional del Ahorro obtuvo ... 2021-06-08 16:00:00   \n",
       "\n",
       "     city                                              clean  \\\n",
       "0  Bogota          para poder aplicar te puedes acercar a...   \n",
       "1  Bogota   Yo conocí a   hace un año saliendo del fondo ...   \n",
       "2  Bogota         te debes acercar a las oficinas del Fon...   \n",
       "3  Bogota         para poder aplicar te puedes acercar a ...   \n",
       "4  Bogota   Fondo Nacional del Ahorro obtuvo la valoració...   \n",
       "\n",
       "                                               links           hashtags  \\\n",
       "0                          [https://t.co/HQZslsQpay]                 []   \n",
       "1                                                 []  [#MiRicoMañanero]   \n",
       "2                          [https://t.co/HQZslsQpay]                 []   \n",
       "3                          [https://t.co/HQZslsQpay]                 []   \n",
       "4  [https://t.co/BoKofbOBgq, https://t.co/rdi0YxB...     [#Nacional👉El]   \n",
       "\n",
       "                                            mentions       fecha  \\\n",
       "0  [@moneytorxbox, @LaAmbivalentte, @JoMalagon, @...  2021-06-10   \n",
       "1                            [@LaMega, @CaroCarreta]  2021-06-10   \n",
       "2  [@LaAmbivalentte, @JoMalagon, @IvanDuque, @inf...  2021-06-09   \n",
       "3  [@LaAmbivalentte, @JoMalagon, @carlosruizma, @...  2021-06-09   \n",
       "4     [@FNAahorro, @SPGRatingsLatAm, @FNApresidente]  2021-06-08   \n",
       "\n",
       "                                             tweet_p  sent_textblob  \n",
       "0  [moneytorxbox, laambivalentte, jomalagon, ivan...            0.0  \n",
       "1  [lamega, conocí, carocarreta, hace, año, salie...            0.0  \n",
       "2  [laambivalentte, jomalagon, ivanduque, infopre...            0.0  \n",
       "3  [laambivalentte, jomalagon, carlosruizma, info...            0.0  \n",
       "4  [nacional, fondo, nacional, ahorro, obtuvo, va...           -0.2  "
      ]
     },
     "execution_count": 45,
     "metadata": {},
     "output_type": "execute_result"
    }
   ],
   "source": [
    "#Se crea una nueva columna para generar el porcentaje del sentimiento de los comentarios de algunas tuit con la librería TextBlob\n",
    "data['sent_textblob'] = data['clean'].apply(lambda valor: TextBlob(valor).sentiment.polarity)\n",
    "data.head()"
   ]
  },
  {
   "cell_type": "code",
   "execution_count": 46,
   "metadata": {},
   "outputs": [
    {
     "data": {
      "text/html": [
       "<div>\n",
       "<style scoped>\n",
       "    .dataframe tbody tr th:only-of-type {\n",
       "        vertical-align: middle;\n",
       "    }\n",
       "\n",
       "    .dataframe tbody tr th {\n",
       "        vertical-align: top;\n",
       "    }\n",
       "\n",
       "    .dataframe thead th {\n",
       "        text-align: right;\n",
       "    }\n",
       "</style>\n",
       "<table border=\"1\" class=\"dataframe\">\n",
       "  <thead>\n",
       "    <tr style=\"text-align: right;\">\n",
       "      <th></th>\n",
       "      <th>tweet</th>\n",
       "      <th>date</th>\n",
       "      <th>city</th>\n",
       "      <th>clean</th>\n",
       "      <th>links</th>\n",
       "      <th>hashtags</th>\n",
       "      <th>mentions</th>\n",
       "      <th>fecha</th>\n",
       "      <th>tweet_p</th>\n",
       "      <th>sent_textblob</th>\n",
       "      <th>descrip_sent_textblob</th>\n",
       "    </tr>\n",
       "  </thead>\n",
       "  <tbody>\n",
       "    <tr>\n",
       "      <th>0</th>\n",
       "      <td>@moneytorxbox @LaAmbivalentte @JoMalagon @Ivan...</td>\n",
       "      <td>2021-06-10 15:22:55</td>\n",
       "      <td>Bogota</td>\n",
       "      <td>para poder aplicar te puedes acercar a...</td>\n",
       "      <td>[https://t.co/HQZslsQpay]</td>\n",
       "      <td>[]</td>\n",
       "      <td>[@moneytorxbox, @LaAmbivalentte, @JoMalagon, @...</td>\n",
       "      <td>2021-06-10</td>\n",
       "      <td>[moneytorxbox, laambivalentte, jomalagon, ivan...</td>\n",
       "      <td>0.00</td>\n",
       "      <td>POSITIVE</td>\n",
       "    </tr>\n",
       "    <tr>\n",
       "      <th>1</th>\n",
       "      <td>@LaMega Yo conocí a @CaroCarreta  hace un año ...</td>\n",
       "      <td>2021-06-10 12:14:35</td>\n",
       "      <td>Bogota</td>\n",
       "      <td>Yo conocí a   hace un año saliendo del fondo ...</td>\n",
       "      <td>[]</td>\n",
       "      <td>[#MiRicoMañanero]</td>\n",
       "      <td>[@LaMega, @CaroCarreta]</td>\n",
       "      <td>2021-06-10</td>\n",
       "      <td>[lamega, conocí, carocarreta, hace, año, salie...</td>\n",
       "      <td>0.00</td>\n",
       "      <td>POSITIVE</td>\n",
       "    </tr>\n",
       "    <tr>\n",
       "      <th>2</th>\n",
       "      <td>@LaAmbivalentte @JoMalagon @IvanDuque @infopre...</td>\n",
       "      <td>2021-06-09 14:25:09</td>\n",
       "      <td>Bogota</td>\n",
       "      <td>te debes acercar a las oficinas del Fon...</td>\n",
       "      <td>[https://t.co/HQZslsQpay]</td>\n",
       "      <td>[]</td>\n",
       "      <td>[@LaAmbivalentte, @JoMalagon, @IvanDuque, @inf...</td>\n",
       "      <td>2021-06-09</td>\n",
       "      <td>[laambivalentte, jomalagon, ivanduque, infopre...</td>\n",
       "      <td>0.00</td>\n",
       "      <td>POSITIVE</td>\n",
       "    </tr>\n",
       "    <tr>\n",
       "      <th>3</th>\n",
       "      <td>@LaAmbivalentte @JoMalagon @carlosruizma @info...</td>\n",
       "      <td>2021-06-09 14:16:46</td>\n",
       "      <td>Bogota</td>\n",
       "      <td>para poder aplicar te puedes acercar a ...</td>\n",
       "      <td>[https://t.co/HQZslsQpay]</td>\n",
       "      <td>[]</td>\n",
       "      <td>[@LaAmbivalentte, @JoMalagon, @carlosruizma, @...</td>\n",
       "      <td>2021-06-09</td>\n",
       "      <td>[laambivalentte, jomalagon, carlosruizma, info...</td>\n",
       "      <td>0.00</td>\n",
       "      <td>POSITIVE</td>\n",
       "    </tr>\n",
       "    <tr>\n",
       "      <th>4</th>\n",
       "      <td>#Nacional👉El Fondo Nacional del Ahorro obtuvo ...</td>\n",
       "      <td>2021-06-08 16:00:00</td>\n",
       "      <td>Bogota</td>\n",
       "      <td>Fondo Nacional del Ahorro obtuvo la valoració...</td>\n",
       "      <td>[https://t.co/BoKofbOBgq, https://t.co/rdi0YxB...</td>\n",
       "      <td>[#Nacional👉El]</td>\n",
       "      <td>[@FNAahorro, @SPGRatingsLatAm, @FNApresidente]</td>\n",
       "      <td>2021-06-08</td>\n",
       "      <td>[nacional, fondo, nacional, ahorro, obtuvo, va...</td>\n",
       "      <td>-0.20</td>\n",
       "      <td>NEGATIVE</td>\n",
       "    </tr>\n",
       "    <tr>\n",
       "      <th>5</th>\n",
       "      <td>¿Ya leyeron el proyecto de ley PL 413/21? Sobr...</td>\n",
       "      <td>2021-06-07 14:57:49</td>\n",
       "      <td>Bogota</td>\n",
       "      <td>¿Ya leyeron el proyecto de ley PL 413/21? Sobr...</td>\n",
       "      <td>[]</td>\n",
       "      <td>[]</td>\n",
       "      <td>[]</td>\n",
       "      <td>2021-06-07</td>\n",
       "      <td>[leyeron, proyecto, ley, pl, mercado, capitale...</td>\n",
       "      <td>0.00</td>\n",
       "      <td>POSITIVE</td>\n",
       "    </tr>\n",
       "    <tr>\n",
       "      <th>6</th>\n",
       "      <td>Una vez más, la calificadora de riesgos BRC St...</td>\n",
       "      <td>2021-06-05 00:16:34</td>\n",
       "      <td>Bogota</td>\n",
       "      <td>Una vez más, la calificadora de riesgos BRC St...</td>\n",
       "      <td>[https://t.co/32ijrHiIA7]</td>\n",
       "      <td>[]</td>\n",
       "      <td>[]</td>\n",
       "      <td>2021-06-05</td>\n",
       "      <td>[vez, calificadora, riesgos, brc, standard, am...</td>\n",
       "      <td>-0.20</td>\n",
       "      <td>NEGATIVE</td>\n",
       "    </tr>\n",
       "    <tr>\n",
       "      <th>7</th>\n",
       "      <td>#UnPaísMásConectado | \"Estoy pagando un aparta...</td>\n",
       "      <td>2021-06-03 21:13:00</td>\n",
       "      <td>Bogota</td>\n",
       "      <td>| \"Estoy pagando un apartamento por medio del...</td>\n",
       "      <td>[https://t.co/T6jpjyoIs3]</td>\n",
       "      <td>[#UnPaísMásConectado]</td>\n",
       "      <td>[]</td>\n",
       "      <td>2021-06-03</td>\n",
       "      <td>[unpaísmásconectado, pagando, apartamento, med...</td>\n",
       "      <td>0.00</td>\n",
       "      <td>POSITIVE</td>\n",
       "    </tr>\n",
       "    <tr>\n",
       "      <th>8</th>\n",
       "      <td>@CLAO2420 @FNAahorro 2/2 del 90% es el Fondo N...</td>\n",
       "      <td>2021-06-03 17:20:01</td>\n",
       "      <td>Bogota</td>\n",
       "      <td>2/2 del 90% es el Fondo Nacional del Ahorro....</td>\n",
       "      <td>[https://t.co/HQZslsQpay, https://t.co/7kaKbX7...</td>\n",
       "      <td>[]</td>\n",
       "      <td>[@CLAO2420, @FNAahorro]</td>\n",
       "      <td>2021-06-03</td>\n",
       "      <td>[clao, fnaahorro, fondo, nacional, ahorro, may...</td>\n",
       "      <td>0.05</td>\n",
       "      <td>POSITIVE</td>\n",
       "    </tr>\n",
       "    <tr>\n",
       "      <th>9</th>\n",
       "      <td>@ogcoss @JoMalagon 2/2 es el Fondo Nacional de...</td>\n",
       "      <td>2021-06-03 16:13:13</td>\n",
       "      <td>Bogota</td>\n",
       "      <td>2/2 es el Fondo Nacional del Ahorro.  Para m...</td>\n",
       "      <td>[https://t.co/HQZslsQpay, https://t.co/7kaKbX7...</td>\n",
       "      <td>[]</td>\n",
       "      <td>[@ogcoss, @JoMalagon]</td>\n",
       "      <td>2021-06-03</td>\n",
       "      <td>[ogcoss, jomalagon, fondo, nacional, ahorro, m...</td>\n",
       "      <td>0.05</td>\n",
       "      <td>POSITIVE</td>\n",
       "    </tr>\n",
       "    <tr>\n",
       "      <th>10</th>\n",
       "      <td>@Karolin95988920 @JoMalagon 2/2 del 90% es el ...</td>\n",
       "      <td>2021-06-03 15:58:30</td>\n",
       "      <td>Bogota</td>\n",
       "      <td>2/2 del 90% es el Fondo Nacional del Ahorro....</td>\n",
       "      <td>[https://t.co/HQZslsQpay, https://t.co/7kaKbX7...</td>\n",
       "      <td>[]</td>\n",
       "      <td>[@Karolin95988920, @JoMalagon]</td>\n",
       "      <td>2021-06-03</td>\n",
       "      <td>[karolin, jomalagon, fondo, nacional, ahorro, ...</td>\n",
       "      <td>0.05</td>\n",
       "      <td>POSITIVE</td>\n",
       "    </tr>\n",
       "    <tr>\n",
       "      <th>11</th>\n",
       "      <td>Señores @zonafranca en el fondo nacional del a...</td>\n",
       "      <td>2021-06-03 02:20:11</td>\n",
       "      <td>Bogota</td>\n",
       "      <td>Señores  en el fondo nacional del ahorro tambi...</td>\n",
       "      <td>[]</td>\n",
       "      <td>[#ZonaFranca]</td>\n",
       "      <td>[@zonafranca]</td>\n",
       "      <td>2021-06-03</td>\n",
       "      <td>[señores, zonafranca, fondo, nacional, ahorro,...</td>\n",
       "      <td>0.00</td>\n",
       "      <td>POSITIVE</td>\n",
       "    </tr>\n",
       "  </tbody>\n",
       "</table>\n",
       "</div>"
      ],
      "text/plain": [
       "                                                tweet                date  \\\n",
       "0   @moneytorxbox @LaAmbivalentte @JoMalagon @Ivan... 2021-06-10 15:22:55   \n",
       "1   @LaMega Yo conocí a @CaroCarreta  hace un año ... 2021-06-10 12:14:35   \n",
       "2   @LaAmbivalentte @JoMalagon @IvanDuque @infopre... 2021-06-09 14:25:09   \n",
       "3   @LaAmbivalentte @JoMalagon @carlosruizma @info... 2021-06-09 14:16:46   \n",
       "4   #Nacional👉El Fondo Nacional del Ahorro obtuvo ... 2021-06-08 16:00:00   \n",
       "5   ¿Ya leyeron el proyecto de ley PL 413/21? Sobr... 2021-06-07 14:57:49   \n",
       "6   Una vez más, la calificadora de riesgos BRC St... 2021-06-05 00:16:34   \n",
       "7   #UnPaísMásConectado | \"Estoy pagando un aparta... 2021-06-03 21:13:00   \n",
       "8   @CLAO2420 @FNAahorro 2/2 del 90% es el Fondo N... 2021-06-03 17:20:01   \n",
       "9   @ogcoss @JoMalagon 2/2 es el Fondo Nacional de... 2021-06-03 16:13:13   \n",
       "10  @Karolin95988920 @JoMalagon 2/2 del 90% es el ... 2021-06-03 15:58:30   \n",
       "11  Señores @zonafranca en el fondo nacional del a... 2021-06-03 02:20:11   \n",
       "\n",
       "      city                                              clean  \\\n",
       "0   Bogota          para poder aplicar te puedes acercar a...   \n",
       "1   Bogota   Yo conocí a   hace un año saliendo del fondo ...   \n",
       "2   Bogota         te debes acercar a las oficinas del Fon...   \n",
       "3   Bogota         para poder aplicar te puedes acercar a ...   \n",
       "4   Bogota   Fondo Nacional del Ahorro obtuvo la valoració...   \n",
       "5   Bogota  ¿Ya leyeron el proyecto de ley PL 413/21? Sobr...   \n",
       "6   Bogota  Una vez más, la calificadora de riesgos BRC St...   \n",
       "7   Bogota   | \"Estoy pagando un apartamento por medio del...   \n",
       "8   Bogota    2/2 del 90% es el Fondo Nacional del Ahorro....   \n",
       "9   Bogota    2/2 es el Fondo Nacional del Ahorro.  Para m...   \n",
       "10  Bogota    2/2 del 90% es el Fondo Nacional del Ahorro....   \n",
       "11  Bogota  Señores  en el fondo nacional del ahorro tambi...   \n",
       "\n",
       "                                                links               hashtags  \\\n",
       "0                           [https://t.co/HQZslsQpay]                     []   \n",
       "1                                                  []      [#MiRicoMañanero]   \n",
       "2                           [https://t.co/HQZslsQpay]                     []   \n",
       "3                           [https://t.co/HQZslsQpay]                     []   \n",
       "4   [https://t.co/BoKofbOBgq, https://t.co/rdi0YxB...         [#Nacional👉El]   \n",
       "5                                                  []                     []   \n",
       "6                           [https://t.co/32ijrHiIA7]                     []   \n",
       "7                           [https://t.co/T6jpjyoIs3]  [#UnPaísMásConectado]   \n",
       "8   [https://t.co/HQZslsQpay, https://t.co/7kaKbX7...                     []   \n",
       "9   [https://t.co/HQZslsQpay, https://t.co/7kaKbX7...                     []   \n",
       "10  [https://t.co/HQZslsQpay, https://t.co/7kaKbX7...                     []   \n",
       "11                                                 []          [#ZonaFranca]   \n",
       "\n",
       "                                             mentions       fecha  \\\n",
       "0   [@moneytorxbox, @LaAmbivalentte, @JoMalagon, @...  2021-06-10   \n",
       "1                             [@LaMega, @CaroCarreta]  2021-06-10   \n",
       "2   [@LaAmbivalentte, @JoMalagon, @IvanDuque, @inf...  2021-06-09   \n",
       "3   [@LaAmbivalentte, @JoMalagon, @carlosruizma, @...  2021-06-09   \n",
       "4      [@FNAahorro, @SPGRatingsLatAm, @FNApresidente]  2021-06-08   \n",
       "5                                                  []  2021-06-07   \n",
       "6                                                  []  2021-06-05   \n",
       "7                                                  []  2021-06-03   \n",
       "8                             [@CLAO2420, @FNAahorro]  2021-06-03   \n",
       "9                               [@ogcoss, @JoMalagon]  2021-06-03   \n",
       "10                     [@Karolin95988920, @JoMalagon]  2021-06-03   \n",
       "11                                      [@zonafranca]  2021-06-03   \n",
       "\n",
       "                                              tweet_p  sent_textblob  \\\n",
       "0   [moneytorxbox, laambivalentte, jomalagon, ivan...           0.00   \n",
       "1   [lamega, conocí, carocarreta, hace, año, salie...           0.00   \n",
       "2   [laambivalentte, jomalagon, ivanduque, infopre...           0.00   \n",
       "3   [laambivalentte, jomalagon, carlosruizma, info...           0.00   \n",
       "4   [nacional, fondo, nacional, ahorro, obtuvo, va...          -0.20   \n",
       "5   [leyeron, proyecto, ley, pl, mercado, capitale...           0.00   \n",
       "6   [vez, calificadora, riesgos, brc, standard, am...          -0.20   \n",
       "7   [unpaísmásconectado, pagando, apartamento, med...           0.00   \n",
       "8   [clao, fnaahorro, fondo, nacional, ahorro, may...           0.05   \n",
       "9   [ogcoss, jomalagon, fondo, nacional, ahorro, m...           0.05   \n",
       "10  [karolin, jomalagon, fondo, nacional, ahorro, ...           0.05   \n",
       "11  [señores, zonafranca, fondo, nacional, ahorro,...           0.00   \n",
       "\n",
       "   descrip_sent_textblob  \n",
       "0               POSITIVE  \n",
       "1               POSITIVE  \n",
       "2               POSITIVE  \n",
       "3               POSITIVE  \n",
       "4               NEGATIVE  \n",
       "5               POSITIVE  \n",
       "6               NEGATIVE  \n",
       "7               POSITIVE  \n",
       "8               POSITIVE  \n",
       "9               POSITIVE  \n",
       "10              POSITIVE  \n",
       "11              POSITIVE  "
      ]
     },
     "execution_count": 46,
     "metadata": {},
     "output_type": "execute_result"
    }
   ],
   "source": [
    "#Se crea una nueva columna para colocar la descripción de que si el porcentaje es mayor o igual a cero es positivo y si\n",
    "# el porcentaje es menor a cero es negativo\n",
    "data['descrip_sent_textblob'] = data['sent_textblob'].apply(lambda valor: sentimiento(valor))\n",
    "data"
   ]
  },
  {
   "cell_type": "code",
   "execution_count": 47,
   "metadata": {},
   "outputs": [
    {
     "data": {
      "text/html": [
       "<div>\n",
       "<style scoped>\n",
       "    .dataframe tbody tr th:only-of-type {\n",
       "        vertical-align: middle;\n",
       "    }\n",
       "\n",
       "    .dataframe tbody tr th {\n",
       "        vertical-align: top;\n",
       "    }\n",
       "\n",
       "    .dataframe thead th {\n",
       "        text-align: right;\n",
       "    }\n",
       "</style>\n",
       "<table border=\"1\" class=\"dataframe\">\n",
       "  <thead>\n",
       "    <tr style=\"text-align: right;\">\n",
       "      <th></th>\n",
       "      <th>clean</th>\n",
       "      <th>sent_textblob</th>\n",
       "    </tr>\n",
       "  </thead>\n",
       "  <tbody>\n",
       "    <tr>\n",
       "      <th>8</th>\n",
       "      <td>2/2 del 90% es el Fondo Nacional del Ahorro....</td>\n",
       "      <td>0.05</td>\n",
       "    </tr>\n",
       "    <tr>\n",
       "      <th>9</th>\n",
       "      <td>2/2 es el Fondo Nacional del Ahorro.  Para m...</td>\n",
       "      <td>0.05</td>\n",
       "    </tr>\n",
       "    <tr>\n",
       "      <th>10</th>\n",
       "      <td>2/2 del 90% es el Fondo Nacional del Ahorro....</td>\n",
       "      <td>0.05</td>\n",
       "    </tr>\n",
       "    <tr>\n",
       "      <th>0</th>\n",
       "      <td>para poder aplicar te puedes acercar a...</td>\n",
       "      <td>0.00</td>\n",
       "    </tr>\n",
       "    <tr>\n",
       "      <th>1</th>\n",
       "      <td>Yo conocí a   hace un año saliendo del fondo ...</td>\n",
       "      <td>0.00</td>\n",
       "    </tr>\n",
       "    <tr>\n",
       "      <th>2</th>\n",
       "      <td>te debes acercar a las oficinas del Fon...</td>\n",
       "      <td>0.00</td>\n",
       "    </tr>\n",
       "    <tr>\n",
       "      <th>3</th>\n",
       "      <td>para poder aplicar te puedes acercar a ...</td>\n",
       "      <td>0.00</td>\n",
       "    </tr>\n",
       "    <tr>\n",
       "      <th>5</th>\n",
       "      <td>¿Ya leyeron el proyecto de ley PL 413/21? Sobr...</td>\n",
       "      <td>0.00</td>\n",
       "    </tr>\n",
       "    <tr>\n",
       "      <th>7</th>\n",
       "      <td>| \"Estoy pagando un apartamento por medio del...</td>\n",
       "      <td>0.00</td>\n",
       "    </tr>\n",
       "    <tr>\n",
       "      <th>11</th>\n",
       "      <td>Señores  en el fondo nacional del ahorro tambi...</td>\n",
       "      <td>0.00</td>\n",
       "    </tr>\n",
       "    <tr>\n",
       "      <th>4</th>\n",
       "      <td>Fondo Nacional del Ahorro obtuvo la valoració...</td>\n",
       "      <td>-0.20</td>\n",
       "    </tr>\n",
       "    <tr>\n",
       "      <th>6</th>\n",
       "      <td>Una vez más, la calificadora de riesgos BRC St...</td>\n",
       "      <td>-0.20</td>\n",
       "    </tr>\n",
       "  </tbody>\n",
       "</table>\n",
       "</div>"
      ],
      "text/plain": [
       "                                                clean  sent_textblob\n",
       "8     2/2 del 90% es el Fondo Nacional del Ahorro....           0.05\n",
       "9     2/2 es el Fondo Nacional del Ahorro.  Para m...           0.05\n",
       "10    2/2 del 90% es el Fondo Nacional del Ahorro....           0.05\n",
       "0           para poder aplicar te puedes acercar a...           0.00\n",
       "1    Yo conocí a   hace un año saliendo del fondo ...           0.00\n",
       "2          te debes acercar a las oficinas del Fon...           0.00\n",
       "3          para poder aplicar te puedes acercar a ...           0.00\n",
       "5   ¿Ya leyeron el proyecto de ley PL 413/21? Sobr...           0.00\n",
       "7    | \"Estoy pagando un apartamento por medio del...           0.00\n",
       "11  Señores  en el fondo nacional del ahorro tambi...           0.00\n",
       "4    Fondo Nacional del Ahorro obtuvo la valoració...          -0.20\n",
       "6   Una vez más, la calificadora de riesgos BRC St...          -0.20"
      ]
     },
     "execution_count": 47,
     "metadata": {},
     "output_type": "execute_result"
    }
   ],
   "source": [
    "#Se ordena los datos por el porcentaje de mayor a menor\n",
    "data[['clean', 'sent_textblob']].sort_values('sent_textblob',ascending=False)"
   ]
  },
  {
   "cell_type": "code",
   "execution_count": 48,
   "metadata": {},
   "outputs": [
    {
     "data": {
      "text/html": [
       "<div>\n",
       "<style scoped>\n",
       "    .dataframe tbody tr th:only-of-type {\n",
       "        vertical-align: middle;\n",
       "    }\n",
       "\n",
       "    .dataframe tbody tr th {\n",
       "        vertical-align: top;\n",
       "    }\n",
       "\n",
       "    .dataframe thead th {\n",
       "        text-align: right;\n",
       "    }\n",
       "</style>\n",
       "<table border=\"1\" class=\"dataframe\">\n",
       "  <thead>\n",
       "    <tr style=\"text-align: right;\">\n",
       "      <th></th>\n",
       "      <th>clean</th>\n",
       "      <th>sent_textblob</th>\n",
       "    </tr>\n",
       "  </thead>\n",
       "  <tbody>\n",
       "    <tr>\n",
       "      <th>4</th>\n",
       "      <td>Fondo Nacional del Ahorro obtuvo la valoració...</td>\n",
       "      <td>-0.20</td>\n",
       "    </tr>\n",
       "    <tr>\n",
       "      <th>6</th>\n",
       "      <td>Una vez más, la calificadora de riesgos BRC St...</td>\n",
       "      <td>-0.20</td>\n",
       "    </tr>\n",
       "    <tr>\n",
       "      <th>0</th>\n",
       "      <td>para poder aplicar te puedes acercar a...</td>\n",
       "      <td>0.00</td>\n",
       "    </tr>\n",
       "    <tr>\n",
       "      <th>1</th>\n",
       "      <td>Yo conocí a   hace un año saliendo del fondo ...</td>\n",
       "      <td>0.00</td>\n",
       "    </tr>\n",
       "    <tr>\n",
       "      <th>2</th>\n",
       "      <td>te debes acercar a las oficinas del Fon...</td>\n",
       "      <td>0.00</td>\n",
       "    </tr>\n",
       "    <tr>\n",
       "      <th>3</th>\n",
       "      <td>para poder aplicar te puedes acercar a ...</td>\n",
       "      <td>0.00</td>\n",
       "    </tr>\n",
       "    <tr>\n",
       "      <th>5</th>\n",
       "      <td>¿Ya leyeron el proyecto de ley PL 413/21? Sobr...</td>\n",
       "      <td>0.00</td>\n",
       "    </tr>\n",
       "    <tr>\n",
       "      <th>7</th>\n",
       "      <td>| \"Estoy pagando un apartamento por medio del...</td>\n",
       "      <td>0.00</td>\n",
       "    </tr>\n",
       "    <tr>\n",
       "      <th>11</th>\n",
       "      <td>Señores  en el fondo nacional del ahorro tambi...</td>\n",
       "      <td>0.00</td>\n",
       "    </tr>\n",
       "    <tr>\n",
       "      <th>8</th>\n",
       "      <td>2/2 del 90% es el Fondo Nacional del Ahorro....</td>\n",
       "      <td>0.05</td>\n",
       "    </tr>\n",
       "    <tr>\n",
       "      <th>9</th>\n",
       "      <td>2/2 es el Fondo Nacional del Ahorro.  Para m...</td>\n",
       "      <td>0.05</td>\n",
       "    </tr>\n",
       "    <tr>\n",
       "      <th>10</th>\n",
       "      <td>2/2 del 90% es el Fondo Nacional del Ahorro....</td>\n",
       "      <td>0.05</td>\n",
       "    </tr>\n",
       "  </tbody>\n",
       "</table>\n",
       "</div>"
      ],
      "text/plain": [
       "                                                clean  sent_textblob\n",
       "4    Fondo Nacional del Ahorro obtuvo la valoració...          -0.20\n",
       "6   Una vez más, la calificadora de riesgos BRC St...          -0.20\n",
       "0           para poder aplicar te puedes acercar a...           0.00\n",
       "1    Yo conocí a   hace un año saliendo del fondo ...           0.00\n",
       "2          te debes acercar a las oficinas del Fon...           0.00\n",
       "3          para poder aplicar te puedes acercar a ...           0.00\n",
       "5   ¿Ya leyeron el proyecto de ley PL 413/21? Sobr...           0.00\n",
       "7    | \"Estoy pagando un apartamento por medio del...           0.00\n",
       "11  Señores  en el fondo nacional del ahorro tambi...           0.00\n",
       "8     2/2 del 90% es el Fondo Nacional del Ahorro....           0.05\n",
       "9     2/2 es el Fondo Nacional del Ahorro.  Para m...           0.05\n",
       "10    2/2 del 90% es el Fondo Nacional del Ahorro....           0.05"
      ]
     },
     "execution_count": 48,
     "metadata": {},
     "output_type": "execute_result"
    }
   ],
   "source": [
    "#Se ordena los datos por el porcentaje de menor a mayor\n",
    "data[['clean', 'sent_textblob']].sort_values('sent_textblob',ascending=True)"
   ]
  },
  {
   "cell_type": "code",
   "execution_count": 49,
   "metadata": {},
   "outputs": [
    {
     "data": {
      "text/html": [
       "<div>\n",
       "<style scoped>\n",
       "    .dataframe tbody tr th:only-of-type {\n",
       "        vertical-align: middle;\n",
       "    }\n",
       "\n",
       "    .dataframe tbody tr th {\n",
       "        vertical-align: top;\n",
       "    }\n",
       "\n",
       "    .dataframe thead th {\n",
       "        text-align: right;\n",
       "    }\n",
       "</style>\n",
       "<table border=\"1\" class=\"dataframe\">\n",
       "  <thead>\n",
       "    <tr style=\"text-align: right;\">\n",
       "      <th></th>\n",
       "      <th>descrip_textblob</th>\n",
       "      <th>cant</th>\n",
       "      <th>porcentaje</th>\n",
       "    </tr>\n",
       "  </thead>\n",
       "  <tbody>\n",
       "    <tr>\n",
       "      <th>1</th>\n",
       "      <td>NEGATIVE</td>\n",
       "      <td>2</td>\n",
       "      <td>0.17</td>\n",
       "    </tr>\n",
       "    <tr>\n",
       "      <th>0</th>\n",
       "      <td>POSITIVE</td>\n",
       "      <td>10</td>\n",
       "      <td>0.83</td>\n",
       "    </tr>\n",
       "  </tbody>\n",
       "</table>\n",
       "</div>"
      ],
      "text/plain": [
       "  descrip_textblob  cant  porcentaje\n",
       "1         NEGATIVE     2        0.17\n",
       "0         POSITIVE    10        0.83"
      ]
     },
     "execution_count": 49,
     "metadata": {},
     "output_type": "execute_result"
    }
   ],
   "source": [
    "#Se coloca la cantidad y el porcentaje de tuit por opiniones negativas y positivas\n",
    "cant_tweet = pd.DataFrame(data.descrip_sent_textblob.value_counts()).reset_index()\n",
    "cant_tweet.columns = ['descrip_textblob', 'cant']\n",
    "cant_tweet1 = pd.DataFrame(round((data.descrip_sent_textblob.value_counts(normalize=True)),2)).reset_index()\n",
    "cant_tweet1.columns = ['descrip_textblob', 'porcentaje']\n",
    "cant_tweet2 = pd.merge(cant_tweet, cant_tweet1, on='descrip_textblob')\n",
    "cant_tweet2 = cant_tweet2.sort_values('cant')\n",
    "cant_tweet2\n",
    "\n"
   ]
  },
  {
   "cell_type": "code",
   "execution_count": 50,
   "metadata": {},
   "outputs": [
    {
     "data": {
      "application/vnd.plotly.v1+json": {
       "config": {
        "linkText": "Export to plot.ly",
        "plotlyServerURL": "https://plot.ly",
        "showLink": false
       },
       "data": [
        {
         "type": "bar",
         "x": [
          "NEGATIVE",
          "POSITIVE"
         ],
         "y": [
          2,
          10
         ]
        }
       ],
       "layout": {
        "template": {
         "data": {
          "bar": [
           {
            "error_x": {
             "color": "#2a3f5f"
            },
            "error_y": {
             "color": "#2a3f5f"
            },
            "marker": {
             "line": {
              "color": "#E5ECF6",
              "width": 0.5
             }
            },
            "type": "bar"
           }
          ],
          "barpolar": [
           {
            "marker": {
             "line": {
              "color": "#E5ECF6",
              "width": 0.5
             }
            },
            "type": "barpolar"
           }
          ],
          "carpet": [
           {
            "aaxis": {
             "endlinecolor": "#2a3f5f",
             "gridcolor": "white",
             "linecolor": "white",
             "minorgridcolor": "white",
             "startlinecolor": "#2a3f5f"
            },
            "baxis": {
             "endlinecolor": "#2a3f5f",
             "gridcolor": "white",
             "linecolor": "white",
             "minorgridcolor": "white",
             "startlinecolor": "#2a3f5f"
            },
            "type": "carpet"
           }
          ],
          "choropleth": [
           {
            "colorbar": {
             "outlinewidth": 0,
             "ticks": ""
            },
            "type": "choropleth"
           }
          ],
          "contour": [
           {
            "colorbar": {
             "outlinewidth": 0,
             "ticks": ""
            },
            "colorscale": [
             [
              0,
              "#0d0887"
             ],
             [
              0.1111111111111111,
              "#46039f"
             ],
             [
              0.2222222222222222,
              "#7201a8"
             ],
             [
              0.3333333333333333,
              "#9c179e"
             ],
             [
              0.4444444444444444,
              "#bd3786"
             ],
             [
              0.5555555555555556,
              "#d8576b"
             ],
             [
              0.6666666666666666,
              "#ed7953"
             ],
             [
              0.7777777777777778,
              "#fb9f3a"
             ],
             [
              0.8888888888888888,
              "#fdca26"
             ],
             [
              1,
              "#f0f921"
             ]
            ],
            "type": "contour"
           }
          ],
          "contourcarpet": [
           {
            "colorbar": {
             "outlinewidth": 0,
             "ticks": ""
            },
            "type": "contourcarpet"
           }
          ],
          "heatmap": [
           {
            "colorbar": {
             "outlinewidth": 0,
             "ticks": ""
            },
            "colorscale": [
             [
              0,
              "#0d0887"
             ],
             [
              0.1111111111111111,
              "#46039f"
             ],
             [
              0.2222222222222222,
              "#7201a8"
             ],
             [
              0.3333333333333333,
              "#9c179e"
             ],
             [
              0.4444444444444444,
              "#bd3786"
             ],
             [
              0.5555555555555556,
              "#d8576b"
             ],
             [
              0.6666666666666666,
              "#ed7953"
             ],
             [
              0.7777777777777778,
              "#fb9f3a"
             ],
             [
              0.8888888888888888,
              "#fdca26"
             ],
             [
              1,
              "#f0f921"
             ]
            ],
            "type": "heatmap"
           }
          ],
          "heatmapgl": [
           {
            "colorbar": {
             "outlinewidth": 0,
             "ticks": ""
            },
            "colorscale": [
             [
              0,
              "#0d0887"
             ],
             [
              0.1111111111111111,
              "#46039f"
             ],
             [
              0.2222222222222222,
              "#7201a8"
             ],
             [
              0.3333333333333333,
              "#9c179e"
             ],
             [
              0.4444444444444444,
              "#bd3786"
             ],
             [
              0.5555555555555556,
              "#d8576b"
             ],
             [
              0.6666666666666666,
              "#ed7953"
             ],
             [
              0.7777777777777778,
              "#fb9f3a"
             ],
             [
              0.8888888888888888,
              "#fdca26"
             ],
             [
              1,
              "#f0f921"
             ]
            ],
            "type": "heatmapgl"
           }
          ],
          "histogram": [
           {
            "marker": {
             "colorbar": {
              "outlinewidth": 0,
              "ticks": ""
             }
            },
            "type": "histogram"
           }
          ],
          "histogram2d": [
           {
            "colorbar": {
             "outlinewidth": 0,
             "ticks": ""
            },
            "colorscale": [
             [
              0,
              "#0d0887"
             ],
             [
              0.1111111111111111,
              "#46039f"
             ],
             [
              0.2222222222222222,
              "#7201a8"
             ],
             [
              0.3333333333333333,
              "#9c179e"
             ],
             [
              0.4444444444444444,
              "#bd3786"
             ],
             [
              0.5555555555555556,
              "#d8576b"
             ],
             [
              0.6666666666666666,
              "#ed7953"
             ],
             [
              0.7777777777777778,
              "#fb9f3a"
             ],
             [
              0.8888888888888888,
              "#fdca26"
             ],
             [
              1,
              "#f0f921"
             ]
            ],
            "type": "histogram2d"
           }
          ],
          "histogram2dcontour": [
           {
            "colorbar": {
             "outlinewidth": 0,
             "ticks": ""
            },
            "colorscale": [
             [
              0,
              "#0d0887"
             ],
             [
              0.1111111111111111,
              "#46039f"
             ],
             [
              0.2222222222222222,
              "#7201a8"
             ],
             [
              0.3333333333333333,
              "#9c179e"
             ],
             [
              0.4444444444444444,
              "#bd3786"
             ],
             [
              0.5555555555555556,
              "#d8576b"
             ],
             [
              0.6666666666666666,
              "#ed7953"
             ],
             [
              0.7777777777777778,
              "#fb9f3a"
             ],
             [
              0.8888888888888888,
              "#fdca26"
             ],
             [
              1,
              "#f0f921"
             ]
            ],
            "type": "histogram2dcontour"
           }
          ],
          "mesh3d": [
           {
            "colorbar": {
             "outlinewidth": 0,
             "ticks": ""
            },
            "type": "mesh3d"
           }
          ],
          "parcoords": [
           {
            "line": {
             "colorbar": {
              "outlinewidth": 0,
              "ticks": ""
             }
            },
            "type": "parcoords"
           }
          ],
          "pie": [
           {
            "automargin": true,
            "type": "pie"
           }
          ],
          "scatter": [
           {
            "marker": {
             "colorbar": {
              "outlinewidth": 0,
              "ticks": ""
             }
            },
            "type": "scatter"
           }
          ],
          "scatter3d": [
           {
            "line": {
             "colorbar": {
              "outlinewidth": 0,
              "ticks": ""
             }
            },
            "marker": {
             "colorbar": {
              "outlinewidth": 0,
              "ticks": ""
             }
            },
            "type": "scatter3d"
           }
          ],
          "scattercarpet": [
           {
            "marker": {
             "colorbar": {
              "outlinewidth": 0,
              "ticks": ""
             }
            },
            "type": "scattercarpet"
           }
          ],
          "scattergeo": [
           {
            "marker": {
             "colorbar": {
              "outlinewidth": 0,
              "ticks": ""
             }
            },
            "type": "scattergeo"
           }
          ],
          "scattergl": [
           {
            "marker": {
             "colorbar": {
              "outlinewidth": 0,
              "ticks": ""
             }
            },
            "type": "scattergl"
           }
          ],
          "scattermapbox": [
           {
            "marker": {
             "colorbar": {
              "outlinewidth": 0,
              "ticks": ""
             }
            },
            "type": "scattermapbox"
           }
          ],
          "scatterpolar": [
           {
            "marker": {
             "colorbar": {
              "outlinewidth": 0,
              "ticks": ""
             }
            },
            "type": "scatterpolar"
           }
          ],
          "scatterpolargl": [
           {
            "marker": {
             "colorbar": {
              "outlinewidth": 0,
              "ticks": ""
             }
            },
            "type": "scatterpolargl"
           }
          ],
          "scatterternary": [
           {
            "marker": {
             "colorbar": {
              "outlinewidth": 0,
              "ticks": ""
             }
            },
            "type": "scatterternary"
           }
          ],
          "surface": [
           {
            "colorbar": {
             "outlinewidth": 0,
             "ticks": ""
            },
            "colorscale": [
             [
              0,
              "#0d0887"
             ],
             [
              0.1111111111111111,
              "#46039f"
             ],
             [
              0.2222222222222222,
              "#7201a8"
             ],
             [
              0.3333333333333333,
              "#9c179e"
             ],
             [
              0.4444444444444444,
              "#bd3786"
             ],
             [
              0.5555555555555556,
              "#d8576b"
             ],
             [
              0.6666666666666666,
              "#ed7953"
             ],
             [
              0.7777777777777778,
              "#fb9f3a"
             ],
             [
              0.8888888888888888,
              "#fdca26"
             ],
             [
              1,
              "#f0f921"
             ]
            ],
            "type": "surface"
           }
          ],
          "table": [
           {
            "cells": {
             "fill": {
              "color": "#EBF0F8"
             },
             "line": {
              "color": "white"
             }
            },
            "header": {
             "fill": {
              "color": "#C8D4E3"
             },
             "line": {
              "color": "white"
             }
            },
            "type": "table"
           }
          ]
         },
         "layout": {
          "annotationdefaults": {
           "arrowcolor": "#2a3f5f",
           "arrowhead": 0,
           "arrowwidth": 1
          },
          "autotypenumbers": "strict",
          "coloraxis": {
           "colorbar": {
            "outlinewidth": 0,
            "ticks": ""
           }
          },
          "colorscale": {
           "diverging": [
            [
             0,
             "#8e0152"
            ],
            [
             0.1,
             "#c51b7d"
            ],
            [
             0.2,
             "#de77ae"
            ],
            [
             0.3,
             "#f1b6da"
            ],
            [
             0.4,
             "#fde0ef"
            ],
            [
             0.5,
             "#f7f7f7"
            ],
            [
             0.6,
             "#e6f5d0"
            ],
            [
             0.7,
             "#b8e186"
            ],
            [
             0.8,
             "#7fbc41"
            ],
            [
             0.9,
             "#4d9221"
            ],
            [
             1,
             "#276419"
            ]
           ],
           "sequential": [
            [
             0,
             "#0d0887"
            ],
            [
             0.1111111111111111,
             "#46039f"
            ],
            [
             0.2222222222222222,
             "#7201a8"
            ],
            [
             0.3333333333333333,
             "#9c179e"
            ],
            [
             0.4444444444444444,
             "#bd3786"
            ],
            [
             0.5555555555555556,
             "#d8576b"
            ],
            [
             0.6666666666666666,
             "#ed7953"
            ],
            [
             0.7777777777777778,
             "#fb9f3a"
            ],
            [
             0.8888888888888888,
             "#fdca26"
            ],
            [
             1,
             "#f0f921"
            ]
           ],
           "sequentialminus": [
            [
             0,
             "#0d0887"
            ],
            [
             0.1111111111111111,
             "#46039f"
            ],
            [
             0.2222222222222222,
             "#7201a8"
            ],
            [
             0.3333333333333333,
             "#9c179e"
            ],
            [
             0.4444444444444444,
             "#bd3786"
            ],
            [
             0.5555555555555556,
             "#d8576b"
            ],
            [
             0.6666666666666666,
             "#ed7953"
            ],
            [
             0.7777777777777778,
             "#fb9f3a"
            ],
            [
             0.8888888888888888,
             "#fdca26"
            ],
            [
             1,
             "#f0f921"
            ]
           ]
          },
          "colorway": [
           "#636efa",
           "#EF553B",
           "#00cc96",
           "#ab63fa",
           "#FFA15A",
           "#19d3f3",
           "#FF6692",
           "#B6E880",
           "#FF97FF",
           "#FECB52"
          ],
          "font": {
           "color": "#2a3f5f"
          },
          "geo": {
           "bgcolor": "white",
           "lakecolor": "white",
           "landcolor": "#E5ECF6",
           "showlakes": true,
           "showland": true,
           "subunitcolor": "white"
          },
          "hoverlabel": {
           "align": "left"
          },
          "hovermode": "closest",
          "mapbox": {
           "style": "light"
          },
          "paper_bgcolor": "white",
          "plot_bgcolor": "#E5ECF6",
          "polar": {
           "angularaxis": {
            "gridcolor": "white",
            "linecolor": "white",
            "ticks": ""
           },
           "bgcolor": "#E5ECF6",
           "radialaxis": {
            "gridcolor": "white",
            "linecolor": "white",
            "ticks": ""
           }
          },
          "scene": {
           "xaxis": {
            "backgroundcolor": "#E5ECF6",
            "gridcolor": "white",
            "gridwidth": 2,
            "linecolor": "white",
            "showbackground": true,
            "ticks": "",
            "zerolinecolor": "white"
           },
           "yaxis": {
            "backgroundcolor": "#E5ECF6",
            "gridcolor": "white",
            "gridwidth": 2,
            "linecolor": "white",
            "showbackground": true,
            "ticks": "",
            "zerolinecolor": "white"
           },
           "zaxis": {
            "backgroundcolor": "#E5ECF6",
            "gridcolor": "white",
            "gridwidth": 2,
            "linecolor": "white",
            "showbackground": true,
            "ticks": "",
            "zerolinecolor": "white"
           }
          },
          "shapedefaults": {
           "line": {
            "color": "#2a3f5f"
           }
          },
          "ternary": {
           "aaxis": {
            "gridcolor": "white",
            "linecolor": "white",
            "ticks": ""
           },
           "baxis": {
            "gridcolor": "white",
            "linecolor": "white",
            "ticks": ""
           },
           "bgcolor": "#E5ECF6",
           "caxis": {
            "gridcolor": "white",
            "linecolor": "white",
            "ticks": ""
           }
          },
          "title": {
           "x": 0.05
          },
          "xaxis": {
           "automargin": true,
           "gridcolor": "white",
           "linecolor": "white",
           "ticks": "",
           "title": {
            "standoff": 15
           },
           "zerolinecolor": "white",
           "zerolinewidth": 2
          },
          "yaxis": {
           "automargin": true,
           "gridcolor": "white",
           "linecolor": "white",
           "ticks": "",
           "title": {
            "standoff": 15
           },
           "zerolinecolor": "white",
           "zerolinewidth": 2
          }
         }
        },
        "title": {
         "text": "Opiniones Positivas y Negativas con Textblob"
        }
       }
      },
      "text/html": [
       "<div>                            <div id=\"38e5f0dc-1af9-47e8-a7ee-81b9db4d61e5\" class=\"plotly-graph-div\" style=\"height:525px; width:100%;\"></div>            <script type=\"text/javascript\">                require([\"plotly\"], function(Plotly) {                    window.PLOTLYENV=window.PLOTLYENV || {};                                    if (document.getElementById(\"38e5f0dc-1af9-47e8-a7ee-81b9db4d61e5\")) {                    Plotly.newPlot(                        \"38e5f0dc-1af9-47e8-a7ee-81b9db4d61e5\",                        [{\"type\": \"bar\", \"x\": [\"NEGATIVE\", \"POSITIVE\"], \"y\": [2, 10]}],                        {\"template\": {\"data\": {\"bar\": [{\"error_x\": {\"color\": \"#2a3f5f\"}, \"error_y\": {\"color\": \"#2a3f5f\"}, \"marker\": {\"line\": {\"color\": \"#E5ECF6\", \"width\": 0.5}}, \"type\": \"bar\"}], \"barpolar\": [{\"marker\": {\"line\": {\"color\": \"#E5ECF6\", \"width\": 0.5}}, \"type\": \"barpolar\"}], \"carpet\": [{\"aaxis\": {\"endlinecolor\": \"#2a3f5f\", \"gridcolor\": \"white\", \"linecolor\": \"white\", \"minorgridcolor\": \"white\", \"startlinecolor\": \"#2a3f5f\"}, \"baxis\": {\"endlinecolor\": \"#2a3f5f\", \"gridcolor\": \"white\", \"linecolor\": \"white\", \"minorgridcolor\": \"white\", \"startlinecolor\": \"#2a3f5f\"}, \"type\": \"carpet\"}], \"choropleth\": [{\"colorbar\": {\"outlinewidth\": 0, \"ticks\": \"\"}, \"type\": \"choropleth\"}], \"contour\": [{\"colorbar\": {\"outlinewidth\": 0, \"ticks\": \"\"}, \"colorscale\": [[0.0, \"#0d0887\"], [0.1111111111111111, \"#46039f\"], [0.2222222222222222, \"#7201a8\"], [0.3333333333333333, \"#9c179e\"], [0.4444444444444444, \"#bd3786\"], [0.5555555555555556, \"#d8576b\"], [0.6666666666666666, \"#ed7953\"], [0.7777777777777778, \"#fb9f3a\"], [0.8888888888888888, \"#fdca26\"], [1.0, \"#f0f921\"]], \"type\": \"contour\"}], \"contourcarpet\": [{\"colorbar\": {\"outlinewidth\": 0, \"ticks\": \"\"}, \"type\": \"contourcarpet\"}], \"heatmap\": [{\"colorbar\": {\"outlinewidth\": 0, \"ticks\": \"\"}, \"colorscale\": [[0.0, \"#0d0887\"], [0.1111111111111111, \"#46039f\"], [0.2222222222222222, \"#7201a8\"], [0.3333333333333333, \"#9c179e\"], [0.4444444444444444, \"#bd3786\"], [0.5555555555555556, \"#d8576b\"], [0.6666666666666666, \"#ed7953\"], [0.7777777777777778, \"#fb9f3a\"], [0.8888888888888888, \"#fdca26\"], [1.0, \"#f0f921\"]], \"type\": \"heatmap\"}], \"heatmapgl\": [{\"colorbar\": {\"outlinewidth\": 0, \"ticks\": \"\"}, \"colorscale\": [[0.0, \"#0d0887\"], [0.1111111111111111, \"#46039f\"], [0.2222222222222222, \"#7201a8\"], [0.3333333333333333, \"#9c179e\"], [0.4444444444444444, \"#bd3786\"], [0.5555555555555556, \"#d8576b\"], [0.6666666666666666, \"#ed7953\"], [0.7777777777777778, \"#fb9f3a\"], [0.8888888888888888, \"#fdca26\"], [1.0, \"#f0f921\"]], \"type\": \"heatmapgl\"}], \"histogram\": [{\"marker\": {\"colorbar\": {\"outlinewidth\": 0, \"ticks\": \"\"}}, \"type\": \"histogram\"}], \"histogram2d\": [{\"colorbar\": {\"outlinewidth\": 0, \"ticks\": \"\"}, \"colorscale\": [[0.0, \"#0d0887\"], [0.1111111111111111, \"#46039f\"], [0.2222222222222222, \"#7201a8\"], [0.3333333333333333, \"#9c179e\"], [0.4444444444444444, \"#bd3786\"], [0.5555555555555556, \"#d8576b\"], [0.6666666666666666, \"#ed7953\"], [0.7777777777777778, \"#fb9f3a\"], [0.8888888888888888, \"#fdca26\"], [1.0, \"#f0f921\"]], \"type\": \"histogram2d\"}], \"histogram2dcontour\": [{\"colorbar\": {\"outlinewidth\": 0, \"ticks\": \"\"}, \"colorscale\": [[0.0, \"#0d0887\"], [0.1111111111111111, \"#46039f\"], [0.2222222222222222, \"#7201a8\"], [0.3333333333333333, \"#9c179e\"], [0.4444444444444444, \"#bd3786\"], [0.5555555555555556, \"#d8576b\"], [0.6666666666666666, \"#ed7953\"], [0.7777777777777778, \"#fb9f3a\"], [0.8888888888888888, \"#fdca26\"], [1.0, \"#f0f921\"]], \"type\": \"histogram2dcontour\"}], \"mesh3d\": [{\"colorbar\": {\"outlinewidth\": 0, \"ticks\": \"\"}, \"type\": \"mesh3d\"}], \"parcoords\": [{\"line\": {\"colorbar\": {\"outlinewidth\": 0, \"ticks\": \"\"}}, \"type\": \"parcoords\"}], \"pie\": [{\"automargin\": true, \"type\": \"pie\"}], \"scatter\": [{\"marker\": {\"colorbar\": {\"outlinewidth\": 0, \"ticks\": \"\"}}, \"type\": \"scatter\"}], \"scatter3d\": [{\"line\": {\"colorbar\": {\"outlinewidth\": 0, \"ticks\": \"\"}}, \"marker\": {\"colorbar\": {\"outlinewidth\": 0, \"ticks\": \"\"}}, \"type\": \"scatter3d\"}], \"scattercarpet\": [{\"marker\": {\"colorbar\": {\"outlinewidth\": 0, \"ticks\": \"\"}}, \"type\": \"scattercarpet\"}], \"scattergeo\": [{\"marker\": {\"colorbar\": {\"outlinewidth\": 0, \"ticks\": \"\"}}, \"type\": \"scattergeo\"}], \"scattergl\": [{\"marker\": {\"colorbar\": {\"outlinewidth\": 0, \"ticks\": \"\"}}, \"type\": \"scattergl\"}], \"scattermapbox\": [{\"marker\": {\"colorbar\": {\"outlinewidth\": 0, \"ticks\": \"\"}}, \"type\": \"scattermapbox\"}], \"scatterpolar\": [{\"marker\": {\"colorbar\": {\"outlinewidth\": 0, \"ticks\": \"\"}}, \"type\": \"scatterpolar\"}], \"scatterpolargl\": [{\"marker\": {\"colorbar\": {\"outlinewidth\": 0, \"ticks\": \"\"}}, \"type\": \"scatterpolargl\"}], \"scatterternary\": [{\"marker\": {\"colorbar\": {\"outlinewidth\": 0, \"ticks\": \"\"}}, \"type\": \"scatterternary\"}], \"surface\": [{\"colorbar\": {\"outlinewidth\": 0, \"ticks\": \"\"}, \"colorscale\": [[0.0, \"#0d0887\"], [0.1111111111111111, \"#46039f\"], [0.2222222222222222, \"#7201a8\"], [0.3333333333333333, \"#9c179e\"], [0.4444444444444444, \"#bd3786\"], [0.5555555555555556, \"#d8576b\"], [0.6666666666666666, \"#ed7953\"], [0.7777777777777778, \"#fb9f3a\"], [0.8888888888888888, \"#fdca26\"], [1.0, \"#f0f921\"]], \"type\": \"surface\"}], \"table\": [{\"cells\": {\"fill\": {\"color\": \"#EBF0F8\"}, \"line\": {\"color\": \"white\"}}, \"header\": {\"fill\": {\"color\": \"#C8D4E3\"}, \"line\": {\"color\": \"white\"}}, \"type\": \"table\"}]}, \"layout\": {\"annotationdefaults\": {\"arrowcolor\": \"#2a3f5f\", \"arrowhead\": 0, \"arrowwidth\": 1}, \"autotypenumbers\": \"strict\", \"coloraxis\": {\"colorbar\": {\"outlinewidth\": 0, \"ticks\": \"\"}}, \"colorscale\": {\"diverging\": [[0, \"#8e0152\"], [0.1, \"#c51b7d\"], [0.2, \"#de77ae\"], [0.3, \"#f1b6da\"], [0.4, \"#fde0ef\"], [0.5, \"#f7f7f7\"], [0.6, \"#e6f5d0\"], [0.7, \"#b8e186\"], [0.8, \"#7fbc41\"], [0.9, \"#4d9221\"], [1, \"#276419\"]], \"sequential\": [[0.0, \"#0d0887\"], [0.1111111111111111, \"#46039f\"], [0.2222222222222222, \"#7201a8\"], [0.3333333333333333, \"#9c179e\"], [0.4444444444444444, \"#bd3786\"], [0.5555555555555556, \"#d8576b\"], [0.6666666666666666, \"#ed7953\"], [0.7777777777777778, \"#fb9f3a\"], [0.8888888888888888, \"#fdca26\"], [1.0, \"#f0f921\"]], \"sequentialminus\": [[0.0, \"#0d0887\"], [0.1111111111111111, \"#46039f\"], [0.2222222222222222, \"#7201a8\"], [0.3333333333333333, \"#9c179e\"], [0.4444444444444444, \"#bd3786\"], [0.5555555555555556, \"#d8576b\"], [0.6666666666666666, \"#ed7953\"], [0.7777777777777778, \"#fb9f3a\"], [0.8888888888888888, \"#fdca26\"], [1.0, \"#f0f921\"]]}, \"colorway\": [\"#636efa\", \"#EF553B\", \"#00cc96\", \"#ab63fa\", \"#FFA15A\", \"#19d3f3\", \"#FF6692\", \"#B6E880\", \"#FF97FF\", \"#FECB52\"], \"font\": {\"color\": \"#2a3f5f\"}, \"geo\": {\"bgcolor\": \"white\", \"lakecolor\": \"white\", \"landcolor\": \"#E5ECF6\", \"showlakes\": true, \"showland\": true, \"subunitcolor\": \"white\"}, \"hoverlabel\": {\"align\": \"left\"}, \"hovermode\": \"closest\", \"mapbox\": {\"style\": \"light\"}, \"paper_bgcolor\": \"white\", \"plot_bgcolor\": \"#E5ECF6\", \"polar\": {\"angularaxis\": {\"gridcolor\": \"white\", \"linecolor\": \"white\", \"ticks\": \"\"}, \"bgcolor\": \"#E5ECF6\", \"radialaxis\": {\"gridcolor\": \"white\", \"linecolor\": \"white\", \"ticks\": \"\"}}, \"scene\": {\"xaxis\": {\"backgroundcolor\": \"#E5ECF6\", \"gridcolor\": \"white\", \"gridwidth\": 2, \"linecolor\": \"white\", \"showbackground\": true, \"ticks\": \"\", \"zerolinecolor\": \"white\"}, \"yaxis\": {\"backgroundcolor\": \"#E5ECF6\", \"gridcolor\": \"white\", \"gridwidth\": 2, \"linecolor\": \"white\", \"showbackground\": true, \"ticks\": \"\", \"zerolinecolor\": \"white\"}, \"zaxis\": {\"backgroundcolor\": \"#E5ECF6\", \"gridcolor\": \"white\", \"gridwidth\": 2, \"linecolor\": \"white\", \"showbackground\": true, \"ticks\": \"\", \"zerolinecolor\": \"white\"}}, \"shapedefaults\": {\"line\": {\"color\": \"#2a3f5f\"}}, \"ternary\": {\"aaxis\": {\"gridcolor\": \"white\", \"linecolor\": \"white\", \"ticks\": \"\"}, \"baxis\": {\"gridcolor\": \"white\", \"linecolor\": \"white\", \"ticks\": \"\"}, \"bgcolor\": \"#E5ECF6\", \"caxis\": {\"gridcolor\": \"white\", \"linecolor\": \"white\", \"ticks\": \"\"}}, \"title\": {\"x\": 0.05}, \"xaxis\": {\"automargin\": true, \"gridcolor\": \"white\", \"linecolor\": \"white\", \"ticks\": \"\", \"title\": {\"standoff\": 15}, \"zerolinecolor\": \"white\", \"zerolinewidth\": 2}, \"yaxis\": {\"automargin\": true, \"gridcolor\": \"white\", \"linecolor\": \"white\", \"ticks\": \"\", \"title\": {\"standoff\": 15}, \"zerolinecolor\": \"white\", \"zerolinewidth\": 2}}}, \"title\": {\"text\": \"Opiniones Positivas y Negativas con Textblob\"}},                        {\"responsive\": true}                    ).then(function(){\n",
       "                            \n",
       "var gd = document.getElementById('38e5f0dc-1af9-47e8-a7ee-81b9db4d61e5');\n",
       "var x = new MutationObserver(function (mutations, observer) {{\n",
       "        var display = window.getComputedStyle(gd).display;\n",
       "        if (!display || display === 'none') {{\n",
       "            console.log([gd, 'removed!']);\n",
       "            Plotly.purge(gd);\n",
       "            observer.disconnect();\n",
       "        }}\n",
       "}});\n",
       "\n",
       "// Listen for the removal of the full notebook cells\n",
       "var notebookContainer = gd.closest('#notebook-container');\n",
       "if (notebookContainer) {{\n",
       "    x.observe(notebookContainer, {childList: true});\n",
       "}}\n",
       "\n",
       "// Listen for the clearing of the current output cell\n",
       "var outputEl = gd.closest('.output');\n",
       "if (outputEl) {{\n",
       "    x.observe(outputEl, {childList: true});\n",
       "}}\n",
       "\n",
       "                        })                };                });            </script>        </div>"
      ]
     },
     "metadata": {},
     "output_type": "display_data"
    }
   ],
   "source": [
    "#Se grafica la cantidad de tuit por opiniones negativas y positivas que se generaron con la librería textblob\n",
    "datos_grafi = go.Bar(x=cant_tweet2.descrip_textblob.values[:10],\n",
    "                     y=cant_tweet2.cant.values[:10])\n",
    "\n",
    "grafica = go.Layout(title='Opiniones Positivas y Negativas con Textblob')\n",
    "\n",
    "figura = go.Figure(data=[datos_grafi], layout=grafica)\n",
    "iplot(figura)"
   ]
  },
  {
   "cell_type": "code",
   "execution_count": 52,
   "metadata": {},
   "outputs": [],
   "source": [
    "import regex\n",
    "import emoji\n",
    "\n",
    "def get_emojis(text):\n",
    "    emoji_list = []\n",
    "    data = regex.findall(r'\\X', text)\n",
    "    for word in data:\n",
    "        if any(char in emoji.UNICODE_EMOJI for char in word):\n",
    "            emoji_list.append(word)\n",
    "\n",
    "    return emoji_list\n",
    "\n",
    "data['emojis'] = data['clean'].apply(lambda text: get_emojis(text))"
   ]
  },
  {
   "cell_type": "code",
   "execution_count": 53,
   "metadata": {},
   "outputs": [
    {
     "data": {
      "text/html": [
       "<div>\n",
       "<style scoped>\n",
       "    .dataframe tbody tr th:only-of-type {\n",
       "        vertical-align: middle;\n",
       "    }\n",
       "\n",
       "    .dataframe tbody tr th {\n",
       "        vertical-align: top;\n",
       "    }\n",
       "\n",
       "    .dataframe thead th {\n",
       "        text-align: right;\n",
       "    }\n",
       "</style>\n",
       "<table border=\"1\" class=\"dataframe\">\n",
       "  <thead>\n",
       "    <tr style=\"text-align: right;\">\n",
       "      <th></th>\n",
       "      <th>tweet</th>\n",
       "      <th>date</th>\n",
       "      <th>city</th>\n",
       "      <th>clean</th>\n",
       "      <th>links</th>\n",
       "      <th>hashtags</th>\n",
       "      <th>mentions</th>\n",
       "      <th>fecha</th>\n",
       "      <th>tweet_p</th>\n",
       "      <th>sent_textblob</th>\n",
       "      <th>descrip_sent_textblob</th>\n",
       "      <th>emojis</th>\n",
       "    </tr>\n",
       "  </thead>\n",
       "  <tbody>\n",
       "    <tr>\n",
       "      <th>0</th>\n",
       "      <td>@moneytorxbox @LaAmbivalentte @JoMalagon @Ivan...</td>\n",
       "      <td>2021-06-10 15:22:55</td>\n",
       "      <td>Bogota</td>\n",
       "      <td>para poder aplicar te puedes acercar a...</td>\n",
       "      <td>[https://t.co/HQZslsQpay]</td>\n",
       "      <td>[]</td>\n",
       "      <td>[@moneytorxbox, @LaAmbivalentte, @JoMalagon, @...</td>\n",
       "      <td>2021-06-10</td>\n",
       "      <td>[moneytorxbox, laambivalentte, jomalagon, ivan...</td>\n",
       "      <td>0.0</td>\n",
       "      <td>POSITIVE</td>\n",
       "      <td>[]</td>\n",
       "    </tr>\n",
       "    <tr>\n",
       "      <th>1</th>\n",
       "      <td>@LaMega Yo conocí a @CaroCarreta  hace un año ...</td>\n",
       "      <td>2021-06-10 12:14:35</td>\n",
       "      <td>Bogota</td>\n",
       "      <td>Yo conocí a   hace un año saliendo del fondo ...</td>\n",
       "      <td>[]</td>\n",
       "      <td>[#MiRicoMañanero]</td>\n",
       "      <td>[@LaMega, @CaroCarreta]</td>\n",
       "      <td>2021-06-10</td>\n",
       "      <td>[lamega, conocí, carocarreta, hace, año, salie...</td>\n",
       "      <td>0.0</td>\n",
       "      <td>POSITIVE</td>\n",
       "      <td>[]</td>\n",
       "    </tr>\n",
       "    <tr>\n",
       "      <th>2</th>\n",
       "      <td>@LaAmbivalentte @JoMalagon @IvanDuque @infopre...</td>\n",
       "      <td>2021-06-09 14:25:09</td>\n",
       "      <td>Bogota</td>\n",
       "      <td>te debes acercar a las oficinas del Fon...</td>\n",
       "      <td>[https://t.co/HQZslsQpay]</td>\n",
       "      <td>[]</td>\n",
       "      <td>[@LaAmbivalentte, @JoMalagon, @IvanDuque, @inf...</td>\n",
       "      <td>2021-06-09</td>\n",
       "      <td>[laambivalentte, jomalagon, ivanduque, infopre...</td>\n",
       "      <td>0.0</td>\n",
       "      <td>POSITIVE</td>\n",
       "      <td>[]</td>\n",
       "    </tr>\n",
       "    <tr>\n",
       "      <th>3</th>\n",
       "      <td>@LaAmbivalentte @JoMalagon @carlosruizma @info...</td>\n",
       "      <td>2021-06-09 14:16:46</td>\n",
       "      <td>Bogota</td>\n",
       "      <td>para poder aplicar te puedes acercar a ...</td>\n",
       "      <td>[https://t.co/HQZslsQpay]</td>\n",
       "      <td>[]</td>\n",
       "      <td>[@LaAmbivalentte, @JoMalagon, @carlosruizma, @...</td>\n",
       "      <td>2021-06-09</td>\n",
       "      <td>[laambivalentte, jomalagon, carlosruizma, info...</td>\n",
       "      <td>0.0</td>\n",
       "      <td>POSITIVE</td>\n",
       "      <td>[]</td>\n",
       "    </tr>\n",
       "    <tr>\n",
       "      <th>4</th>\n",
       "      <td>#Nacional👉El Fondo Nacional del Ahorro obtuvo ...</td>\n",
       "      <td>2021-06-08 16:00:00</td>\n",
       "      <td>Bogota</td>\n",
       "      <td>Fondo Nacional del Ahorro obtuvo la valoració...</td>\n",
       "      <td>[https://t.co/BoKofbOBgq, https://t.co/rdi0YxB...</td>\n",
       "      <td>[#Nacional👉El]</td>\n",
       "      <td>[@FNAahorro, @SPGRatingsLatAm, @FNApresidente]</td>\n",
       "      <td>2021-06-08</td>\n",
       "      <td>[nacional, fondo, nacional, ahorro, obtuvo, va...</td>\n",
       "      <td>-0.2</td>\n",
       "      <td>NEGATIVE</td>\n",
       "      <td>[]</td>\n",
       "    </tr>\n",
       "  </tbody>\n",
       "</table>\n",
       "</div>"
      ],
      "text/plain": [
       "                                               tweet                date  \\\n",
       "0  @moneytorxbox @LaAmbivalentte @JoMalagon @Ivan... 2021-06-10 15:22:55   \n",
       "1  @LaMega Yo conocí a @CaroCarreta  hace un año ... 2021-06-10 12:14:35   \n",
       "2  @LaAmbivalentte @JoMalagon @IvanDuque @infopre... 2021-06-09 14:25:09   \n",
       "3  @LaAmbivalentte @JoMalagon @carlosruizma @info... 2021-06-09 14:16:46   \n",
       "4  #Nacional👉El Fondo Nacional del Ahorro obtuvo ... 2021-06-08 16:00:00   \n",
       "\n",
       "     city                                              clean  \\\n",
       "0  Bogota          para poder aplicar te puedes acercar a...   \n",
       "1  Bogota   Yo conocí a   hace un año saliendo del fondo ...   \n",
       "2  Bogota         te debes acercar a las oficinas del Fon...   \n",
       "3  Bogota         para poder aplicar te puedes acercar a ...   \n",
       "4  Bogota   Fondo Nacional del Ahorro obtuvo la valoració...   \n",
       "\n",
       "                                               links           hashtags  \\\n",
       "0                          [https://t.co/HQZslsQpay]                 []   \n",
       "1                                                 []  [#MiRicoMañanero]   \n",
       "2                          [https://t.co/HQZslsQpay]                 []   \n",
       "3                          [https://t.co/HQZslsQpay]                 []   \n",
       "4  [https://t.co/BoKofbOBgq, https://t.co/rdi0YxB...     [#Nacional👉El]   \n",
       "\n",
       "                                            mentions       fecha  \\\n",
       "0  [@moneytorxbox, @LaAmbivalentte, @JoMalagon, @...  2021-06-10   \n",
       "1                            [@LaMega, @CaroCarreta]  2021-06-10   \n",
       "2  [@LaAmbivalentte, @JoMalagon, @IvanDuque, @inf...  2021-06-09   \n",
       "3  [@LaAmbivalentte, @JoMalagon, @carlosruizma, @...  2021-06-09   \n",
       "4     [@FNAahorro, @SPGRatingsLatAm, @FNApresidente]  2021-06-08   \n",
       "\n",
       "                                             tweet_p  sent_textblob  \\\n",
       "0  [moneytorxbox, laambivalentte, jomalagon, ivan...            0.0   \n",
       "1  [lamega, conocí, carocarreta, hace, año, salie...            0.0   \n",
       "2  [laambivalentte, jomalagon, ivanduque, infopre...            0.0   \n",
       "3  [laambivalentte, jomalagon, carlosruizma, info...            0.0   \n",
       "4  [nacional, fondo, nacional, ahorro, obtuvo, va...           -0.2   \n",
       "\n",
       "  descrip_sent_textblob emojis  \n",
       "0              POSITIVE     []  \n",
       "1              POSITIVE     []  \n",
       "2              POSITIVE     []  \n",
       "3              POSITIVE     []  \n",
       "4              NEGATIVE     []  "
      ]
     },
     "execution_count": 53,
     "metadata": {},
     "output_type": "execute_result"
    }
   ],
   "source": [
    "data.head()"
   ]
  },
  {
   "cell_type": "code",
   "execution_count": 54,
   "metadata": {},
   "outputs": [
    {
     "data": {
      "text/html": [
       "<div>\n",
       "<style scoped>\n",
       "    .dataframe tbody tr th:only-of-type {\n",
       "        vertical-align: middle;\n",
       "    }\n",
       "\n",
       "    .dataframe tbody tr th {\n",
       "        vertical-align: top;\n",
       "    }\n",
       "\n",
       "    .dataframe thead th {\n",
       "        text-align: right;\n",
       "    }\n",
       "</style>\n",
       "<table border=\"1\" class=\"dataframe\">\n",
       "  <thead>\n",
       "    <tr style=\"text-align: right;\">\n",
       "      <th></th>\n",
       "      <th>fecha</th>\n",
       "      <th>cnt</th>\n",
       "    </tr>\n",
       "  </thead>\n",
       "  <tbody>\n",
       "    <tr>\n",
       "      <th>0</th>\n",
       "      <td>2021-06-03</td>\n",
       "      <td>5</td>\n",
       "    </tr>\n",
       "    <tr>\n",
       "      <th>3</th>\n",
       "      <td>2021-06-05</td>\n",
       "      <td>1</td>\n",
       "    </tr>\n",
       "    <tr>\n",
       "      <th>5</th>\n",
       "      <td>2021-06-07</td>\n",
       "      <td>1</td>\n",
       "    </tr>\n",
       "    <tr>\n",
       "      <th>4</th>\n",
       "      <td>2021-06-08</td>\n",
       "      <td>1</td>\n",
       "    </tr>\n",
       "    <tr>\n",
       "      <th>1</th>\n",
       "      <td>2021-06-09</td>\n",
       "      <td>2</td>\n",
       "    </tr>\n",
       "    <tr>\n",
       "      <th>2</th>\n",
       "      <td>2021-06-10</td>\n",
       "      <td>2</td>\n",
       "    </tr>\n",
       "  </tbody>\n",
       "</table>\n",
       "</div>"
      ],
      "text/plain": [
       "        fecha  cnt\n",
       "0  2021-06-03    5\n",
       "3  2021-06-05    1\n",
       "5  2021-06-07    1\n",
       "4  2021-06-08    1\n",
       "1  2021-06-09    2\n",
       "2  2021-06-10    2"
      ]
     },
     "execution_count": 54,
     "metadata": {},
     "output_type": "execute_result"
    }
   ],
   "source": [
    "data['fecha'] = data.date.dt.date\n",
    "temp = pd.DataFrame(data.fecha.value_counts()).reset_index()\n",
    "temp.columns = ['fecha', 'cnt']\n",
    "temp = temp.sort_values('fecha')\n",
    "temp"
   ]
  },
  {
   "cell_type": "markdown",
   "metadata": {},
   "source": [
    "# ¿Cuál es el tuit más positivo y más negativo?"
   ]
  },
  {
   "cell_type": "code",
   "execution_count": 59,
   "metadata": {},
   "outputs": [
    {
     "data": {
      "text/plain": [
       "array([[\" Fondo Nacional del Ahorro obtuvo la valoración AAA a cargo de Standard y Poor's.\\n             \\n     \\n\\nMás detalles.\\n \",\n",
       "        -0.2]], dtype=object)"
      ]
     },
     "execution_count": 59,
     "metadata": {},
     "output_type": "execute_result"
    }
   ],
   "source": [
    "#El más negativo\n",
    "data[['clean','sent_textblob']].sort_values('sent_textblob').head(1).values"
   ]
  },
  {
   "cell_type": "code",
   "execution_count": 60,
   "metadata": {},
   "outputs": [
    {
     "data": {
      "text/plain": [
       "array([['  2/2 del 90% es el Fondo Nacional del Ahorro.  Para mayor información puede ingresar en el siguiente link:  o se puede comunicar a través de nuestros canales de atención al ciudadano ingresando en el link: ',\n",
       "        0.05]], dtype=object)"
      ]
     },
     "execution_count": 60,
     "metadata": {},
     "output_type": "execute_result"
    }
   ],
   "source": [
    "#El más positivo\n",
    "data[['clean','sent_textblob']].sort_values('sent_textblob').tail(1).values"
   ]
  },
  {
   "cell_type": "markdown",
   "metadata": {},
   "source": [
    "# ¿Cuántos tuits positivos/negativos hay en los Datos?¶"
   ]
  },
  {
   "cell_type": "code",
   "execution_count": 62,
   "metadata": {},
   "outputs": [
    {
     "name": "stdout",
     "output_type": "stream",
     "text": [
      "Método: sent_textblob\n",
      "* Cantidad de Tuits Negativos: 2\n",
      "* Cantidad de Tuits Positivos: 3\n",
      "* Cantidad de Tuits Neutros: 7\n",
      "##############\n"
     ]
    }
   ],
   "source": [
    "columnas = ['sent_textblob']\n",
    "\n",
    "tweetsByMethod = []\n",
    "\n",
    "for columna in columnas:\n",
    "    lista = []\n",
    "    print(f\"Método: {columna}\")\n",
    "    print(f\"* Cantidad de Tuits Negativos: {len(data[data[columna]<0])}\")\n",
    "    print(f\"* Cantidad de Tuits Positivos: {len(data[data[columna]>0])}\")\n",
    "    print(f\"* Cantidad de Tuits Neutros: {len(data[data[columna]==0])}\")\n",
    "    lista.append(columna)\n",
    "    lista.append(len(data[data[columna]<0]))\n",
    "    lista.append(len(data[data[columna]>0]))\n",
    "    lista.append(len(data[data[columna]==0]))\n",
    "    print(\"##############\")\n",
    "    tweetsByMethod.append(lista)\n",
    "dfTbM = pd.DataFrame(tweetsByMethod)\n",
    "dfTbM.columns = ['Método', 'numNegativos', 'numPositivos', 'numNeutros']"
   ]
  },
  {
   "cell_type": "markdown",
   "metadata": {},
   "source": [
    "# Nubes de palabras por sentimiento"
   ]
  },
  {
   "cell_type": "code",
   "execution_count": 63,
   "metadata": {},
   "outputs": [],
   "source": [
    "dataPositiva = data[data['sent_textblob']>0]\n",
    "dataNegativa = data[data['sent_textblob']<0]\n",
    "textoPositivo = dataPositiva.clean.str.cat(sep=\" \")\n",
    "textoNegativo = dataNegativa.clean.str.cat(sep=\" \")\n",
    "#"
   ]
  },
  {
   "cell_type": "code",
   "execution_count": 64,
   "metadata": {},
   "outputs": [
    {
     "data": {
      "image/png": "[encoded data removed]",
      "text/plain": [
       "<Figure size 720x576 with 1 Axes>"
      ]
     },
     "metadata": {
      "needs_background": "light"
     },
     "output_type": "display_data"
    }
   ],
   "source": [
    "fna = PIL.Image.open(\"OT#3089 Solicitud Logo editable -02.png\")\n",
    "colMask = np.array(fna)\n",
    "wordcloud = WordCloud(width=1000, height=500,\n",
    "                     max_font_size= 150, max_words=400,\n",
    "                     background_color='black',\n",
    "                      mask=colMask,\n",
    "                     colormap='Blues',\n",
    "                     stopwords=stopwords).generate(textoPositivo)\n",
    "\n",
    "plt.figure(figsize=(10,8))\n",
    "plt.imshow(wordcloud, interpolation='bilinear')\n",
    "plt.axis(\"off\")\n",
    "plt.tight_layout(pad=0)\n",
    "plt.show()"
   ]
  },
  {
   "cell_type": "code",
   "execution_count": null,
   "metadata": {},
   "outputs": [],
   "source": []
  }
 ],
 "metadata": {
  "kernelspec": {
   "display_name": "Python 3",
   "language": "python",
   "name": "python3"
  },
  "language_info": {
   "codemirror_mode": {
    "name": "ipython",
    "version": 3
   },
   "file_extension": ".py",
   "mimetype": "text/x-python",
   "name": "python",
   "nbconvert_exporter": "python",
   "pygments_lexer": "ipython3",
   "version": "3.8.5"
  }
 },
 "nbformat": 4,
 "nbformat_minor": 2
}
