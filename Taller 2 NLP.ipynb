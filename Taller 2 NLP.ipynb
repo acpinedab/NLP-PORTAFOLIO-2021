{
 "cells": [
  {
   "cell_type": "code",
   "execution_count": 81,
   "metadata": {},
   "outputs": [],
   "source": [
    "import pandas as pd"
   ]
  },
  {
   "cell_type": "code",
   "execution_count": 7,
   "metadata": {},
   "outputs": [],
   "source": [
    "import os\n",
    "from zipfile import ZipFile"
   ]
  },
  {
   "cell_type": "code",
   "execution_count": 8,
   "metadata": {},
   "outputs": [],
   "source": [
    "direccion = 'python_books.zip'"
   ]
  },
  {
   "cell_type": "code",
   "execution_count": 9,
   "metadata": {},
   "outputs": [
    {
     "data": {
      "text/plain": [
       "'python_books.zip'"
      ]
     },
     "execution_count": 9,
     "metadata": {},
     "output_type": "execute_result"
    }
   ],
   "source": [
    "direccion"
   ]
  },
  {
   "cell_type": "code",
   "execution_count": 11,
   "metadata": {},
   "outputs": [],
   "source": [
    "#1. Descomprimir Archivo .Zip\n",
    "with ZipFile(direccion) as archivo:\n",
    "    archivo.extractall()"
   ]
  },
  {
   "cell_type": "code",
   "execution_count": 21,
   "metadata": {},
   "outputs": [
    {
     "name": "stdout",
     "output_type": "stream",
     "text": [
      "('python_books', [], ['Python  Data Science Cookbook.pdf', 'Python - AWS.pdf', 'Python - Finance.pdf'])\n"
     ]
    }
   ],
   "source": [
    "for archivo in os.walk('python_books'):\n",
    "    print(archivo)"
   ]
  },
  {
   "cell_type": "code",
   "execution_count": 22,
   "metadata": {},
   "outputs": [
    {
     "name": "stdout",
     "output_type": "stream",
     "text": [
      "Python  Data Science Cookbook.pdf\n",
      "Python - AWS.pdf\n",
      "Python - Finance.pdf\n"
     ]
    }
   ],
   "source": [
    "for raiz, dirs, archivos in os.walk('python_books'):\n",
    "    #print(raiz, dirs, archivos)\n",
    "    for a in archivos:\n",
    "        print(a)"
   ]
  },
  {
   "cell_type": "code",
   "execution_count": 23,
   "metadata": {},
   "outputs": [
    {
     "name": "stdout",
     "output_type": "stream",
     "text": [
      "Collecting PyMuPDF\n",
      "  Downloading PyMuPDF-1.18.9-cp38-cp38-win_amd64.whl (5.3 MB)\n",
      "Installing collected packages: PyMuPDF\n",
      "Successfully installed PyMuPDF-1.18.9\n"
     ]
    }
   ],
   "source": [
    "#Leer archivos\n",
    "! pip install PyMuPDF"
   ]
  },
  {
   "cell_type": "code",
   "execution_count": 3,
   "metadata": {},
   "outputs": [],
   "source": [
    "import fitz"
   ]
  },
  {
   "cell_type": "code",
   "execution_count": 4,
   "metadata": {},
   "outputs": [],
   "source": [
    "documento = fitz.open('Python - AWS.pdf')"
   ]
  },
  {
   "cell_type": "code",
   "execution_count": 5,
   "metadata": {},
   "outputs": [
    {
     "name": "stdout",
     "output_type": "stream",
     "text": [
      "Numero de paginas:  1\n",
      "Metados:  {'format': 'PDF 1.3', 'title': '', 'author': '', 'subject': '', 'keywords': '', 'creator': 'Adobe InDesign CS6 (Windows)', 'producer': 'macOS Version 11.2.1 (Build 20D74) Quartz PDFContext', 'creationDate': \"D:20210225223227Z00'00'\", 'modDate': \"D:20210225223227Z00'00'\", 'trapped': '', 'encryption': None}\n"
     ]
    }
   ],
   "source": [
    "print(\"Numero de paginas: \", documento.pageCount)\n",
    "print(\"Metados: \", documento.metadata)"
   ]
  },
  {
   "cell_type": "code",
   "execution_count": 6,
   "metadata": {},
   "outputs": [
    {
     "name": "stdout",
     "output_type": "stream",
     "text": [
      "[ vii ]\n",
      "Preface\n",
      "With an increasing interest in leveraging cloud infrastructure around the world, the \n",
      "AWS cloud from Amazon offers a cutting-edge platform for architecting, building, \n",
      "and deploying web-scale cloud applications through a user-friendly interface. The \n",
      "variety of features available within AWS can reduce overall infrastructure costs and \n",
      "accelerate the development process for both large enterprises and start-ups alike.\n",
      "Learning AWS covers basic, intermediate, and advanced features and concepts  \n",
      "as they relate to designing, developing, and deploying scalable, highly available,  \n",
      "and secure applications on the AWS platform. By sequentially working through  \n",
      "the steps in each chapter, you will quickly master the features of AWS to create an \n",
      "enterprise-grade cloud application. We use a three-tiered services-oriented sample \n",
      "application for extensive hands-on exercises.\n",
      "This book will not only teach you about the AWS components, but you will gain \n",
      "valuable information about key concepts such as multi-tenancy, auto scaling, \n",
      "planning, implementing application development environments, addressing \n",
      "application security concerns, and so on. You will also learn how these concepts \n",
      "relate to cost effective architectural decisions while designing scalable, highly \n",
      "available, and secure AWS cloud applications.\n",
      "A step-by-step approach to cloud application design and implementation is explained \n",
      "in a conversational and easy-to-follow style. Each topic is explained sequentially in \n",
      "the process of creating an AWS cloud application. Detailed explanations of the basic \n",
      "and advanced features of AWS that address the needs of readers with a wide range \n",
      "of real-world experiences are also included. Expert programmers and architects will \n",
      "appreciate the focus on the practice rather than the theory.\n",
      "\n"
     ]
    }
   ],
   "source": [
    "pagina = documento.loadPage(0)\n",
    "texto = pagina.getText(\"text\")\n",
    "print(texto)\n"
   ]
  },
  {
   "cell_type": "code",
   "execution_count": 13,
   "metadata": {},
   "outputs": [
    {
     "name": "stdout",
     "output_type": "stream",
     "text": [
      "Numero de paginas:  1\n",
      "Metados:  {'format': 'PDF 1.3', 'title': 'Python for Finance', 'author': 'Yuxing Yan', 'subject': '', 'keywords': '', 'creator': 'Adobe InDesign CS6 (Windows)', 'producer': 'macOS Version 11.2.1 (Build 20D74) Quartz PDFContext', 'creationDate': \"D:20210225223246Z00'00'\", 'modDate': \"D:20210225223246Z00'00'\", 'trapped': '', 'encryption': None}\n",
      "Preface\n",
      "It is our firm belief that an ambitious student major in finance should learn at least \n",
      "one computer language. The basic reason is that we have entered the Big Data era. \n",
      "In finance, we have a huge amount of data, and most of it is publically available free \n",
      "of charge. To use such rich sources of data efficiently, we need a tool. Among many \n",
      "potential candidates, Python is one of the best choices.\n",
      "Why Python?\n",
      "There are various reasons that Python should be used. Firstly, Python is free in terms \n",
      "of license. Python is available for all major operating systems, such as Windows, \n",
      "Linux/Unix, OS/2, Mac, and Amiga, among others. Being free has many benefits. \n",
      "When students graduate, they could apply what they have learned wherever they \n",
      "go. This is true for the financial community as well. In contrast, this is not true for \n",
      "SAS and MATLAB. Secondly, Python is powerful, flexible, and easy to learn. It is \n",
      "capable of solving almost all our financial and economic estimations. Thirdly, we \n",
      "could apply Python to Big Data. Dasgupta (2013) argues that R and Python are two \n",
      "of the most popular open source programming languages for data analysis. Fourthly, \n",
      "there are many useful modules in Python. Each model is developed for a special \n",
      "purpose. In this book, we focus on NumPy, SciPy, Matplotlib, Statsmodels, and \n",
      "Pandas modules.\n",
      "\n"
     ]
    }
   ],
   "source": [
    "documento1 = fitz.open('Python - Finance.pdf')\n",
    "print(\"Numero de paginas: \", documento.pageCount)\n",
    "print(\"Metados: \", documento1.metadata)\n",
    "pagina = documento1.loadPage(0)\n",
    "texto1 = pagina.getText(\"text\")\n",
    "print(texto1)"
   ]
  },
  {
   "cell_type": "code",
   "execution_count": null,
   "metadata": {},
   "outputs": [],
   "source": [
    "documento2 = fitz.open('Python  Data Science Cookbook')\n",
    "print(\"Numero de paginas: \", documento.pageCount)\n",
    "print(\"Metados: \", documento2.metadata)\n",
    "pagina = documento1.loadPage(0)\n",
    "texto = pagina.getText(\"text\")\n",
    "print(texto)"
   ]
  },
  {
   "cell_type": "code",
   "execution_count": 24,
   "metadata": {},
   "outputs": [
    {
     "name": "stdout",
     "output_type": "stream",
     "text": [
      "['Preface', 'It', 'is', 'our', 'firm', 'belief', 'that', 'an', 'ambitious', 'student', 'major', 'in', 'finance', 'should', 'learn', 'at', 'least', 'one', 'computer', 'language.', 'The', 'basic', 'reason', 'is', 'that', 'we', 'have', 'entered', 'the', 'Big', 'Data', 'era.', 'In', 'finance,', 'we', 'have', 'a', 'huge', 'amount', 'of', 'data,', 'and', 'most', 'of', 'it', 'is', 'publically', 'available', 'free', 'of', 'charge.', 'To', 'use', 'such', 'rich', 'sources', 'of', 'data', 'efficiently,', 'we', 'need', 'a', 'tool.', 'Among', 'many', 'potential', 'candidates,', 'Python', 'is', 'one', 'of', 'the', 'best', 'choices.', 'Why', 'Python?', 'There', 'are', 'various', 'reasons', 'that', 'Python', 'should', 'be', 'used.', 'Firstly,', 'Python', 'is', 'free', 'in', 'terms', 'of', 'license.', 'Python', 'is', 'available', 'for', 'all', 'major', 'operating', 'systems,', 'such', 'as', 'Windows,', 'Linux/Unix,', 'OS/2,', 'Mac,', 'and', 'Amiga,', 'among', 'others.', 'Being', 'free', 'has', 'many', 'benefits.', 'When', 'students', 'graduate,', 'they', 'could', 'apply', 'what', 'they', 'have', 'learned', 'wherever', 'they', 'go.', 'This', 'is', 'true', 'for', 'the', 'financial', 'community', 'as', 'well.', 'In', 'contrast,', 'this', 'is', 'not', 'true', 'for', 'SAS', 'and', 'MATLAB.', 'Secondly,', 'Python', 'is', 'powerful,', 'flexible,', 'and', 'easy', 'to', 'learn.', 'It', 'is', 'capable', 'of', 'solving', 'almost', 'all', 'our', 'financial', 'and', 'economic', 'estimations.', 'Thirdly,', 'we', 'could', 'apply', 'Python', 'to', 'Big', 'Data.', 'Dasgupta', '(2013)', 'argues', 'that', 'R', 'and', 'Python', 'are', 'two', 'of', 'the', 'most', 'popular', 'open', 'source', 'programming', 'languages', 'for', 'data', 'analysis.', 'Fourthly,', 'there', 'are', 'many', 'useful', 'modules', 'in', 'Python.', 'Each', 'model', 'is', 'developed', 'for', 'a', 'special', 'purpose.', 'In', 'this', 'book,', 'we', 'focus', 'on', 'NumPy,', 'SciPy,', 'Matplotlib,', 'Statsmodels,', 'and', 'Pandas', 'modules.']\n"
     ]
    }
   ],
   "source": [
    "palabras = texto1.split()\n",
    "num_palabras = len(palabras)\n",
    "print(palabras)\n"
   ]
  },
  {
   "cell_type": "code",
   "execution_count": 27,
   "metadata": {},
   "outputs": [],
   "source": [
    "frecuenciaPalab = []\n",
    "for w in palabras:\n",
    "    frecuenciaPalab.append(palabras.count(w))"
   ]
  },
  {
   "cell_type": "code",
   "execution_count": 28,
   "metadata": {},
   "outputs": [
    {
     "name": "stdout",
     "output_type": "stream",
     "text": [
      "Frecuencias\n",
      "[1, 2, 11, 2, 1, 1, 4, 1, 1, 1, 2, 3, 1, 2, 1, 1, 1, 2, 1, 1, 1, 1, 1, 11, 4, 5, 3, 1, 4, 2, 1, 1, 3, 1, 5, 3, 3, 1, 1, 8, 1, 7, 2, 8, 1, 11, 1, 2, 3, 8, 1, 1, 1, 2, 1, 1, 8, 2, 1, 5, 1, 3, 1, 1, 3, 1, 1, 7, 11, 2, 8, 4, 1, 1, 1, 1, 1, 3, 1, 1, 4, 7, 2, 1, 1, 1, 7, 11, 3, 3, 1, 8, 1, 7, 11, 2, 5, 2, 2, 1, 1, 2, 2, 1, 1, 1, 1, 7, 1, 1, 1, 1, 3, 1, 3, 1, 1, 1, 1, 3, 2, 2, 1, 3, 3, 1, 1, 3, 1, 1, 11, 2, 5, 4, 2, 1, 2, 1, 3, 1, 2, 11, 1, 2, 5, 1, 7, 1, 1, 7, 11, 1, 1, 7, 1, 2, 1, 2, 11, 1, 8, 1, 1, 2, 2, 2, 7, 1, 1, 1, 5, 2, 2, 7, 2, 2, 1, 1, 1, 1, 4, 1, 7, 7, 3, 1, 8, 4, 2, 1, 1, 1, 1, 1, 5, 2, 1, 1, 1, 3, 3, 1, 1, 3, 1, 1, 1, 11, 1, 5, 3, 1, 1, 3, 2, 1, 5, 1, 1, 1, 1, 1, 1, 7, 1, 1]\n",
      "\n"
     ]
    }
   ],
   "source": [
    "print(\"Frecuencias\\n\" + str(frecuenciaPalab) + \"\\n\")"
   ]
  },
  {
   "cell_type": "code",
   "execution_count": 31,
   "metadata": {},
   "outputs": [
    {
     "name": "stdout",
     "output_type": "stream",
     "text": [
      "['Preface', 'It', 'is', 'our', 'firm', 'belief', 'that', 'an', 'ambitious', 'student', 'major', 'in', 'finance', 'should', 'learn', 'at', 'least', 'one', 'computer', 'language.', 'The', 'basic', 'reason', 'is', 'that', 'we', 'have', 'entered', 'the', 'Big', 'Data', 'era.', 'In', 'finance,', 'we', 'have', 'a', 'huge', 'amount', 'of', 'data,', 'and', 'most', 'of', 'it', 'is', 'publically', 'available', 'free', 'of', 'charge.', 'To', 'use', 'such', 'rich', 'sources', 'of', 'data', 'efficiently,', 'we', 'need', 'a', 'tool.', 'Among', 'many', 'potential', 'candidates,', 'Python', 'is', 'one', 'of', 'the', 'best', 'choices.', 'Why', 'Python?', 'There', 'are', 'various', 'reasons', 'that', 'Python', 'should', 'be', 'used.', 'Firstly,', 'Python', 'is', 'free', 'in', 'terms', 'of', 'license.', 'Python', 'is', 'available', 'for', 'all', 'major', 'operating', 'systems,', 'such', 'as', 'Windows,', 'Linux/Unix,', 'OS/2,', 'Mac,', 'and', 'Amiga,', 'among', 'others.', 'Being', 'free', 'has', 'many', 'benefits.', 'When', 'students', 'graduate,', 'they', 'could', 'apply', 'what', 'they', 'have', 'learned', 'wherever', 'they', 'go.', 'This', 'is', 'true', 'for', 'the', 'financial', 'community', 'as', 'well.', 'In', 'contrast,', 'this', 'is', 'not', 'true', 'for', 'SAS', 'and', 'MATLAB.', 'Secondly,', 'Python', 'is', 'powerful,', 'flexible,', 'and', 'easy', 'to', 'learn.', 'It', 'is', 'capable', 'of', 'solving', 'almost', 'all', 'our', 'financial', 'and', 'economic', 'estimations.', 'Thirdly,', 'we', 'could', 'apply', 'Python', 'to', 'Big', 'Data.', 'Dasgupta', '(2013)', 'argues', 'that', 'R', 'and', 'Python', 'are', 'two', 'of', 'the', 'most', 'popular', 'open', 'source', 'programming', 'languages', 'for', 'data', 'analysis.', 'Fourthly,', 'there', 'are', 'many', 'useful', 'modules', 'in', 'Python.', 'Each', 'model', 'is', 'developed', 'for', 'a', 'special', 'purpose.', 'In', 'this', 'book,', 'we', 'focus', 'on', 'NumPy,', 'SciPy,', 'Matplotlib,', 'Statsmodels,', 'and', 'Pandas', 'modules.']\n"
     ]
    }
   ],
   "source": [
    "palabras1 = texto.split()\n",
    "num_palabras1 = len(palabras1)\n",
    "print(palabras1)"
   ]
  },
  {
   "cell_type": "code",
   "execution_count": 33,
   "metadata": {},
   "outputs": [],
   "source": [
    "frecuenciaPalab1 = []\n",
    "for w in palabras1:\n",
    "    frecuenciaPalab1.append(palabras1.count(w))\n",
    "    "
   ]
  },
  {
   "cell_type": "code",
   "execution_count": 34,
   "metadata": {},
   "outputs": [
    {
     "name": "stdout",
     "output_type": "stream",
     "text": [
      "Frecuencias\n",
      "[1, 2, 11, 2, 1, 1, 4, 1, 1, 1, 2, 3, 1, 2, 1, 1, 1, 2, 1, 1, 1, 1, 1, 11, 4, 5, 3, 1, 4, 2, 1, 1, 3, 1, 5, 3, 3, 1, 1, 8, 1, 7, 2, 8, 1, 11, 1, 2, 3, 8, 1, 1, 1, 2, 1, 1, 8, 2, 1, 5, 1, 3, 1, 1, 3, 1, 1, 7, 11, 2, 8, 4, 1, 1, 1, 1, 1, 3, 1, 1, 4, 7, 2, 1, 1, 1, 7, 11, 3, 3, 1, 8, 1, 7, 11, 2, 5, 2, 2, 1, 1, 2, 2, 1, 1, 1, 1, 7, 1, 1, 1, 1, 3, 1, 3, 1, 1, 1, 1, 3, 2, 2, 1, 3, 3, 1, 1, 3, 1, 1, 11, 2, 5, 4, 2, 1, 2, 1, 3, 1, 2, 11, 1, 2, 5, 1, 7, 1, 1, 7, 11, 1, 1, 7, 1, 2, 1, 2, 11, 1, 8, 1, 1, 2, 2, 2, 7, 1, 1, 1, 5, 2, 2, 7, 2, 2, 1, 1, 1, 1, 4, 1, 7, 7, 3, 1, 8, 4, 2, 1, 1, 1, 1, 1, 5, 2, 1, 1, 1, 3, 3, 1, 1, 3, 1, 1, 1, 11, 1, 5, 3, 1, 1, 3, 2, 1, 5, 1, 1, 1, 1, 1, 1, 7, 1, 1]\n",
      "\n"
     ]
    }
   ],
   "source": [
    "print(\"Frecuencias\\n\" + str(frecuenciaPalab1) + \"\\n\")"
   ]
  }
 ],
 "metadata": {
  "kernelspec": {
   "display_name": "Python 3",
   "language": "python",
   "name": "python3"
  },
  "language_info": {
   "codemirror_mode": {
    "name": "ipython",
    "version": 3
   },
   "file_extension": ".py",
   "mimetype": "text/x-python",
   "name": "python",
   "nbconvert_exporter": "python",
   "pygments_lexer": "ipython3",
   "version": "3.8.5"
  }
 },
 "nbformat": 4,
 "nbformat_minor": 4
}
